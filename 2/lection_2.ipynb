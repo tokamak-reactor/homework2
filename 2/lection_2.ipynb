{
 "cells": [
  {
   "metadata": {},
   "cell_type": "markdown",
   "source": "# Лекция 2",
   "id": "8a5b87728f5aaada"
  },
  {
   "metadata": {},
   "cell_type": "markdown",
   "source": "## Суммирование значений и другие агрегатные функции\n",
   "id": "87d989c22daca5f8"
  },
  {
   "metadata": {
    "ExecuteTime": {
     "end_time": "2025-01-26T19:46:06.378904Z",
     "start_time": "2025-01-26T19:46:06.372851Z"
    }
   },
   "cell_type": "code",
   "source": [
    "import numpy as np\n",
    "\n",
    "rng = np.random.default_rng(1)\n",
    "s = rng.random(50)\n",
    "\n",
    "print(s)\n",
    "\n",
    "print(sum(s))\n",
    "\n",
    "print(np.sum(s))\n"
   ],
   "id": "21e74989af4ce029",
   "outputs": [
    {
     "name": "stdout",
     "output_type": "stream",
     "text": [
      "[0.51182162 0.9504637  0.14415961 0.94864945 0.31183145 0.42332645\n",
      " 0.82770259 0.40919914 0.54959369 0.02755911 0.75351311 0.53814331\n",
      " 0.32973172 0.7884287  0.30319483 0.45349789 0.1340417  0.40311299\n",
      " 0.20345524 0.26231334 0.75036467 0.28040876 0.48519097 0.9807372\n",
      " 0.96165719 0.72478994 0.54122686 0.2768912  0.16065201 0.96992541\n",
      " 0.51606859 0.11586561 0.62348976 0.77668311 0.6130033  0.9172977\n",
      " 0.03959288 0.52858926 0.45933588 0.06234958 0.64132817 0.85263284\n",
      " 0.59294102 0.26009745 0.83988152 0.50949588 0.51088888 0.75303021\n",
      " 0.14792204 0.81962672]\n",
      "25.985704258037675\n",
      "25.98570425803768\n"
     ]
    }
   ],
   "execution_count": 167
  },
  {
   "metadata": {
    "ExecuteTime": {
     "end_time": "2025-01-26T19:46:06.658699Z",
     "start_time": "2025-01-26T19:46:06.652149Z"
    }
   },
   "cell_type": "code",
   "source": [
    "a = np.array([[1, 2, 3, 4, 5], [6, 7, 8, 9, 10]])\n",
    "print(np.sum(a))\n",
    "print(np.sum(a, axis=0))\n",
    "print(np.sum(a, axis=1))\n"
   ],
   "id": "6a487f578bdbd169",
   "outputs": [
    {
     "name": "stdout",
     "output_type": "stream",
     "text": [
      "55\n",
      "[ 7  9 11 13 15]\n",
      "[15 40]\n"
     ]
    }
   ],
   "execution_count": 168
  },
  {
   "metadata": {
    "ExecuteTime": {
     "end_time": "2025-01-26T19:46:06.680719Z",
     "start_time": "2025-01-26T19:46:06.673843Z"
    }
   },
   "cell_type": "code",
   "source": [
    "print(np.min(a))\n",
    "print(np.min(a, axis=0))\n",
    "print(np.min(a, axis=1))"
   ],
   "id": "f39049a1b4f78df9",
   "outputs": [
    {
     "name": "stdout",
     "output_type": "stream",
     "text": [
      "1\n",
      "[1 2 3 4 5]\n",
      "[1 6]\n"
     ]
    }
   ],
   "execution_count": 169
  },
  {
   "metadata": {
    "ExecuteTime": {
     "end_time": "2025-01-26T19:46:06.722530Z",
     "start_time": "2025-01-26T19:46:06.716347Z"
    }
   },
   "cell_type": "code",
   "source": [
    "print(a.min())\n",
    "print(a.min(0))\n",
    "print(a.min(1))"
   ],
   "id": "9ce7604ec4dfc38f",
   "outputs": [
    {
     "name": "stdout",
     "output_type": "stream",
     "text": [
      "1\n",
      "[1 2 3 4 5]\n",
      "[1 6]\n"
     ]
    }
   ],
   "execution_count": 170
  },
  {
   "metadata": {
    "ExecuteTime": {
     "end_time": "2025-01-26T19:46:06.766810Z",
     "start_time": "2025-01-26T19:46:06.762073Z"
    }
   },
   "cell_type": "code",
   "source": [
    "print(np.nanmin(a))\n",
    "print(np.nanmin(a, axis=0))\n",
    "print(np.nanmin(a, axis=1))"
   ],
   "id": "f4ae0a8d67c3273b",
   "outputs": [
    {
     "name": "stdout",
     "output_type": "stream",
     "text": [
      "1\n",
      "[1 2 3 4 5]\n",
      "[1 6]\n"
     ]
    }
   ],
   "execution_count": 171
  },
  {
   "metadata": {},
   "cell_type": "markdown",
   "source": "## Транслирование (broadcasting)",
   "id": "81d98ca54c0e15c9"
  },
  {
   "metadata": {},
   "cell_type": "markdown",
   "source": "Набор правил, которые позволяют осуществять бинарные операции с массивами разных форм и размеров",
   "id": "f6d7c3527c067688"
  },
  {
   "metadata": {
    "ExecuteTime": {
     "end_time": "2025-01-26T19:46:06.791947Z",
     "start_time": "2025-01-26T19:46:06.786804Z"
    }
   },
   "cell_type": "code",
   "source": [
    "a = np.array([0, 1, 2])\n",
    "b = np.array([5, 5, 5])\n",
    "print(a+b)"
   ],
   "id": "448e6a818b47f894",
   "outputs": [
    {
     "name": "stdout",
     "output_type": "stream",
     "text": [
      "[5 6 7]\n"
     ]
    }
   ],
   "execution_count": 172
  },
  {
   "metadata": {
    "ExecuteTime": {
     "end_time": "2025-01-26T19:46:06.824641Z",
     "start_time": "2025-01-26T19:46:06.820254Z"
    }
   },
   "cell_type": "code",
   "source": "print(a+5) # 5 транслируется в массив [5, 5, 5], подстраивается под размер первого слагаемого",
   "id": "11ede39e6d0fd4c8",
   "outputs": [
    {
     "name": "stdout",
     "output_type": "stream",
     "text": [
      "[5 6 7]\n"
     ]
    }
   ],
   "execution_count": 173
  },
  {
   "metadata": {
    "ExecuteTime": {
     "end_time": "2025-01-26T19:46:06.854629Z",
     "start_time": "2025-01-26T19:46:06.849630Z"
    }
   },
   "cell_type": "code",
   "source": [
    "a = np.array([[0, 1, 2], [3, 4, 5]])\n",
    "print(a+5)"
   ],
   "id": "891b85c43b526538",
   "outputs": [
    {
     "name": "stdout",
     "output_type": "stream",
     "text": [
      "[[ 5  6  7]\n",
      " [ 8  9 10]]\n"
     ]
    }
   ],
   "execution_count": 174
  },
  {
   "metadata": {
    "ExecuteTime": {
     "end_time": "2025-01-26T19:46:06.912811Z",
     "start_time": "2025-01-26T19:46:06.908462Z"
    }
   },
   "cell_type": "code",
   "source": [
    "a = np.array([0, 1, 2])\n",
    "b = np.array([[0], [1], [2]]) \n",
    "print(a+b)"
   ],
   "id": "e8726f808c0bd457",
   "outputs": [
    {
     "name": "stdout",
     "output_type": "stream",
     "text": [
      "[[0 1 2]\n",
      " [1 2 3]\n",
      " [2 3 4]]\n"
     ]
    }
   ],
   "execution_count": 175
  },
  {
   "metadata": {},
   "cell_type": "markdown",
   "source": [
    "## Правила транслирования\n",
    "1. Если размерности массива отличаются, то форма массива с меньшей дополняется 1 с левой стороны"
   ],
   "id": "f11760391e0c1a61"
  },
  {
   "metadata": {
    "ExecuteTime": {
     "end_time": "2025-01-26T19:46:06.946104Z",
     "start_time": "2025-01-26T19:46:06.941361Z"
    }
   },
   "cell_type": "code",
   "source": [
    "a = np.array([[0, 1, 2], [3, 4, 5]])\n",
    "b = np.array([5])\n",
    "print(a.shape)\n",
    "print(b.shape)\n",
    "\n",
    "print(a+b)"
   ],
   "id": "d618f835c43a334d",
   "outputs": [
    {
     "name": "stdout",
     "output_type": "stream",
     "text": [
      "(2, 3)\n",
      "(1,)\n",
      "[[ 5  6  7]\n",
      " [ 8  9 10]]\n"
     ]
    }
   ],
   "execution_count": 176
  },
  {
   "metadata": {},
   "cell_type": "markdown",
   "source": [
    "(1, ) -> (1, 1)\n",
    "\n",
    "2. Если формы массивов не совпадают в каком-то измерении и в этом измерении размер 1, то размер становится соответствующим другому массиву (через \"растяжение\").\n",
    "3. Если после применения этих правил в каком-либо измерении размеры все ещё отличаются, то возвращается ошибка"
   ],
   "id": "e1ded4ec3ad4c0a0"
  },
  {
   "metadata": {
    "ExecuteTime": {
     "end_time": "2025-01-26T19:46:07.004037Z",
     "start_time": "2025-01-26T19:46:06.999029Z"
    }
   },
   "cell_type": "code",
   "source": [
    "a = np.ones((2, 3))\n",
    "b = np.arange(3)\n",
    "print(a.shape)\n",
    "print(b.shape)"
   ],
   "id": "1e9467c5bd0c2187",
   "outputs": [
    {
     "name": "stdout",
     "output_type": "stream",
     "text": [
      "(2, 3)\n",
      "(3,)\n"
     ]
    }
   ],
   "execution_count": 177
  },
  {
   "metadata": {},
   "cell_type": "markdown",
   "source": [
    "(2, 3) <br>\n",
    "(3,) -> (1, 3) -> (2, 3)\n"
   ],
   "id": "8e5a6e39149bae9"
  },
  {
   "metadata": {
    "ExecuteTime": {
     "end_time": "2025-01-26T19:46:07.024866Z",
     "start_time": "2025-01-26T19:46:07.020024Z"
    }
   },
   "cell_type": "code",
   "source": [
    "c = a + b\n",
    "print(c, c.shape)"
   ],
   "id": "ef28010ba1aed8db",
   "outputs": [
    {
     "name": "stdout",
     "output_type": "stream",
     "text": [
      "[[1. 2. 3.]\n",
      " [1. 2. 3.]] (2, 3)\n"
     ]
    }
   ],
   "execution_count": 178
  },
  {
   "metadata": {
    "ExecuteTime": {
     "end_time": "2025-01-26T19:46:07.052332Z",
     "start_time": "2025-01-26T19:46:07.046623Z"
    }
   },
   "cell_type": "code",
   "source": [
    "a = np.arange(3).reshape((3, 1))\n",
    "b = np.arange(3)\n",
    "print(a)\n",
    "print()\n",
    "print(b)"
   ],
   "id": "33c4e476cd15e2d7",
   "outputs": [
    {
     "name": "stdout",
     "output_type": "stream",
     "text": [
      "[[0]\n",
      " [1]\n",
      " [2]]\n",
      "\n",
      "[0 1 2]\n"
     ]
    }
   ],
   "execution_count": 179
  },
  {
   "metadata": {},
   "cell_type": "markdown",
   "source": [
    "(3, 1) -> (3, 3)<br>\n",
    "(3,) -> (1, 3) -> (3, 3)"
   ],
   "id": "56b88ce9f249f5f7"
  },
  {
   "metadata": {
    "ExecuteTime": {
     "end_time": "2025-01-26T19:46:07.124259Z",
     "start_time": "2025-01-26T19:46:07.118338Z"
    }
   },
   "cell_type": "code",
   "source": [
    "c = a + b\n",
    "print(c, c.shape)"
   ],
   "id": "bd5a5f083237c0e0",
   "outputs": [
    {
     "name": "stdout",
     "output_type": "stream",
     "text": [
      "[[0 1 2]\n",
      " [1 2 3]\n",
      " [2 3 4]] (3, 3)\n"
     ]
    }
   ],
   "execution_count": 180
  },
  {
   "metadata": {},
   "cell_type": "markdown",
   "source": [
    "$$ \\begin{bmatrix}\n",
    "0 & 0 & 0\\\\\n",
    "1 & 1 & 1\\\\\n",
    "2 & 2 & 2\n",
    "\\end{bmatrix} + \\begin{bmatrix}\n",
    "0 & 1 & 2\\\\\n",
    "0 & 1 & 2\\\\\n",
    "0 & 1 & 2\n",
    "\\end{bmatrix}$$"
   ],
   "id": "cf8b30443150af4f"
  },
  {
   "metadata": {
    "ExecuteTime": {
     "end_time": "2025-01-26T19:46:07.163756Z",
     "start_time": "2025-01-26T19:46:07.158759Z"
    }
   },
   "cell_type": "code",
   "source": [
    "a = np.ones((3, 2))\n",
    "b = np.arange(3)"
   ],
   "id": "e785b6ed8bf73d0d",
   "outputs": [],
   "execution_count": 181
  },
  {
   "metadata": {},
   "cell_type": "markdown",
   "source": [
    "(3, 2) -> (3, 2)<br>\n",
    "(3, ) -> (1, 3) -> (3, 3)<br>\n",
    "Error!"
   ],
   "id": "575c3bdaa21ac2b5"
  },
  {
   "metadata": {
    "ExecuteTime": {
     "end_time": "2025-01-26T19:46:07.238780Z",
     "start_time": "2025-01-26T19:46:07.221247Z"
    }
   },
   "cell_type": "code",
   "source": "c = a + b",
   "id": "b12ea665893c6f4",
   "outputs": [
    {
     "ename": "ValueError",
     "evalue": "operands could not be broadcast together with shapes (3,2) (3,) ",
     "output_type": "error",
     "traceback": [
      "\u001B[1;31m---------------------------------------------------------------------------\u001B[0m",
      "\u001B[1;31mValueError\u001B[0m                                Traceback (most recent call last)",
      "Cell \u001B[1;32mIn[182], line 1\u001B[0m\n\u001B[1;32m----> 1\u001B[0m c \u001B[38;5;241m=\u001B[39m a \u001B[38;5;241m+\u001B[39m b\n",
      "\u001B[1;31mValueError\u001B[0m: operands could not be broadcast together with shapes (3,2) (3,) "
     ]
    }
   ],
   "execution_count": 182
  },
  {
   "metadata": {},
   "cell_type": "markdown",
   "source": "Q1. Что надо изменить в последнем примере, чтобы он заработал без ошибок?",
   "id": "9233f8478f3e8339"
  },
  {
   "metadata": {
    "ExecuteTime": {
     "end_time": "2025-01-26T19:46:07.261060Z",
     "start_time": "2025-01-26T19:46:07.256514Z"
    }
   },
   "cell_type": "code",
   "source": [
    "x = np.array([[1, 2, 3, 4 ,5 ,6, 7, 8, 9], [9, 8, 7, 6, 5, 4, 3, 2, 1]])\n",
    "x_mean0 = x.mean(0)\n",
    "print(x_mean0)"
   ],
   "id": "90fd0399a53e0df7",
   "outputs": [
    {
     "name": "stdout",
     "output_type": "stream",
     "text": [
      "[5. 5. 5. 5. 5. 5. 5. 5. 5.]\n"
     ]
    }
   ],
   "execution_count": 183
  },
  {
   "metadata": {
    "ExecuteTime": {
     "end_time": "2025-01-26T19:46:07.358412Z",
     "start_time": "2025-01-26T19:46:07.353243Z"
    }
   },
   "cell_type": "code",
   "source": [
    "x_centered0 = x - x.mean(0)\n",
    "print(x_centered0)"
   ],
   "id": "c5bd7d8a3c336ee0",
   "outputs": [
    {
     "name": "stdout",
     "output_type": "stream",
     "text": [
      "[[-4. -3. -2. -1.  0.  1.  2.  3.  4.]\n",
      " [ 4.  3.  2.  1.  0. -1. -2. -3. -4.]]\n"
     ]
    }
   ],
   "execution_count": 184
  },
  {
   "metadata": {
    "ExecuteTime": {
     "end_time": "2025-01-26T19:46:07.446684Z",
     "start_time": "2025-01-26T19:46:07.441348Z"
    }
   },
   "cell_type": "code",
   "source": [
    "x_mean1 = x.mean(1)\n",
    "print(x_mean1)\n",
    "\n",
    "x_mean1 = x_mean1[:, np.newaxis]\n",
    "\n",
    "x_center = x - x_mean1\n",
    "print(x_center)"
   ],
   "id": "9af0bd48f37d3327",
   "outputs": [
    {
     "name": "stdout",
     "output_type": "stream",
     "text": [
      "[5. 5.]\n",
      "[[-4. -3. -2. -1.  0.  1.  2.  3.  4.]\n",
      " [ 4.  3.  2.  1.  0. -1. -2. -3. -4.]]\n"
     ]
    }
   ],
   "execution_count": 185
  },
  {
   "metadata": {
    "ExecuteTime": {
     "end_time": "2025-01-26T19:46:07.486232Z",
     "start_time": "2025-01-26T19:46:07.480236Z"
    }
   },
   "cell_type": "code",
   "source": [
    "x = np.linspace(0, 5, 50)\n",
    "y = np.linspace(0, 5, 50)[:, np.newaxis]\n",
    "\n",
    "z = np.sin(x)**3 + np.cos(20 + y*x) * np.sin(y)\n",
    "\n",
    "print(z.shape)\n"
   ],
   "id": "12c6637865957f43",
   "outputs": [
    {
     "name": "stdout",
     "output_type": "stream",
     "text": [
      "(50, 50)\n"
     ]
    }
   ],
   "execution_count": 186
  },
  {
   "metadata": {
    "ExecuteTime": {
     "end_time": "2025-01-26T19:46:07.674392Z",
     "start_time": "2025-01-26T19:46:07.504472Z"
    }
   },
   "cell_type": "code",
   "source": [
    "import matplotlib.pyplot as plt\n",
    "plt.imshow(z)\n",
    "plt.colorbar()\n",
    "plt.show()"
   ],
   "id": "6d1bac2fecce04ba",
   "outputs": [
    {
     "data": {
      "text/plain": [
       "<Figure size 640x480 with 2 Axes>"
      ],
      "image/png": "[encoded data removed]"
     },
     "metadata": {},
     "output_type": "display_data"
    }
   ],
   "execution_count": 187
  },
  {
   "metadata": {
    "ExecuteTime": {
     "end_time": "2025-01-26T19:46:07.682307Z",
     "start_time": "2025-01-26T19:46:07.676376Z"
    }
   },
   "cell_type": "code",
   "source": [
    "x = np.arange(1, 6, 1)\n",
    "y = np.vstack((np.arange(1, 6, 1), np.arange(6, 11, 1)))\n",
    "print(x < 3)\n",
    "print(y)"
   ],
   "id": "90e84375741b2c11",
   "outputs": [
    {
     "name": "stdout",
     "output_type": "stream",
     "text": [
      "[ True  True False False False]\n",
      "[[ 1  2  3  4  5]\n",
      " [ 6  7  8  9 10]]\n"
     ]
    }
   ],
   "execution_count": 188
  },
  {
   "metadata": {
    "ExecuteTime": {
     "end_time": "2025-01-26T19:46:07.689136Z",
     "start_time": "2025-01-26T19:46:07.684303Z"
    }
   },
   "cell_type": "code",
   "source": "print(np.less(x, 3))",
   "id": "ab681dfab3710d07",
   "outputs": [
    {
     "name": "stdout",
     "output_type": "stream",
     "text": [
      "[ True  True False False False]\n"
     ]
    }
   ],
   "execution_count": 189
  },
  {
   "metadata": {},
   "cell_type": "markdown",
   "source": [
    "True = 1<br>\n",
    "False = 0"
   ],
   "id": "531b02acdb3ed92c"
  },
  {
   "metadata": {
    "ExecuteTime": {
     "end_time": "2025-01-26T19:46:07.699001Z",
     "start_time": "2025-01-26T19:46:07.692113Z"
    }
   },
   "cell_type": "code",
   "source": [
    "print(np.sum(x < 3))\n",
    "print(np.sum(y < 4, axis=0))"
   ],
   "id": "8bcb3d97e9cb1c5d",
   "outputs": [
    {
     "name": "stdout",
     "output_type": "stream",
     "text": [
      "2\n",
      "[1 1 1 0 0]\n"
     ]
    }
   ],
   "execution_count": 190
  },
  {
   "metadata": {},
   "cell_type": "markdown",
   "source": "# Побитовые операции",
   "id": "c1f28dddc860558a"
  },
  {
   "metadata": {},
   "cell_type": "markdown",
   "source": "Q2: См. пример для y. Вычислить количество элементов по (обеим размерностям), значения которых больше 3 и меньше 9",
   "id": "62dd5a36b2b1a9c2"
  },
  {
   "metadata": {
    "ExecuteTime": {
     "end_time": "2025-01-26T19:46:07.706823Z",
     "start_time": "2025-01-26T19:46:07.700023Z"
    }
   },
   "cell_type": "code",
   "source": [
    "x = np.arange(1, 6)\n",
    "print(x[x < 3])"
   ],
   "id": "894d5b18fb1350bd",
   "outputs": [
    {
     "name": "stdout",
     "output_type": "stream",
     "text": [
      "[1 2]\n"
     ]
    }
   ],
   "execution_count": 191
  },
  {
   "metadata": {
    "ExecuteTime": {
     "end_time": "2025-01-26T19:46:07.712884Z",
     "start_time": "2025-01-26T19:46:07.707822Z"
    }
   },
   "cell_type": "code",
   "source": "print(42 & 1)",
   "id": "44ce0304aa551e8b",
   "outputs": [
    {
     "name": "stdout",
     "output_type": "stream",
     "text": [
      "0\n"
     ]
    }
   ],
   "execution_count": 192
  },
  {
   "metadata": {},
   "cell_type": "markdown",
   "source": "## Векторизация индекса",
   "id": "6d3a083c5f14fa42"
  },
  {
   "metadata": {
    "ExecuteTime": {
     "end_time": "2025-01-26T19:46:07.720505Z",
     "start_time": "2025-01-26T19:46:07.714842Z"
    }
   },
   "cell_type": "code",
   "source": [
    "x = np.arange(10)\n",
    "index = [1, 5, 7]\n",
    "print(x[index])"
   ],
   "id": "c2ad73bfba860c06",
   "outputs": [
    {
     "name": "stdout",
     "output_type": "stream",
     "text": [
      "[1 5 7]\n"
     ]
    }
   ],
   "execution_count": 193
  },
  {
   "metadata": {
    "ExecuteTime": {
     "end_time": "2025-01-26T19:46:07.727984Z",
     "start_time": "2025-01-26T19:46:07.721502Z"
    }
   },
   "cell_type": "code",
   "source": [
    "index = [[1, 5, 7], [2, 4, 8]]\n",
    "print(x[index])"
   ],
   "id": "662bd75b98c08371",
   "outputs": [
    {
     "name": "stdout",
     "output_type": "stream",
     "text": [
      "[[1 5 7]\n",
      " [2 4 8]]\n"
     ]
    }
   ],
   "execution_count": 194
  },
  {
   "metadata": {},
   "cell_type": "markdown",
   "source": "Форма результата представляет собой форму индекса, если индекс векторизован.",
   "id": "80c53d2bbfdb7cd8"
  },
  {
   "metadata": {
    "ExecuteTime": {
     "end_time": "2025-01-26T19:46:07.737230Z",
     "start_time": "2025-01-26T19:46:07.731928Z"
    }
   },
   "cell_type": "code",
   "source": [
    "x = np.arange(12).reshape((3, 4))\n",
    "print(x[2, [2, 0, 1]])"
   ],
   "id": "9e06dee050fb3b84",
   "outputs": [
    {
     "name": "stdout",
     "output_type": "stream",
     "text": [
      "[10  8  9]\n"
     ]
    }
   ],
   "execution_count": 195
  },
  {
   "metadata": {
    "ExecuteTime": {
     "end_time": "2025-01-26T19:46:07.746015Z",
     "start_time": "2025-01-26T19:46:07.741226Z"
    }
   },
   "cell_type": "code",
   "source": "print(x[1:, [2, 0, 1]])",
   "id": "ce1e62797c66e21a",
   "outputs": [
    {
     "name": "stdout",
     "output_type": "stream",
     "text": [
      "[[ 6  4  5]\n",
      " [10  8  9]]\n"
     ]
    }
   ],
   "execution_count": 196
  },
  {
   "metadata": {
    "ExecuteTime": {
     "end_time": "2025-01-26T19:46:07.899992Z",
     "start_time": "2025-01-26T19:46:07.894999Z"
    }
   },
   "cell_type": "code",
   "source": [
    "x = np.arange(10)\n",
    "i = np.array([2, 1, 8, 4])\n",
    "print(x)"
   ],
   "id": "5bac60fe26ae6029",
   "outputs": [
    {
     "name": "stdout",
     "output_type": "stream",
     "text": [
      "[0 1 2 3 4 5 6 7 8 9]\n"
     ]
    }
   ],
   "execution_count": 197
  },
  {
   "metadata": {
    "ExecuteTime": {
     "end_time": "2025-01-26T19:46:07.947067Z",
     "start_time": "2025-01-26T19:46:07.942096Z"
    }
   },
   "cell_type": "code",
   "source": [
    "x[i] = 999\n",
    "print(x)"
   ],
   "id": "fa197055c9d8f199",
   "outputs": [
    {
     "name": "stdout",
     "output_type": "stream",
     "text": [
      "[  0 999 999   3 999   5   6   7 999   9]\n"
     ]
    }
   ],
   "execution_count": 198
  },
  {
   "metadata": {
    "ExecuteTime": {
     "end_time": "2025-01-26T19:46:08.026625Z",
     "start_time": "2025-01-26T19:46:08.021626Z"
    }
   },
   "cell_type": "code",
   "source": [
    "x = np.array([3, 2, 3, 5, 6, 7, 1])\n",
    "print(sorted(x))"
   ],
   "id": "d082667f69816180",
   "outputs": [
    {
     "name": "stdout",
     "output_type": "stream",
     "text": [
      "[1, 2, 3, 3, 5, 6, 7]\n"
     ]
    }
   ],
   "execution_count": 199
  },
  {
   "metadata": {
    "ExecuteTime": {
     "end_time": "2025-01-26T19:46:08.057790Z",
     "start_time": "2025-01-26T19:46:08.053789Z"
    }
   },
   "cell_type": "code",
   "source": [
    "print(np.sort(x))\n",
    "x.sort()"
   ],
   "id": "879d79f73a3cf3b2",
   "outputs": [
    {
     "name": "stdout",
     "output_type": "stream",
     "text": [
      "[1 2 3 3 5 6 7]\n"
     ]
    }
   ],
   "execution_count": 200
  },
  {
   "metadata": {
    "ExecuteTime": {
     "end_time": "2025-01-26T19:46:08.094771Z",
     "start_time": "2025-01-26T19:46:08.090002Z"
    }
   },
   "cell_type": "code",
   "source": "print(x)",
   "id": "7fe3470f2a18bf6d",
   "outputs": [
    {
     "name": "stdout",
     "output_type": "stream",
     "text": [
      "[1 2 3 3 5 6 7]\n"
     ]
    }
   ],
   "execution_count": 201
  },
  {
   "metadata": {
    "ExecuteTime": {
     "end_time": "2025-01-26T19:51:44.544641Z",
     "start_time": "2025-01-26T19:51:44.539903Z"
    }
   },
   "cell_type": "code",
   "source": [
    "data = np.zeros(3, dtype={\n",
    "    'names':(\n",
    "        'name', 'age'\n",
    "    ),\n",
    "    'formats':(\n",
    "        'U10', 'i4'\n",
    "    )\n",
    "})\n",
    "\n",
    "print(data.dtype)"
   ],
   "id": "a47ccf9c478c8f1d",
   "outputs": [
    {
     "name": "stdout",
     "output_type": "stream",
     "text": [
      "[('name', '<U10'), ('age', '<i4')]\n"
     ]
    }
   ],
   "execution_count": 204
  },
  {
   "metadata": {},
   "cell_type": "markdown",
   "source": "## Cтруктурированные массивы",
   "id": "3b1f9bdd69e8263a"
  },
  {
   "metadata": {
    "ExecuteTime": {
     "end_time": "2025-01-26T19:51:45.600345Z",
     "start_time": "2025-01-26T19:51:45.594239Z"
    }
   },
   "cell_type": "code",
   "source": [
    "name = ['Alice', 'Bob', 'Eve']\n",
    "age = [20, 30, 40]\n",
    "data['name'] = name\n",
    "data['age'] = age\n",
    "print(data)"
   ],
   "id": "a90f23dff61b0d7e",
   "outputs": [
    {
     "name": "stdout",
     "output_type": "stream",
     "text": [
      "[('Alice', 20) ('Bob', 30) ('Eve', 40)]\n"
     ]
    }
   ],
   "execution_count": 205
  },
  {
   "metadata": {
    "ExecuteTime": {
     "end_time": "2025-01-26T19:52:33.523722Z",
     "start_time": "2025-01-26T19:52:33.515996Z"
    }
   },
   "cell_type": "code",
   "source": "print(data[data['age']>20])",
   "id": "d6f585fc467df304",
   "outputs": [
    {
     "name": "stdout",
     "output_type": "stream",
     "text": [
      "[('Bob', 30) ('Eve', 40)]\n"
     ]
    }
   ],
   "execution_count": 206
  },
  {
   "metadata": {},
   "cell_type": "markdown",
   "source": "## Массивы записей",
   "id": "5732da805814d84a"
  },
  {
   "metadata": {
    "ExecuteTime": {
     "end_time": "2025-01-26T19:54:38.866459Z",
     "start_time": "2025-01-26T19:54:38.862401Z"
    }
   },
   "cell_type": "code",
   "source": "data_rec = data.view(np.recarray)",
   "id": "aea8d709d8f16bfc",
   "outputs": [],
   "execution_count": 207
  },
  {
   "metadata": {
    "ExecuteTime": {
     "end_time": "2025-01-26T19:54:47.974642Z",
     "start_time": "2025-01-26T19:54:47.969135Z"
    }
   },
   "cell_type": "code",
   "source": "print(data_rec)",
   "id": "3bca6e8186516b20",
   "outputs": [
    {
     "name": "stdout",
     "output_type": "stream",
     "text": [
      "[('Alice', 20) ('Bob', 30) ('Eve', 40)]\n"
     ]
    }
   ],
   "execution_count": 208
  },
  {
   "metadata": {
    "ExecuteTime": {
     "end_time": "2025-01-26T19:55:02.286477Z",
     "start_time": "2025-01-26T19:55:02.281945Z"
    }
   },
   "cell_type": "code",
   "source": "print(data_rec[0])",
   "id": "a62824524a20fea8",
   "outputs": [
    {
     "name": "stdout",
     "output_type": "stream",
     "text": [
      "('Alice', 20)\n"
     ]
    }
   ],
   "execution_count": 209
  },
  {
   "metadata": {
    "ExecuteTime": {
     "end_time": "2025-01-26T19:55:44.802537Z",
     "start_time": "2025-01-26T19:55:44.797034Z"
    }
   },
   "cell_type": "code",
   "source": "print(data_rec[-1].name)",
   "id": "5456728b95c9a25a",
   "outputs": [
    {
     "name": "stdout",
     "output_type": "stream",
     "text": [
      "Eve\n"
     ]
    }
   ],
   "execution_count": 210
  },
  {
   "metadata": {},
   "cell_type": "code",
   "outputs": [],
   "execution_count": null,
   "source": "",
   "id": "971aa9f24142f1f3"
  }
 ],
 "metadata": {
  "kernelspec": {
   "display_name": "Python 3",
   "language": "python",
   "name": "python3"
  },
  "language_info": {
   "codemirror_mode": {
    "name": "ipython",
    "version": 2
   },
   "file_extension": ".py",
   "mimetype": "text/x-python",
   "name": "python",
   "nbconvert_exporter": "python",
   "pygments_lexer": "ipython2",
   "version": "2.7.6"
  }
 },
 "nbformat": 4,
 "nbformat_minor": 5
}
