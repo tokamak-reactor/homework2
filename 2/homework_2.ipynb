{
 "cells": [
  {
   "metadata": {},
   "cell_type": "markdown",
   "source": "# Домашняя работа",
   "id": "5339b4a63e2e8494"
  },
  {
   "metadata": {},
   "cell_type": "markdown",
   "source": [
    "Q1. Что надо изменить в последнем примере, чтобы он заработал без ошибок?<br>\n",
    "<code>\n",
    "a = np.ones((3, 2))<br>\n",
    "b = np.arange(3)<br>\n",
    "c = a + b<br>\n",
    "</code>"
   ],
   "id": "f79504ed16a5f9a0"
  },
  {
   "metadata": {
    "ExecuteTime": {
     "end_time": "2025-01-26T20:03:31.797650Z",
     "start_time": "2025-01-26T20:03:31.790576Z"
    }
   },
   "cell_type": "code",
   "source": [
    "import numpy as np\n",
    "\n",
    "a = np.ones((3, 2))\n",
    "b = np.arange(3)\n",
    "b = b[:, np.newaxis]\n",
    "print(b.shape)\n",
    "c = a + b\n",
    "print('\\n', c)"
   ],
   "id": "7047080085b393c3",
   "outputs": [
    {
     "name": "stdout",
     "output_type": "stream",
     "text": [
      "(3, 1)\n",
      "\n",
      " [[1. 1.]\n",
      " [2. 2.]\n",
      " [3. 3.]]\n"
     ]
    }
   ],
   "execution_count": 7
  },
  {
   "metadata": {},
   "cell_type": "markdown",
   "source": "Q2: См. пример для y. Вычислить количество элементов по (обеим размерностям), значения которых больше 3 и меньше 9",
   "id": "5f6e84cb7020d120"
  },
  {
   "metadata": {
    "ExecuteTime": {
     "end_time": "2025-01-26T20:09:05.328572Z",
     "start_time": "2025-01-26T20:09:05.320895Z"
    }
   },
   "cell_type": "code",
   "source": [
    "y = np.vstack((np.arange(1, 6, 1), np.arange(6, 11, 1)))\n",
    "print(y)\n",
    "print(np.sum(np.logical_and((y > 3),(y < 9))))\n",
    "print(np.sum((y > 3) & (y < 9)))"
   ],
   "id": "6024380a2dec2d26",
   "outputs": [
    {
     "name": "stdout",
     "output_type": "stream",
     "text": [
      "[[ 1  2  3  4  5]\n",
      " [ 6  7  8  9 10]]\n",
      "5\n",
      "5\n"
     ]
    }
   ],
   "execution_count": 11
  },
  {
   "metadata": {},
   "cell_type": "code",
   "outputs": [],
   "execution_count": null,
   "source": "",
   "id": "4afbf674644d974b"
  }
 ],
 "metadata": {
  "kernelspec": {
   "display_name": "Python 3",
   "language": "python",
   "name": "python3"
  },
  "language_info": {
   "codemirror_mode": {
    "name": "ipython",
    "version": 2
   },
   "file_extension": ".py",
   "mimetype": "text/x-python",
   "name": "python",
   "nbconvert_exporter": "python",
   "pygments_lexer": "ipython2",
   "version": "2.7.6"
  }
 },
 "nbformat": 4,
 "nbformat_minor": 5
}
