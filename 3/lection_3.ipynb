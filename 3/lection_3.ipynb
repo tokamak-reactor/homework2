{
 "cells": [
  {
   "cell_type": "markdown",
   "id": "9dfc1d4f",
   "metadata": {},
   "source": [
    "# Лекция 3 Pandas"
   ]
  },
  {
   "cell_type": "code",
   "execution_count": 2,
   "id": "initial_id",
   "metadata": {
    "ExecuteTime": {
     "end_time": "2025-02-02T13:50:26.674540Z",
     "start_time": "2025-02-02T13:50:24.778703Z"
    }
   },
   "outputs": [],
   "source": [
    "import numpy as np \n",
    "import pandas as pd"
   ]
  },
  {
   "cell_type": "markdown",
   "id": "3bff4df8fb7a6067",
   "metadata": {},
   "source": [
    "\n",
    "Pandas - расширение Numpy (структурные массивы). Строки и столбцы индексируются метками, а не только числовыми значениями.\n",
    "\n",
    "Три основных структуры Pandas: Series, DataFrame, Index"
   ]
  },
  {
   "cell_type": "markdown",
   "id": "e5b42542bc52f482",
   "metadata": {},
   "source": [
    "## Series"
   ]
  },
  {
   "cell_type": "code",
   "execution_count": 3,
   "id": "22bedc39354186b6",
   "metadata": {
    "ExecuteTime": {
     "end_time": "2025-01-28T14:23:35.963337Z",
     "start_time": "2025-01-28T14:23:35.956410Z"
    }
   },
   "outputs": [
    {
     "name": "stdout",
     "output_type": "stream",
     "text": [
      "0    0.25\n",
      "1    0.50\n",
      "2    0.75\n",
      "3    1.00\n",
      "dtype: float64\n",
      "<class 'pandas.core.series.Series'>\n"
     ]
    }
   ],
   "source": [
    "data = pd.Series([0.25, 0.5, 0.75, 1])\n",
    "print(data)\n",
    "print(type(data))"
   ]
  },
  {
   "cell_type": "markdown",
   "id": "f2ac70920a2dca87",
   "metadata": {},
   "source": [
    "В элементе data присутствует два внутринных элемента данных: Values и Index. Values - данные внутри массива, Index - то, по чему мы будем к этим \n",
    "данным обращаться, они хранятся отдельно."
   ]
  },
  {
   "cell_type": "code",
   "execution_count": 4,
   "id": "2c872ea44fd79615",
   "metadata": {
    "ExecuteTime": {
     "end_time": "2025-01-28T14:26:30.127050Z",
     "start_time": "2025-01-28T14:26:30.121477Z"
    }
   },
   "outputs": [
    {
     "name": "stdout",
     "output_type": "stream",
     "text": [
      "[0.25 0.5  0.75 1.  ]\n",
      "RangeIndex(start=0, stop=4, step=1)\n",
      "\n",
      "<class 'numpy.ndarray'>\n",
      "<class 'pandas.core.indexes.range.RangeIndex'>\n"
     ]
    }
   ],
   "source": [
    "data = pd.Series([0.25, 0.5, 0.75, 1])\n",
    "print(data.values)\n",
    "print(data.index)\n",
    "print()\n",
    "print(type(data.values))\n",
    "print(type(data.index))"
   ]
  },
  {
   "cell_type": "markdown",
   "id": "4a90a94354875331",
   "metadata": {},
   "source": [
    "Как обращаться к объектам класса библиотеки Pandas?"
   ]
  },
  {
   "cell_type": "code",
   "execution_count": 15,
   "id": "fedabeb32c0ca31c",
   "metadata": {
    "ExecuteTime": {
     "end_time": "2025-01-28T14:35:13.232895Z",
     "start_time": "2025-01-28T14:35:13.227690Z"
    }
   },
   "outputs": [
    {
     "name": "stdout",
     "output_type": "stream",
     "text": [
      "0.25\n",
      "1    0.50\n",
      "2    0.75\n",
      "dtype: float64\n",
      "<class 'pandas.core.indexes.range.RangeIndex'>\n"
     ]
    }
   ],
   "source": [
    "data = pd.Series([0.25, 0.5, 0.75, 1])\n",
    "print(data[0])\n",
    "print(data[1:3])\n",
    "print(type(data.index))"
   ]
  },
  {
   "cell_type": "markdown",
   "id": "cd0fd035f79a2c47",
   "metadata": {},
   "source": [
    "Основное различие между Numpy и Pandas заключается в том, что индексы, на которые мы ссылаемся, мы можем определить явно так как мы захотим (в прошлом примере они были заданы автоматически при создании Series)"
   ]
  },
  {
   "cell_type": "code",
   "execution_count": 14,
   "id": "9f286de085efe2bf",
   "metadata": {
    "ExecuteTime": {
     "end_time": "2025-01-28T14:34:54.954593Z",
     "start_time": "2025-01-28T14:34:54.949548Z"
    }
   },
   "outputs": [
    {
     "name": "stdout",
     "output_type": "stream",
     "text": [
      "a    0.25\n",
      "b    0.50\n",
      "c    0.75\n",
      "d    1.00\n",
      "dtype: float64\n",
      "0.25\n",
      "b    0.50\n",
      "c    0.75\n",
      "d    1.00\n",
      "dtype: float64\n",
      "<class 'pandas.core.indexes.base.Index'>\n"
     ]
    }
   ],
   "source": [
    "data = pd.Series([0.25, 0.5, 0.75, 1], index=('a', 'b', 'c', 'd'))\n",
    "print(data)\n",
    "print(data['a'])\n",
    "print(data['b':'d'])\n",
    "\n",
    "print(type(data.index))\n"
   ]
  },
  {
   "cell_type": "markdown",
   "id": "fb15f9a8a64edf80",
   "metadata": {},
   "source": [
    "В прошлом примере index был range (объект, аналогичный range в Python), теперь это другой объект index, у него другое содержание и другое поведение. \n",
    "В качестве index не обязательно выбирать объекты одного типа, и не обязательно, чтобы они шли по порядку."
   ]
  },
  {
   "cell_type": "code",
   "execution_count": 5,
   "id": "f8b87ab4ca6dde6d",
   "metadata": {
    "ExecuteTime": {
     "end_time": "2025-01-28T14:39:35.124309Z",
     "start_time": "2025-01-28T14:39:35.117837Z"
    }
   },
   "outputs": [
    {
     "name": "stdout",
     "output_type": "stream",
     "text": [
      "1     0.25\n",
      "10    0.50\n",
      "7     0.75\n",
      "d     1.00\n",
      "dtype: float64\n",
      "0.25\n",
      "10    0.50\n",
      "7     0.75\n",
      "d     1.00\n",
      "dtype: float64\n"
     ]
    }
   ],
   "source": [
    "data = pd.Series([0.25, 0.5, 0.75, 1], index=(1, 10, 7, 'd'))\n",
    "print(data)\n",
    "\n",
    "print(data[1])\n",
    "print(data[10: 'd'])"
   ]
  },
  {
   "cell_type": "markdown",
   "id": "7105caf7",
   "metadata": {},
   "source": [
    "Другой пример задания данных и index - через словарь. Ключи автоматически станут index, значения из значений словаря"
   ]
  },
  {
   "cell_type": "code",
   "execution_count": 6,
   "id": "23efeb25c837c1f2",
   "metadata": {
    "ExecuteTime": {
     "end_time": "2025-01-28T15:36:14.249940Z",
     "start_time": "2025-01-28T15:36:14.243382Z"
    }
   },
   "outputs": [
    {
     "name": "stdout",
     "output_type": "stream",
     "text": [
      "city_1    1001\n",
      "city_2    1002\n",
      "city_3    1003\n",
      "city_4    1004\n",
      "city_5    1005\n",
      "dtype: int64\n",
      "1004\n",
      "city_4    1004\n",
      "city_5    1005\n",
      "dtype: int64\n"
     ]
    }
   ],
   "source": [
    "population_dict = {\n",
    "    'city_1' : 1001,\n",
    "    'city_2' : 1002,\n",
    "    'city_3' : 1003,\n",
    "    'city_4' : 1004,\n",
    "    'city_5' : 1005\n",
    "}\n",
    "\n",
    "population = pd.Series(population_dict)\n",
    "print(population)\n",
    "\n",
    "print(population['city_4'])\n",
    "print(population['city_4':'city_5'])"
   ]
  },
  {
   "cell_type": "markdown",
   "id": "66d6771b81e150d6",
   "metadata": {},
   "source": [
    "Для создания объектов Series можно использовать:\n",
    "1. списки Python или массивы Numpy\n",
    "2. скалярные значения из Python\n",
    "3. словари из Python\n"
   ]
  },
  {
   "cell_type": "code",
   "execution_count": 22,
   "id": "4f4943611bd3ca4",
   "metadata": {
    "ExecuteTime": {
     "end_time": "2025-01-28T15:50:39.264362Z",
     "start_time": "2025-01-28T15:50:39.259801Z"
    }
   },
   "outputs": [
    {
     "name": "stdout",
     "output_type": "stream",
     "text": [
      "-1       0.1\n",
      " 0       1.0\n",
      " 1      10.0\n",
      " 2     100.0\n",
      " 3    1000.0\n",
      "dtype: float64\n",
      "10.0\n",
      "Series([], dtype: float64)\n"
     ]
    }
   ],
   "source": [
    "#1 \n",
    "a = np.array([0.1, 1, 10, 100, 1000])\n",
    "b = [-1, 0, 1, 2, 3]\n",
    "degree = pd.Series(a, index=b)\n",
    "\n",
    "print(degree)\n",
    "print(degree[1])\n",
    "print(degree[-1:2])"
   ]
  },
  {
   "cell_type": "code",
   "execution_count": null,
   "id": "9559ded1831efb44",
   "metadata": {},
   "outputs": [],
   "source": []
  },
  {
   "cell_type": "code",
   "execution_count": 27,
   "id": "19046e753acdf863",
   "metadata": {
    "ExecuteTime": {
     "end_time": "2025-01-28T17:02:56.183477Z",
     "start_time": "2025-01-28T17:02:56.178363Z"
    }
   },
   "outputs": [
    {
     "name": "stdout",
     "output_type": "stream",
     "text": [
      "1      Adele\n",
      "2    Brandon\n",
      "3     Cecile\n",
      "4       Dick\n",
      "5        Eva\n",
      "dtype: object\n",
      "Adele\n",
      "4    Dick\n",
      "5     Eva\n",
      "dtype: object\n"
     ]
    }
   ],
   "source": [
    "names_dict = {\n",
    "    1: 'Adele',\n",
    "    2: 'Brandon',\n",
    "    3: 'Cecile',\n",
    "    4: 'Dick',\n",
    "    5: 'Eva'\n",
    "}\n",
    "\n",
    "names = pd.Series(names_dict)\n",
    "\n",
    "print(names)\n",
    "print(names[1])\n",
    "print(names[3:5])"
   ]
  },
  {
   "cell_type": "markdown",
   "id": "4b6068c15b0ecdd8",
   "metadata": {},
   "source": [
    "## DataFrame\n",
    "Двумерный массив, с явно определёнными индексами. Индексы соответственно идут по одной и другой оси координат.\n",
    "Индексы по оси x называются columns, индексы по y - index.\n",
    "\n",
    "Т.е. DataFrame - это последовательность согласованных по индексам объектов Series."
   ]
  },
  {
   "cell_type": "code",
   "execution_count": 11,
   "id": "fbd0d9bc7cdf1354",
   "metadata": {
    "ExecuteTime": {
     "end_time": "2025-01-28T17:34:51.696203Z",
     "start_time": "2025-01-28T17:34:51.690383Z"
    }
   },
   "outputs": [
    {
     "name": "stdout",
     "output_type": "stream",
     "text": [
      "        population1  area1\n",
      "city_1         1001   9991\n",
      "city_2         1002   9992\n",
      "city_3         1003   9993\n",
      "city_4         1004   9994\n",
      "city_5         1005   9995\n",
      "<class 'pandas.core.frame.DataFrame'>\n",
      "\n",
      "<class 'numpy.ndarray'>\n",
      "<class 'pandas.core.indexes.base.Index'>\n",
      "<class 'pandas.core.indexes.base.Index'>\n"
     ]
    }
   ],
   "source": [
    "population_dict = {\n",
    "    'city_1' : 1001,\n",
    "    'city_2' : 1002,\n",
    "    'city_3' : 1003,\n",
    "    'city_4' : 1004,\n",
    "    'city_5' : 1005\n",
    "}\n",
    "\n",
    "area_dict = {\n",
    "    'city_1' : 9991,\n",
    "    'city_2' : 9992,\n",
    "    'city_3' : 9993,\n",
    "    'city_4' : 9994,\n",
    "    'city_5' : 9995 \n",
    "}\n",
    "\n",
    "population = pd.Series(population_dict)\n",
    "area = pd.Series(area_dict)\n",
    "states = pd.DataFrame({\n",
    "    'population1': population,\n",
    "    'area1': area\n",
    "})\n",
    "\n",
    "print(states)\n",
    "print(type(states))\n",
    "print()\n",
    "print(type(states.values))\n",
    "print(type(states.index))\n",
    "print(type(states.columns))"
   ]
  },
  {
   "cell_type": "code",
   "execution_count": 8,
   "id": "49600c8b6a8b6b07",
   "metadata": {
    "ExecuteTime": {
     "end_time": "2025-01-29T14:49:37.845355Z",
     "start_time": "2025-01-29T14:49:37.831213Z"
    }
   },
   "outputs": [
    {
     "name": "stdout",
     "output_type": "stream",
     "text": [
      "        population1  area1\n",
      "city_1         1001   9991\n",
      "city_2         1002   9992\n",
      "city_3         1003   9993\n",
      "city_4         1004   9994\n",
      "city_5         1005   9995\n",
      "city_1    9991\n",
      "city_2    9992\n",
      "city_3    9993\n",
      "city_4    9994\n",
      "city_5    9995\n",
      "Name: area1, dtype: int64\n"
     ]
    }
   ],
   "source": [
    "population_dict = {\n",
    "    'city_1' : 1001,\n",
    "    'city_2' : 1002,\n",
    "    'city_3' : 1003,\n",
    "    'city_4' : 1004,\n",
    "    'city_5' : 1005\n",
    "}\n",
    "\n",
    "area_dict = {\n",
    "    'city_1' : 9991,\n",
    "    'city_2' : 9992,\n",
    "    'city_3' : 9993,\n",
    "    'city_4' : 9994,\n",
    "    'city_5' : 9995 \n",
    "}\n",
    "\n",
    "population = pd.Series(population_dict)\n",
    "area = pd.Series(area_dict)\n",
    "states = pd.DataFrame({\n",
    "    'population1': population,\n",
    "    'area1': area\n",
    "})\n",
    "\n",
    "print(states)\n",
    "print(states['area1'])"
   ]
  },
  {
   "cell_type": "markdown",
   "id": "33e573e46e5518cf",
   "metadata": {},
   "source": [
    "## Способы создания DataFrame \n",
    "\n",
    "1. Через объекты Series\n",
    "2. Списки словарей\n",
    "3. Словари объектов Series\n",
    "4. Двумерный массив Numpy\n",
    "5. Структурированный массив Numpy"
   ]
  },
  {
   "cell_type": "code",
   "execution_count": 36,
   "id": "8c02ad411536bbd6",
   "metadata": {
    "ExecuteTime": {
     "end_time": "2025-01-29T14:27:50.521502Z",
     "start_time": "2025-01-29T14:27:50.511316Z"
    }
   },
   "outputs": [
    {
     "name": "stdout",
     "output_type": "stream",
     "text": [
      "       0        1       2\n",
      "0  Adele  Brandon  Cecile\n",
      "1      5       13       9\n"
     ]
    }
   ],
   "source": [
    "# 1. Через объекты Series\n",
    "\n",
    "names = pd.Series(['Adele', 'Brandon', 'Cecile'])\n",
    "scores = pd.Series([5, 13, 9])\n",
    "\n",
    "full = pd.DataFrame(names, scores)\n",
    "\n",
    "print(full)"
   ]
  },
  {
   "cell_type": "code",
   "execution_count": 40,
   "id": "be27f6f84dc33bc5",
   "metadata": {
    "ExecuteTime": {
     "end_time": "2025-01-30T17:08:52.726501Z",
     "start_time": "2025-01-30T17:08:52.702658Z"
    }
   },
   "outputs": [
    {
     "name": "stdout",
     "output_type": "stream",
     "text": [
      "     Names  Score\n",
      "1    Adele      5\n",
      "2  Brandon     13\n",
      "3   Cecile      9\n"
     ]
    }
   ],
   "source": [
    "# 2. Списки словарей\n",
    "\n",
    "names_dict = {\n",
    "    1: 'Adele',\n",
    "    2: 'Brandon',\n",
    "    3: 'Cecile'\n",
    "}\n",
    "\n",
    "scores_dict = {\n",
    "    1: 5,\n",
    "    2: 13,\n",
    "    3: 9\n",
    "}\n",
    "\n",
    "full = pd.DataFrame({\n",
    "    'Names': names_dict,\n",
    "    'Score': scores_dict\n",
    "})\n",
    "\n",
    "print(full)"
   ]
  },
  {
   "cell_type": "markdown",
   "id": "534d9128f4e47485",
   "metadata": {},
   "source": [
    "## Index\n",
    "Способ организации ссылки на данные объектов Series и DataFrame.\n",
    "\n",
    "Index как объект - неизменяем, упорядочен (не по значениям, а по смыслу как ссылки), является мультимножеством (могут быть повторяющиеся значения). На элементы индекса можно ссылаться, как на массивы NumPy, можно строить сложного вида срезы. Но тем не менее, изменять объект Index нельзя.\n"
   ]
  },
  {
   "cell_type": "code",
   "execution_count": 12,
   "id": "2e21526aa3f1e1f1",
   "metadata": {
    "ExecuteTime": {
     "end_time": "2025-01-30T17:15:36.151407Z",
     "start_time": "2025-01-30T17:15:36.126284Z"
    }
   },
   "outputs": [
    {
     "name": "stdout",
     "output_type": "stream",
     "text": [
      "Index([2, 3, 4, 5, 7, 11], dtype='int64')\n",
      "Index([2, 4, 7], dtype='int64')\n"
     ]
    }
   ],
   "source": [
    "ind = pd.Index([2, 3, 4, 5, 7, 11])\n",
    "\n",
    "print(ind)\n",
    "print(ind[::2])"
   ]
  },
  {
   "cell_type": "markdown",
   "id": "86985f6cbbc06852",
   "metadata": {},
   "source": [
    "Index следует соглашениям объекта set (Python). То есть к ниму применимы те же операции, что к set"
   ]
  },
  {
   "cell_type": "code",
   "execution_count": 13,
   "id": "9736992608133c95",
   "metadata": {
    "ExecuteTime": {
     "end_time": "2025-01-30T17:19:08.723293Z",
     "start_time": "2025-01-30T17:19:08.663994Z"
    }
   },
   "outputs": [
    {
     "name": "stdout",
     "output_type": "stream",
     "text": [
      "Index([2, 3, 4, 5], dtype='int64')\n"
     ]
    }
   ],
   "source": [
    "indA = pd.Index([1, 2, 3, 4, 5])\n",
    "indB = pd.Index([2, 3, 4, 5, 6])\n",
    "\n",
    "print(indA.intersection(indB))"
   ]
  },
  {
   "cell_type": "markdown",
   "id": "c249350d92c3fb40",
   "metadata": {},
   "source": [
    "## Выборка данных из Series\n",
    "Индексы позволяют обращаться к Series через операторы in или например через методы keys, items"
   ]
  },
  {
   "cell_type": "code",
   "execution_count": 14,
   "id": "90e4854eee0f985c",
   "metadata": {
    "ExecuteTime": {
     "end_time": "2025-02-01T16:14:20.750799Z",
     "start_time": "2025-02-01T16:14:20.738718Z"
    }
   },
   "outputs": [
    {
     "name": "stdout",
     "output_type": "stream",
     "text": [
      "True\n",
      "False\n",
      "Index(['a', 'b', 'c', 'd'], dtype='object')\n",
      "[('a', 0.25), ('b', 0.5), ('c', 0.75), ('d', 1.0)]\n"
     ]
    }
   ],
   "source": [
    "data = pd.Series([0.25, 0.5, 0.75, 1], index=['a', 'b', 'c', 'd'])\n",
    "\n",
    "print('a' in data)\n",
    "print('z' in data)\n",
    "\n",
    "print(data.keys())\n",
    "print(list(data.items()))"
   ]
  },
  {
   "cell_type": "markdown",
   "id": "42dd733835398ea0",
   "metadata": {},
   "source": [
    "Добавление и изменение значений в Series как в словарь Python"
   ]
  },
  {
   "cell_type": "code",
   "execution_count": 15,
   "id": "df7e07d65034cb62",
   "metadata": {},
   "outputs": [
    {
     "name": "stdout",
     "output_type": "stream",
     "text": [
      "a     100.00\n",
      "b       0.50\n",
      "c       0.75\n",
      "d       1.00\n",
      "z    1000.00\n",
      "dtype: float64\n"
     ]
    }
   ],
   "source": [
    "data = pd.Series([0.25, 0.5, 0.75, 1], index=['a', 'b', 'c', 'd'])\n",
    "\n",
    "data['a'] = 100\n",
    "data['z'] = 1000\n",
    "\n",
    "print(data)"
   ]
  },
  {
   "cell_type": "markdown",
   "id": "2434261a8fffc26a",
   "metadata": {},
   "source": [
    "Или можно работать с ним как с одномерным массивом"
   ]
  },
  {
   "cell_type": "code",
   "execution_count": 16,
   "id": "40557fa54932c763",
   "metadata": {
    "ExecuteTime": {
     "end_time": "2025-02-02T13:51:54.423531Z",
     "start_time": "2025-02-02T13:51:54.410249Z"
    }
   },
   "outputs": [
    {
     "name": "stdout",
     "output_type": "stream",
     "text": [
      "a    0.25\n",
      "b    0.50\n",
      "c    0.75\n",
      "dtype: float64\n",
      "a    0.25\n",
      "b    0.50\n",
      "dtype: float64\n",
      "c    0.75\n",
      "dtype: float64\n",
      "a    0.25\n",
      "d    1.00\n",
      "dtype: float64\n"
     ]
    }
   ],
   "source": [
    "data = pd.Series([0.25, 0.5, 0.75, 1], index=['a', 'b', 'c', 'd'])\n",
    "\n",
    "# Явно заданные индексы (в таком случае последний включительно)\n",
    "print(data['a':'c'])\n",
    "# Неявно заданные индексы (правая граница не включительно)\n",
    "print(data[0:2])\n",
    "print(data[(data > 0.5)  & (data < 1)])\n",
    "# Векторизованная индексация\n",
    "print(data[['a', 'd']])"
   ]
  },
  {
   "cell_type": "markdown",
   "id": "2056b4ab2d7a49ef",
   "metadata": {},
   "source": [
    "Из-за того, что индексы могут быть любыми, возникает проблема: выбирается явное значение индекса, а не порядковый номер (например если использоваться как индексы целые числа).\n",
    "\n",
    "## Атрибуты индексаторы"
   ]
  },
  {
   "cell_type": "code",
   "execution_count": 17,
   "id": "2c5e6f6a6434586b",
   "metadata": {
    "ExecuteTime": {
     "end_time": "2025-02-02T13:56:23.478384Z",
     "start_time": "2025-02-02T13:56:23.472997Z"
    }
   },
   "outputs": [
    {
     "name": "stdout",
     "output_type": "stream",
     "text": [
      "0.25\n",
      "0.25\n",
      "0.5\n"
     ]
    }
   ],
   "source": [
    "data = pd.Series([0.25, 0.5, 0.75, 1], index=[1, 3, 10, 15])\n",
    "\n",
    "print(data[1]) # По умолчанию - к значению\n",
    "\n",
    "print(data.loc[1]) # К значению\n",
    "print(data.iloc[1]) # К порядковому номеру"
   ]
  },
  {
   "cell_type": "markdown",
   "id": "fc4524e303461d00",
   "metadata": {},
   "source": [
    "# Выборка данных из DataFrame"
   ]
  },
  {
   "cell_type": "code",
   "execution_count": 9,
   "id": "851da9bf33de02d6",
   "metadata": {
    "ExecuteTime": {
     "end_time": "2025-02-02T14:03:35.384864Z",
     "start_time": "2025-02-02T14:03:35.378013Z"
    }
   },
   "outputs": [
    {
     "name": "stdout",
     "output_type": "stream",
     "text": [
      "        area1  pop1\n",
      "city_1   9991  1001\n",
      "city_2   9992  1002\n",
      "city_3   9993  1003\n",
      "city_4   9994  1004\n",
      "city_5   9995  1005\n",
      "city_1    9991\n",
      "city_2    9992\n",
      "city_3    9993\n",
      "city_4    9994\n",
      "city_5    9995\n",
      "Name: area1, dtype: int64\n",
      "city_1    9991\n",
      "city_2    9992\n",
      "city_3    9993\n",
      "city_4    9994\n",
      "city_5    9995\n",
      "Name: area1, dtype: int64\n",
      "True\n"
     ]
    }
   ],
   "source": [
    "pop = pd.Series({\n",
    "    'city_1' : 1001,\n",
    "    'city_2' : 1002,\n",
    "    'city_3' : 1003,\n",
    "    'city_4' : 1004,\n",
    "    'city_5' : 1005\n",
    "})\n",
    "area = pd.Series({\n",
    "    'city_1' : 9991,\n",
    "    'city_2' : 9992,\n",
    "    'city_3' : 9993,\n",
    "    'city_4' : 9994,\n",
    "    'city_5' : 9995 \n",
    "})\n",
    "data = pd.DataFrame({'area1' : area, 'pop1' : pop})\n",
    "\n",
    "print(data)\n",
    "print(data['area1']) # По имени\n",
    "print(data.area1) # Как атрибут, если название может быть атрибутом\n",
    "\n",
    "print(data.pop1 is data['pop1']) # Проверка на соответствие имени"
   ]
  },
  {
   "cell_type": "code",
   "execution_count": 10,
   "id": "83a8161e3fd47981",
   "metadata": {
    "ExecuteTime": {
     "end_time": "2025-02-02T14:05:20.902672Z",
     "start_time": "2025-02-02T14:05:20.894672Z"
    }
   },
   "outputs": [
    {
     "name": "stdout",
     "output_type": "stream",
     "text": [
      "False\n"
     ]
    }
   ],
   "source": [
    "pop = pd.Series({\n",
    "    'city_1' : 1001,\n",
    "    'city_2' : 1002,\n",
    "    'city_3' : 1003,\n",
    "    'city_4' : 1004,\n",
    "    'city_5' : 1005\n",
    "})\n",
    "area = pd.Series({\n",
    "    'city_1' : 9991,\n",
    "    'city_2' : 9992,\n",
    "    'city_3' : 9993,\n",
    "    'city_4' : 9994,\n",
    "    'city_5' : 9995 \n",
    "})\n",
    "data = pd.DataFrame({'area1' : area, 'pop1' : pop, 'pop' : pop})\n",
    "\n",
    "print(data.pop is data['pop'])"
   ]
  },
  {
   "cell_type": "markdown",
   "id": "f6f0acdb8fcdd5fa",
   "metadata": {},
   "source": [
    "## Присваивание новых columns"
   ]
  },
  {
   "cell_type": "code",
   "execution_count": 12,
   "id": "5db83521b1c2de15",
   "metadata": {
    "ExecuteTime": {
     "end_time": "2025-02-02T14:07:22.844540Z",
     "start_time": "2025-02-02T14:07:22.822835Z"
    }
   },
   "outputs": [
    {
     "name": "stdout",
     "output_type": "stream",
     "text": [
      "        area1  pop1   new      new1\n",
      "city_1   9991  1001  9991  9.981019\n",
      "city_2   9992  1002  9992  9.972056\n",
      "city_3   9993  1003  9993  9.963111\n",
      "city_4   9994  1004  9994  9.954183\n",
      "city_5   9995  1005  9995  9.945274\n"
     ]
    }
   ],
   "source": [
    "pop = pd.Series({\n",
    "    'city_1' : 1001,\n",
    "    'city_2' : 1002,\n",
    "    'city_3' : 1003,\n",
    "    'city_4' : 1004,\n",
    "    'city_5' : 1005\n",
    "})\n",
    "area = pd.Series({\n",
    "    'city_1' : 9991,\n",
    "    'city_2' : 9992,\n",
    "    'city_3' : 9993,\n",
    "    'city_4' : 9994,\n",
    "    'city_5' : 9995 \n",
    "})\n",
    "data = pd.DataFrame({'area1' : area, 'pop1' : pop})\n",
    "\n",
    "data['new'] = data['area1']\n",
    "\n",
    "data['new1'] = data['area1'] / data['pop1']\n",
    "print(data)"
   ]
  },
  {
   "cell_type": "markdown",
   "id": "e1916a37c44662bf",
   "metadata": {},
   "source": [
    "Обращение к DataFrame как к двумерному NumPy массиву"
   ]
  },
  {
   "cell_type": "code",
   "execution_count": 16,
   "id": "bf1fd8c8d42bb230",
   "metadata": {
    "ExecuteTime": {
     "end_time": "2025-02-02T15:03:39.450283Z",
     "start_time": "2025-02-02T15:03:39.431477Z"
    }
   },
   "outputs": [
    {
     "name": "stdout",
     "output_type": "stream",
     "text": [
      "        area1  pop1\n",
      "city_1   9991  1001\n",
      "city_2   9992  1002\n",
      "city_3   9993  1003\n",
      "city_4   9994  1004\n",
      "city_5   9995  1005\n",
      "[[9991 1001]\n",
      " [9992 1002]\n",
      " [9993 1003]\n",
      " [9994 1004]\n",
      " [9995 1005]]\n",
      "       city_1  city_2  city_3  city_4  city_5\n",
      "area1    9991    9992    9993    9994    9995\n",
      "pop1     1001    1002    1003    1004    1005\n"
     ]
    }
   ],
   "source": [
    "pop = pd.Series({\n",
    "    'city_1' : 1001,\n",
    "    'city_2' : 1002,\n",
    "    'city_3' : 1003,\n",
    "    'city_4' : 1004,\n",
    "    'city_5' : 1005\n",
    "})\n",
    "area = pd.Series({\n",
    "    'city_1' : 9991,\n",
    "    'city_2' : 9992,\n",
    "    'city_3' : 9993,\n",
    "    'city_4' : 9994,\n",
    "    'city_5' : 9995 \n",
    "})\n",
    "data = pd.DataFrame({'area1' : area, 'pop1' : pop})\n",
    "print(data)\n",
    "print(data.values)\n",
    "print(data.T) # Пример использования как к массиву - транспонирование"
   ]
  },
  {
   "cell_type": "markdown",
   "id": "ed4519066855d26b",
   "metadata": {},
   "source": [
    "## Обращение к строкам и столбцам"
   ]
  },
  {
   "cell_type": "code",
   "execution_count": 18,
   "id": "1a778ffd93e194ac",
   "metadata": {
    "ExecuteTime": {
     "end_time": "2025-02-02T15:05:23.052508Z",
     "start_time": "2025-02-02T15:05:23.045553Z"
    }
   },
   "outputs": [
    {
     "name": "stdout",
     "output_type": "stream",
     "text": [
      "city_1    9991\n",
      "city_2    9992\n",
      "city_3    9993\n",
      "city_4    9994\n",
      "city_5    9995\n",
      "Name: area1, dtype: int64\n",
      "[9991 1001]\n",
      "[[9991 1001]\n",
      " [9992 1002]\n",
      " [9993 1003]]\n"
     ]
    }
   ],
   "source": [
    "pop = pd.Series({\n",
    "    'city_1' : 1001,\n",
    "    'city_2' : 1002,\n",
    "    'city_3' : 1003,\n",
    "    'city_4' : 1004,\n",
    "    'city_5' : 1005\n",
    "})\n",
    "area = pd.Series({\n",
    "    'city_1' : 9991,\n",
    "    'city_2' : 9992,\n",
    "    'city_3' : 9993,\n",
    "    'city_4' : 9994,\n",
    "    'city_5' : 9995 \n",
    "})\n",
    "data = pd.DataFrame({'area1' : area, 'pop1' : pop})\n",
    "\n",
    "print(data['area1']) # Обращение к column\n",
    "print(data.values[0])# Обращение к строкам (через values) \n",
    "print(data.values[0:3])"
   ]
  },
  {
   "cell_type": "markdown",
   "id": "5b27d7fee6c26f0a",
   "metadata": {},
   "source": [
    "## Атрибуты-индексаторы (снова)"
   ]
  },
  {
   "cell_type": "code",
   "execution_count": 19,
   "id": "672f68149441162d",
   "metadata": {
    "ExecuteTime": {
     "end_time": "2025-02-02T15:22:31.467935Z",
     "start_time": "2025-02-02T15:22:31.451586Z"
    }
   },
   "outputs": [
    {
     "name": "stdout",
     "output_type": "stream",
     "text": [
      "        area1  pop1   pop\n",
      "city_1   9991  1001  1001\n",
      "city_2   9992  1002  1002\n",
      "city_3   9993  1003  1003\n",
      "city_4   9994  1004  1004\n",
      "city_5   9995  1005  1005\n",
      "        pop1\n",
      "city_1  1001\n",
      "city_2  1002\n",
      "city_3  1003\n",
      "        pop1   pop\n",
      "city_1  1001  1001\n",
      "city_2  1002  1002\n",
      "city_3  1003  1003\n",
      "city_4  1004  1004\n",
      "        area1   pop\n",
      "city_3   9993  1003\n",
      "city_4   9994  1004\n",
      "city_5   9995  1005\n"
     ]
    }
   ],
   "source": [
    "pop = pd.Series({\n",
    "    'city_1' : 1001,\n",
    "    'city_2' : 1002,\n",
    "    'city_3' : 1003,\n",
    "    'city_4' : 1004,\n",
    "    'city_5' : 1005\n",
    "})\n",
    "area = pd.Series({\n",
    "    'city_1' : 9991,\n",
    "    'city_2' : 9992,\n",
    "    'city_3' : 9993,\n",
    "    'city_4' : 9994,\n",
    "    'city_5' : 9995 \n",
    "})\n",
    "data = pd.DataFrame({'area1' : area, 'pop1' : pop, 'pop': pop})\n",
    "\n",
    "print(data)\n",
    "print(data.iloc[:3, 1:2])\n",
    "print(data.loc[:'city_4', 'pop1':'pop']) # Правая граница включительно\n",
    "print(data.loc[data['pop'] > 1002, ['area1', 'pop']]) # Индексация по строкам и столбцам сложным образом"
   ]
  },
  {
   "cell_type": "markdown",
   "id": "794bb4e18c3790f4",
   "metadata": {},
   "source": [
    "## Присваивание значений по индексам"
   ]
  },
  {
   "cell_type": "code",
   "execution_count": 20,
   "id": "d9745f99136852da",
   "metadata": {
    "ExecuteTime": {
     "end_time": "2025-02-02T15:24:36.165128Z",
     "start_time": "2025-02-02T15:24:36.149379Z"
    }
   },
   "outputs": [
    {
     "name": "stdout",
     "output_type": "stream",
     "text": [
      "        area1  pop1   pop\n",
      "city_1   9991  1001  1001\n",
      "city_2   9992  1002  1002\n",
      "city_3   9993  1003  1003\n",
      "city_4   9994  1004  1004\n",
      "city_5   9995  1005  1005\n",
      "        area1  pop1     pop\n",
      "city_1   9991  1001  999999\n",
      "city_2   9992  1002    1002\n",
      "city_3   9993  1003    1003\n",
      "city_4   9994  1004    1004\n",
      "city_5   9995  1005    1005\n"
     ]
    }
   ],
   "source": [
    "pop = pd.Series({\n",
    "    'city_1' : 1001,\n",
    "    'city_2' : 1002,\n",
    "    'city_3' : 1003,\n",
    "    'city_4' : 1004,\n",
    "    'city_5' : 1005\n",
    "})\n",
    "area = pd.Series({\n",
    "    'city_1' : 9991,\n",
    "    'city_2' : 9992,\n",
    "    'city_3' : 9993,\n",
    "    'city_4' : 9994,\n",
    "    'city_5' : 9995 \n",
    "})\n",
    "data = pd.DataFrame({'area1' : area, 'pop1' : pop, 'pop': pop})\n",
    "\n",
    "print(data)\n",
    "\n",
    "data.iloc[0,2] = 999999\n",
    "print(data)"
   ]
  },
  {
   "cell_type": "markdown",
   "id": "503c05b12bdd63d2",
   "metadata": {},
   "source": [
    "## Универсальные функции"
   ]
  },
  {
   "cell_type": "code",
   "execution_count": 21,
   "id": "6ce97bccb815710c",
   "metadata": {
    "ExecuteTime": {
     "end_time": "2025-02-02T15:39:55.555082Z",
     "start_time": "2025-02-02T15:39:55.545288Z"
    }
   },
   "outputs": [
    {
     "name": "stdout",
     "output_type": "stream",
     "text": [
      "0    2\n",
      "1    0\n",
      "2    6\n",
      "3    5\n",
      "dtype: int64\n",
      "0      7.389056\n",
      "1      1.000000\n",
      "2    403.428793\n",
      "3    148.413159\n",
      "dtype: float64\n"
     ]
    }
   ],
   "source": [
    "# Сгененрируем 4 случайных целых числа\n",
    "\n",
    "rng = np.random.default_rng()\n",
    "s = pd.Series(rng.integers(0, 10, 4))\n",
    "\n",
    "print(s)\n",
    "print(np.exp(s))"
   ]
  },
  {
   "cell_type": "markdown",
   "id": "65c4a1f5e45ee290",
   "metadata": {},
   "source": [
    "## Объединение Series\n",
    "\n",
    "При объединении двух Series с различающимися индексами пустоты в той Series, где таких индексов нет, заполняются типом NaN (Not a Number)"
   ]
  },
  {
   "cell_type": "code",
   "execution_count": 25,
   "id": "b074e963ad8fd142",
   "metadata": {
    "ExecuteTime": {
     "end_time": "2025-02-02T16:56:36.199266Z",
     "start_time": "2025-02-02T16:56:36.188959Z"
    }
   },
   "outputs": [
    {
     "name": "stdout",
     "output_type": "stream",
     "text": [
      "          area1    pop1\n",
      "city_1   9991.0  1001.0\n",
      "city_2   9992.0  1002.0\n",
      "city_3   9993.0  1003.0\n",
      "city_41     NaN  1004.0\n",
      "city_42  9994.0     NaN\n",
      "city_51     NaN  1005.0\n",
      "city_52  9995.0     NaN\n"
     ]
    }
   ],
   "source": [
    "pop = pd.Series({\n",
    "    'city_1' : 1001,\n",
    "    'city_2' : 1002,\n",
    "    'city_3' : 1003,\n",
    "    'city_41' : 1004,\n",
    "    'city_51' : 1005\n",
    "})\n",
    "area = pd.Series({\n",
    "    'city_1' : 9991,\n",
    "    'city_2' : 9992,\n",
    "    'city_3' : 9993,\n",
    "    'city_42' : 9994,\n",
    "    'city_52' : 9995 \n",
    "})\n",
    "\n",
    "data = pd.DataFrame({'area1' : area, 'pop1' : pop})\n",
    "print(data)"
   ]
  },
  {
   "cell_type": "markdown",
   "id": "c04235eea74fae8d",
   "metadata": {},
   "source": [
    "## Объединение DataFrame"
   ]
  },
  {
   "cell_type": "code",
   "execution_count": 27,
   "id": "28df13c2ba76d8d5",
   "metadata": {
    "ExecuteTime": {
     "end_time": "2025-02-02T17:08:26.807508Z",
     "start_time": "2025-02-02T17:08:26.793476Z"
    }
   },
   "outputs": [
    {
     "name": "stdout",
     "output_type": "stream",
     "text": [
      "   a  b\n",
      "0  3  4\n",
      "1  8  9\n",
      "   a  b  c\n",
      "0  6  7  1\n",
      "1  6  8  5\n",
      "2  3  6  1\n",
      "      a     b   c\n",
      "0   9.0  11.0 NaN\n",
      "1  14.0  17.0 NaN\n",
      "2   NaN   NaN NaN\n"
     ]
    }
   ],
   "source": [
    "dfA = pd.DataFrame(rng.integers(0, 10, (2,2)), columns=['a', 'b'])\n",
    "dfB = pd.DataFrame(rng.integers(0, 10, (3,3)), columns=['a', 'b', 'c'])\n",
    "\n",
    "print(dfA)\n",
    "print(dfB)\n",
    "\n",
    "print(dfA + dfB)"
   ]
  },
  {
   "cell_type": "markdown",
   "id": "a6aab819",
   "metadata": {},
   "source": [
    "В тех ячейках, где существовали значения, числа сложились. Там, где индекса не было, получилось NaN, даже если одно из чисел было (NaN + 8 = NaN)"
   ]
  },
  {
   "cell_type": "markdown",
   "id": "37151ccd",
   "metadata": {},
   "source": [
    "## Транслирование в Pandas"
   ]
  },
  {
   "cell_type": "code",
   "execution_count": 23,
   "id": "10113a2812923cbc",
   "metadata": {
    "ExecuteTime": {
     "end_time": "2025-02-02T17:20:56.543877Z",
     "start_time": "2025-02-02T17:20:56.529850Z"
    }
   },
   "outputs": [
    {
     "name": "stdout",
     "output_type": "stream",
     "text": [
      "[[4 5 7 9]\n",
      " [0 1 8 9]\n",
      " [2 3 8 4]]\n",
      "[4 5 7 9]\n",
      "[[ 0  0  0  0]\n",
      " [-4 -4  1  0]\n",
      " [-2 -2  1 -5]]\n"
     ]
    }
   ],
   "source": [
    "rng = np.random.default_rng(1)\n",
    "\n",
    "A = rng.integers(0, 10, (3, 4))\n",
    "print(A)\n",
    "print(A[0])\n",
    "print(A - A[0])"
   ]
  },
  {
   "cell_type": "code",
   "execution_count": 25,
   "id": "89790a61c799558b",
   "metadata": {
    "ExecuteTime": {
     "end_time": "2025-02-02T17:25:32.465937Z",
     "start_time": "2025-02-02T17:25:32.454881Z"
    }
   },
   "outputs": [
    {
     "name": "stdout",
     "output_type": "stream",
     "text": [
      "   a  b  c  d\n",
      "0  4  5  7  9\n",
      "1  0  1  8  9\n",
      "2  2  3  8  4\n",
      "\n",
      "a    4\n",
      "b    5\n",
      "c    7\n",
      "d    9\n",
      "Name: 0, dtype: int64\n",
      "   a  b  c  d\n",
      "0  0  0  0  0\n",
      "1 -4 -4  1  0\n",
      "2 -2 -2  1 -5\n",
      "\n",
      "a    4\n",
      "c    7\n",
      "Name: 0, dtype: int64\n",
      "     a   b    c   d\n",
      "0  0.0 NaN  0.0 NaN\n",
      "1 -4.0 NaN  1.0 NaN\n",
      "2 -2.0 NaN  1.0 NaN\n"
     ]
    }
   ],
   "source": [
    "df = pd.DataFrame(A, columns=['a', 'b', 'c', 'd'])\n",
    "print(df)\n",
    "print()\n",
    "print(df.iloc[0])\n",
    "print(df - df.iloc[0])\n",
    "print()\n",
    "print(df.iloc[0, ::2])\n",
    "print(df - df.iloc[0, ::2]) ## Происходит согласование индексов\n",
    "# на месте отсутствующих индексов получились NaN"
   ]
  },
  {
   "cell_type": "markdown",
   "id": "b97f59af2f4e4a64",
   "metadata": {},
   "source": [
    "NA - значения: NaN (Not a Number), null, -99999\n",
    "\n",
    "Pandas. Два способа хранения отсутствующих значений:\n",
    "1. Индикаторы NaN, None\n",
    "2. null\n",
    "\n",
    "None - объект, его использование может привести к накладным расходам. Этот типа не работает с sum, min (вообще не работает)"
   ]
  },
  {
   "cell_type": "code",
   "execution_count": 35,
   "id": "a91f5eb5d8c94e0b",
   "metadata": {
    "ExecuteTime": {
     "end_time": "2025-02-02T17:34:38.938741Z",
     "start_time": "2025-02-02T17:34:38.912657Z"
    }
   },
   "outputs": [
    {
     "name": "stdout",
     "output_type": "stream",
     "text": [
      "6\n"
     ]
    },
    {
     "ename": "TypeError",
     "evalue": "unsupported operand type(s) for +: 'int' and 'NoneType'",
     "output_type": "error",
     "traceback": [
      "\u001b[1;31m---------------------------------------------------------------------------\u001b[0m",
      "\u001b[1;31mTypeError\u001b[0m                                 Traceback (most recent call last)",
      "Cell \u001b[1;32mIn[35], line 5\u001b[0m\n\u001b[0;32m      2\u001b[0m \u001b[38;5;28mprint\u001b[39m(vall\u001b[38;5;241m.\u001b[39msum())\n\u001b[0;32m      4\u001b[0m vall2 \u001b[38;5;241m=\u001b[39m np\u001b[38;5;241m.\u001b[39marray([\u001b[38;5;241m1\u001b[39m, \u001b[38;5;28;01mNone\u001b[39;00m, \u001b[38;5;241m2\u001b[39m, \u001b[38;5;241m3\u001b[39m])\n\u001b[1;32m----> 5\u001b[0m \u001b[38;5;28mprint\u001b[39m(vall2\u001b[38;5;241m.\u001b[39msum())\n",
      "File \u001b[1;32mC:\\ProgramData\\anaconda3\\Lib\\site-packages\\numpy\\core\\_methods.py:49\u001b[0m, in \u001b[0;36m_sum\u001b[1;34m(a, axis, dtype, out, keepdims, initial, where)\u001b[0m\n\u001b[0;32m     47\u001b[0m \u001b[38;5;28;01mdef\u001b[39;00m \u001b[38;5;21m_sum\u001b[39m(a, axis\u001b[38;5;241m=\u001b[39m\u001b[38;5;28;01mNone\u001b[39;00m, dtype\u001b[38;5;241m=\u001b[39m\u001b[38;5;28;01mNone\u001b[39;00m, out\u001b[38;5;241m=\u001b[39m\u001b[38;5;28;01mNone\u001b[39;00m, keepdims\u001b[38;5;241m=\u001b[39m\u001b[38;5;28;01mFalse\u001b[39;00m,\n\u001b[0;32m     48\u001b[0m          initial\u001b[38;5;241m=\u001b[39m_NoValue, where\u001b[38;5;241m=\u001b[39m\u001b[38;5;28;01mTrue\u001b[39;00m):\n\u001b[1;32m---> 49\u001b[0m     \u001b[38;5;28;01mreturn\u001b[39;00m umr_sum(a, axis, dtype, out, keepdims, initial, where)\n",
      "\u001b[1;31mTypeError\u001b[0m: unsupported operand type(s) for +: 'int' and 'NoneType'"
     ]
    }
   ],
   "source": [
    "vall = np.array([1, 2, 3])\n",
    "print(vall.sum())\n",
    "\n",
    "vall2 = np.array([1, None, 2, 3])\n",
    "print(vall2.sum())"
   ]
  },
  {
   "cell_type": "markdown",
   "id": "a18d7859",
   "metadata": {},
   "source": [
    "NaN(np.nan) позволяет использовать суммы (с суммой NaN), а также считается равным нулю с (nan...)"
   ]
  },
  {
   "cell_type": "code",
   "execution_count": 37,
   "id": "956313b6465dbc28",
   "metadata": {
    "ExecuteTime": {
     "end_time": "2025-02-02T17:36:07.824575Z",
     "start_time": "2025-02-02T17:36:07.810995Z"
    }
   },
   "outputs": [
    {
     "name": "stdout",
     "output_type": "stream",
     "text": [
      "nan\n",
      "nan\n",
      "6.0\n"
     ]
    }
   ],
   "source": [
    "vall = np.array([1, np.nan, 2, 3])\n",
    "\n",
    "print(vall.sum())\n",
    "print(np.sum(vall))\n",
    "print(np.nansum(vall))"
   ]
  },
  {
   "cell_type": "code",
   "execution_count": 28,
   "id": "deb7174ef4385f89",
   "metadata": {
    "ExecuteTime": {
     "end_time": "2025-02-02T17:38:42.395454Z",
     "start_time": "2025-02-02T17:38:42.387617Z"
    }
   },
   "outputs": [
    {
     "name": "stdout",
     "output_type": "stream",
     "text": [
      "0    0\n",
      "1    1\n",
      "2    2\n",
      "3    3\n",
      "4    4\n",
      "dtype: int32\n",
      "0    NaN\n",
      "1    NaN\n",
      "2    2.0\n",
      "3    3.0\n",
      "4    4.0\n",
      "dtype: float64\n"
     ]
    }
   ],
   "source": [
    "x = pd.Series(range(5), dtype=int)\n",
    "print(x)\n",
    "\n",
    "x[0] = None\n",
    "x[1] = np.nan\n",
    "\n",
    "print(x)"
   ]
  },
  {
   "cell_type": "code",
   "execution_count": 31,
   "id": "ee3197c0fab1a298",
   "metadata": {
    "ExecuteTime": {
     "end_time": "2025-02-02T17:39:38.371670Z",
     "start_time": "2025-02-02T17:39:38.365340Z"
    }
   },
   "outputs": [
    {
     "name": "stdout",
     "output_type": "stream",
     "text": [
      "0    a\n",
      "1    b\n",
      "2    c\n",
      "dtype: object\n",
      "0    None\n",
      "1     NaN\n",
      "2       c\n",
      "dtype: object\n"
     ]
    }
   ],
   "source": [
    "x1 = pd.Series(['a', 'b', 'c'])\n",
    "print(x1)\n",
    "\n",
    "x1[0] = None # Так как строки в значениях, то None остается, а не заменяется на NaN\n",
    "x1[1] = np.nan\n",
    "print(x1)"
   ]
  },
  {
   "cell_type": "markdown",
   "id": "300e399f",
   "metadata": {},
   "source": [
    "### Отдельный NA-элемент в Pandas\n",
    "\n",
    "При создании Series можно указывать тип данных"
   ]
  },
  {
   "cell_type": "code",
   "execution_count": 41,
   "id": "4345a3efd6decf71",
   "metadata": {
    "ExecuteTime": {
     "end_time": "2025-02-02T17:44:47.416859Z",
     "start_time": "2025-02-02T17:44:47.409656Z"
    }
   },
   "outputs": [
    {
     "name": "stdout",
     "output_type": "stream",
     "text": [
      "0       1\n",
      "1       2\n",
      "2       3\n",
      "3    <NA>\n",
      "4    <NA>\n",
      "5    <NA>\n",
      "dtype: Int32\n"
     ]
    }
   ],
   "source": [
    "x2 = pd.Series([1, 2, 3, np.nan, None, pd.NA], dtype='Int32')\n",
    "print(x2)"
   ]
  },
  {
   "cell_type": "markdown",
   "id": "3df37280fde334f3",
   "metadata": {},
   "source": [
    "Выделение NA элементов"
   ]
  },
  {
   "cell_type": "code",
   "execution_count": 32,
   "id": "326e75b6ad41ff1",
   "metadata": {
    "ExecuteTime": {
     "end_time": "2025-02-02T17:46:20.179094Z",
     "start_time": "2025-02-02T17:46:20.171259Z"
    }
   },
   "outputs": [
    {
     "name": "stdout",
     "output_type": "stream",
     "text": [
      "0    False\n",
      "1    False\n",
      "2    False\n",
      "3     True\n",
      "4     True\n",
      "5     True\n",
      "dtype: bool\n",
      "3    <NA>\n",
      "4    <NA>\n",
      "5    <NA>\n",
      "dtype: Int32\n",
      "0    1\n",
      "1    2\n",
      "2    3\n",
      "dtype: Int32\n"
     ]
    }
   ],
   "source": [
    "x2 = pd.Series([1, 2, 3, np.nan, None, pd.NA], dtype='Int32')\n",
    "print(x2.isnull())\n",
    "print(x2[x2.isnull()])\n",
    "print(x2[x2.notnull()])"
   ]
  },
  {
   "cell_type": "markdown",
   "id": "ab2ad3347892e254",
   "metadata": {},
   "source": [
    "Удаление NA элементов"
   ]
  },
  {
   "cell_type": "code",
   "execution_count": 44,
   "id": "db8752f6e0ae91d1",
   "metadata": {
    "ExecuteTime": {
     "end_time": "2025-02-02T17:48:25.304276Z",
     "start_time": "2025-02-02T17:48:25.297996Z"
    }
   },
   "outputs": [
    {
     "name": "stdout",
     "output_type": "stream",
     "text": [
      "0    1\n",
      "1    2\n",
      "2    3\n",
      "dtype: Int32\n"
     ]
    }
   ],
   "source": [
    "x2 = pd.Series([1, 2, 3, np.nan, None, pd.NA], dtype='Int32')\n",
    "print(x2.dropna())"
   ]
  },
  {
   "cell_type": "markdown",
   "id": "f7466c2142e4b8e4",
   "metadata": {},
   "source": [
    "Для DataFrame:"
   ]
  },
  {
   "cell_type": "code",
   "execution_count": 34,
   "id": "bc26aeecaf2bd779",
   "metadata": {
    "ExecuteTime": {
     "end_time": "2025-02-02T17:52:45.924943Z",
     "start_time": "2025-02-02T17:52:45.908972Z"
    }
   },
   "outputs": [
    {
     "name": "stdout",
     "output_type": "stream",
     "text": [
      "   0    1  2    3    4     5\n",
      "0  1  2.0  3  NaN  NaN  <NA>\n",
      "1  1  2.0  3  4.0  5.0     6\n",
      "2  1  NaN  3  4.0  NaN     6 \n",
      "\n",
      "   0    1  2    3    4  5\n",
      "1  1  2.0  3  4.0  5.0  6 \n",
      "\n",
      "   0    1  2    3    4  5\n",
      "1  1  2.0  3  4.0  5.0  6 \n",
      "\n",
      "   0  2\n",
      "0  1  3\n",
      "1  1  3\n",
      "2  1  3 \n",
      "\n"
     ]
    }
   ],
   "source": [
    "df = pd.DataFrame([\n",
    "    [1, 2, 3, np.nan, None, pd.NA],\n",
    "    [1, 2, 3, 4, 5, 6],\n",
    "    [1, np.nan, 3, 4, np.nan, 6]\n",
    "])\n",
    "\n",
    "print(df, \"\\n\")\n",
    "print(df.dropna(), \"\\n\")\n",
    "print(df.dropna(axis=0), \"\\n\")\n",
    "print(df.dropna(axis=1), \"\\n\")"
   ]
  },
  {
   "cell_type": "markdown",
   "id": "7f3f369a0785324e",
   "metadata": {},
   "source": [
    "У операции drop есть переменная how, которая может принимать разные значения:\n",
    "- all - строка/столбец выбрасывается, если в ней/нем все значения NA\n",
    "- any - если в ней/нем хотя бы одно значение NaN\n",
    "- thresh = x, строка/столбец остаётся, если присутствует минимум х непустых значений"
   ]
  },
  {
   "cell_type": "code",
   "execution_count": 50,
   "id": "5d3cadb97b1eed34",
   "metadata": {
    "ExecuteTime": {
     "end_time": "2025-02-02T18:40:38.789664Z",
     "start_time": "2025-02-02T18:40:38.779323Z"
    }
   },
   "outputs": [
    {
     "name": "stdout",
     "output_type": "stream",
     "text": [
      "   0    1  2    4     5\n",
      "0  1  2.0  3  NaN  <NA>\n",
      "1  1  2.0  3  5.0     6\n",
      "2  1  NaN  3  NaN     6\n",
      "   0  2\n",
      "0  1  3\n",
      "1  1  3\n",
      "2  1  3\n",
      "   0    1  2     5\n",
      "0  1  2.0  3  <NA>\n",
      "1  1  2.0  3     6\n",
      "2  1  NaN  3     6\n"
     ]
    }
   ],
   "source": [
    "df = pd.DataFrame([\n",
    "    [1, 2, 3, np.nan, None, pd.NA],\n",
    "    [1, 2, 3, None, 5, 6],\n",
    "    [1, np.nan, 3, None, np.nan, 6]\n",
    "])\n",
    "\n",
    "print(df.dropna(axis=1, how='all'))\n",
    "print(df.dropna(axis=1, how='any'))\n",
    "print(df.dropna(axis=1, thresh=2))"
   ]
  }
 ],
 "metadata": {
  "kernelspec": {
   "display_name": "Python 3 (ipykernel)",
   "language": "python",
   "name": "python3"
  },
  "language_info": {
   "codemirror_mode": {
    "name": "ipython",
    "version": 3
   },
   "file_extension": ".py",
   "mimetype": "text/x-python",
   "name": "python",
   "nbconvert_exporter": "python",
   "pygments_lexer": "ipython3",
   "version": "3.11.5"
  }
 },
 "nbformat": 4,
 "nbformat_minor": 5
}
