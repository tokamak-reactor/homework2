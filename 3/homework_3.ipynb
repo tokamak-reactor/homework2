{
 "cells": [
  {
   "cell_type": "code",
   "execution_count": 2,
   "id": "ca862dc9",
   "metadata": {},
   "outputs": [],
   "source": [
    "import numpy as np\n",
    "import pandas as pd"
   ]
  },
  {
   "cell_type": "markdown",
   "id": "d1d06473",
   "metadata": {},
   "source": [
    "# Домашняя работа №3"
   ]
  },
  {
   "cell_type": "markdown",
   "id": "f869fd10",
   "metadata": {},
   "source": [
    "№1 Привести различные способы создания объектов типа Series\n",
    "\n",
    "1. Списки Python или массивы Numpy\n",
    "2. Скалярные значения из Python\n",
    "3. Словари из Python"
   ]
  },
  {
   "cell_type": "code",
   "execution_count": 81,
   "id": "d305ffe5",
   "metadata": {},
   "outputs": [
    {
     "name": "stdout",
     "output_type": "stream",
     "text": [
      "0    0.1\n",
      "1    0.2\n",
      "2    0.3\n",
      "3    0.4\n",
      "dtype: float64 \n",
      "\n",
      "0    0.1\n",
      "1    0.2\n",
      "2    0.3\n",
      "3    0.4\n",
      "dtype: float64 \n",
      "\n",
      "0    1\n",
      "1    1\n",
      "2    1\n",
      "dtype: int64 \n",
      "\n",
      "key1    1\n",
      "key2    2\n",
      "key3    3\n",
      "dtype: int64 \n",
      "\n"
     ]
    }
   ],
   "source": [
    "#1\n",
    "a1 = np.array([0.1, 0.2, 0.3, 0.4])\n",
    "s1 = pd.Series(a1)\n",
    "print(s1, \"\\n\")\n",
    "a2 = [0.1, 0.2, 0.3, 0.4]\n",
    "s2 = pd.Series(a2)\n",
    "print(s2, \"\\n\")\n",
    "#2\n",
    "s3 = pd.Series(1, index = (0, 1 ,2))\n",
    "print(s3, \"\\n\")\n",
    "#3\n",
    "d1 = {'key1' : 1,\n",
    "      'key2' : 2,\n",
    "      'key3' : 3\n",
    "     }\n",
    "s4 = pd.Series(d1)\n",
    "print(s4, \"\\n\")"
   ]
  },
  {
   "cell_type": "markdown",
   "id": "0d631c4b",
   "metadata": {},
   "source": [
    "№2 Привести все способы создания объектов типа DataFrame"
   ]
  },
  {
   "cell_type": "markdown",
   "id": "3b26799b",
   "metadata": {},
   "source": [
    "1. Через объекты Series\n",
    "2. Списки словарей\n",
    "3. Словари объектов Series\n",
    "4. Двумерный массив Numpy\n",
    "5. Структурированный массив Numpy"
   ]
  },
  {
   "cell_type": "code",
   "execution_count": 21,
   "id": "5e6deae3",
   "metadata": {},
   "outputs": [
    {
     "name": "stdout",
     "output_type": "stream",
     "text": [
      "       0\n",
      "0  Adele\n",
      "1  Alice\n",
      "2    Bob\n"
     ]
    }
   ],
   "source": [
    "#1\n",
    "names = pd.Series(['Adele', 'Alice', 'Bob'])\n",
    "\n",
    "df1 = pd.DataFrame(data=names)\n",
    "\n",
    "print(df1)"
   ]
  },
  {
   "cell_type": "code",
   "execution_count": 24,
   "id": "c7a5d6ad",
   "metadata": {},
   "outputs": [
    {
     "name": "stdout",
     "output_type": "stream",
     "text": [
      "   Data1  Data2\n",
      "0      1      4\n",
      "1      2      5\n",
      "2      3      6\n"
     ]
    }
   ],
   "source": [
    "#2\n",
    "df2 = pd.DataFrame([{'Data1': 1, 'Data2': 4}, {'Data1': 2, 'Data2': 5}, {'Data1': 3, 'Data2': 6}])\n",
    "\n",
    "print(df2)"
   ]
  },
  {
   "cell_type": "code",
   "execution_count": 27,
   "id": "9913b19e",
   "metadata": {},
   "outputs": [
    {
     "name": "stdout",
     "output_type": "stream",
     "text": [
      "   Player  Score\n",
      "0     Bob      4\n",
      "1  Andrew      5\n",
      "2    John      6\n"
     ]
    }
   ],
   "source": [
    "#3\n",
    "df3 = pd.DataFrame({'Player': pd.Series([\"Bob\", \"Andrew\", \"John\"]), 'Score': pd.Series([4, 5, 6])})\n",
    "print(df3)"
   ]
  },
  {
   "cell_type": "code",
   "execution_count": 29,
   "id": "adc9c374",
   "metadata": {},
   "outputs": [
    {
     "name": "stdout",
     "output_type": "stream",
     "text": [
      "   a  b  c\n",
      "0  1  2  3\n",
      "1  4  5  6\n",
      "2  7  8  9\n"
     ]
    }
   ],
   "source": [
    "#4\n",
    "df4 = pd.DataFrame(np.array([[1, 2, 3], [4, 5, 6], [7, 8, 9]]),\n",
    "                   columns=['a', 'b', 'c'])\n",
    "print(df4)"
   ]
  },
  {
   "cell_type": "code",
   "execution_count": 38,
   "id": "c279de61",
   "metadata": {},
   "outputs": [
    {
     "name": "stdout",
     "output_type": "stream",
     "text": [
      "   name  age  weight\n",
      "0   Rex    9    81.0\n",
      "1  Fido    3    27.0\n"
     ]
    }
   ],
   "source": [
    "#5\n",
    "x = np.array([('Rex', 9, 81.0), ('Fido', 3, 27.0)],\n",
    "             dtype=[('name', 'U10'), ('age', 'i4'), ('weight', 'f4')])\n",
    "df5 = pd.DataFrame(x)\n",
    "print(df5)"
   ]
  },
  {
   "cell_type": "markdown",
   "id": "7ae1f7c4",
   "metadata": {},
   "source": [
    "#3. Объедините два объекта Series с неодинакомым множеством ключей(индексов) так, чтобы вместо NaN было установлено значение 1"
   ]
  },
  {
   "cell_type": "code",
   "execution_count": 40,
   "id": "d3d31079",
   "metadata": {},
   "outputs": [
    {
     "name": "stdout",
     "output_type": "stream",
     "text": [
      "          area1    pop1\n",
      "city_1   9991.0  1001.0\n",
      "city_2   9992.0  1002.0\n",
      "city_3   9993.0  1003.0\n",
      "city_41     1.0  1004.0\n",
      "city_42  9994.0     1.0\n",
      "city_51     1.0  1005.0\n",
      "city_52  9995.0     1.0\n"
     ]
    }
   ],
   "source": [
    "pop = pd.Series({\n",
    "    'city_1' : 1001,\n",
    "    'city_2' : 1002,\n",
    "    'city_3' : 1003,\n",
    "    'city_41' : 1004,\n",
    "    'city_51' : 1005\n",
    "})\n",
    "area = pd.Series({\n",
    "    'city_1' : 9991,\n",
    "    'city_2' : 9992,\n",
    "    'city_3' : 9993,\n",
    "    'city_42' : 9994,\n",
    "    'city_52' : 9995 \n",
    "})\n",
    "\n",
    "df = pd.DataFrame({'area1' : area, 'pop1' : pop})\n",
    "df.fillna(1, inplace=True)\n",
    "\n",
    "print(df)"
   ]
  },
  {
   "cell_type": "markdown",
   "id": "0461f004",
   "metadata": {},
   "source": [
    "#4. Переписать пример с транслированием для DataFrame так, чтобы вычитание происходило не по строкам, а по столбцам"
   ]
  },
  {
   "cell_type": "code",
   "execution_count": 60,
   "id": "f0fa3f0e",
   "metadata": {},
   "outputs": [
    {
     "name": "stdout",
     "output_type": "stream",
     "text": [
      "   a  b  c  d\n",
      "0  4  5  7  9\n",
      "1  0  1  8  9\n",
      "2  2  3  8  4\n",
      "\n",
      "<class 'pandas.core.series.Series'>\n",
      "   a  b  c  d\n",
      "0  0  1  3  5\n",
      "1  0  1  8  9\n",
      "2  0  1  6  2\n",
      "\n",
      "0    4\n",
      "2    2\n",
      "Name: a, dtype: int64\n",
      "     a    b    c    d\n",
      "0  0.0  1.0  3.0  5.0\n",
      "1  NaN  NaN  NaN  NaN\n",
      "2  0.0  1.0  6.0  2.0\n"
     ]
    }
   ],
   "source": [
    "rng = np.random.default_rng(1)\n",
    "\n",
    "A = rng.integers(0, 10, (3, 4))\n",
    "\n",
    "df = pd.DataFrame(A, columns=['a', 'b', 'c', 'd'])\n",
    "print(df)\n",
    "print()\n",
    "print(type(df.iloc[0]))\n",
    "print(df.sub(df.iloc[:, 0], axis=0))\n",
    "print()\n",
    "print(df.iloc[::2, 0])\n",
    "print(df.sub(df.iloc[::2, 0], axis=0)) ## Происходит согласование индексов\n",
    "# на месте отсутствующих индексов получились NaN"
   ]
  },
  {
   "cell_type": "markdown",
   "id": "6531ec05",
   "metadata": {},
   "source": [
    "#5. На примере Series, DataFrame продемонстрируйте использование методов ffill(), bfill()"
   ]
  },
  {
   "cell_type": "code",
   "execution_count": 78,
   "id": "4112316a",
   "metadata": {},
   "outputs": [
    {
     "name": "stdout",
     "output_type": "stream",
     "text": [
      "0.1    5.000000e+19\n",
      "0.2             NaN\n",
      "0.3    4.000000e+19\n",
      "0.5    6.000000e+19\n",
      "dtype: float64 \n",
      "\n",
      "0.1    5.000000e+19\n",
      "0.2    5.000000e+19\n",
      "0.3    4.000000e+19\n",
      "0.5    6.000000e+19\n",
      "dtype: float64\n"
     ]
    }
   ],
   "source": [
    "#Series .ffill\n",
    "n1 = pd.Series({\n",
    "    0.1 : 5e19,\n",
    "    0.2 : np.nan,\n",
    "    0.3 : 4e19,\n",
    "    0.5 : 6e19\n",
    "              })\n",
    "print(n1, \"\\n\")\n",
    "print(n1.ffill())"
   ]
  },
  {
   "cell_type": "code",
   "execution_count": 79,
   "id": "19fb802f",
   "metadata": {},
   "outputs": [
    {
     "name": "stdout",
     "output_type": "stream",
     "text": [
      "0.1    5.000000e+19\n",
      "0.2             NaN\n",
      "0.3    4.000000e+19\n",
      "0.5    6.000000e+19\n",
      "dtype: float64 \n",
      "\n",
      "0.1    5.000000e+19\n",
      "0.2    4.000000e+19\n",
      "0.3    4.000000e+19\n",
      "0.5    6.000000e+19\n",
      "dtype: float64\n"
     ]
    }
   ],
   "source": [
    "#Series .bfill\n",
    "n2 = pd.Series({\n",
    "    0.1 : 5e19,\n",
    "    0.2 : np.nan,\n",
    "    0.3 : 4e19,\n",
    "    0.5 : 6e19\n",
    "              })\n",
    "print(n2, \"\\n\")\n",
    "print(n2.bfill())"
   ]
  },
  {
   "cell_type": "code",
   "execution_count": 76,
   "id": "d333e0b8",
   "metadata": {},
   "outputs": [
    {
     "name": "stdout",
     "output_type": "stream",
     "text": [
      "               n1            n2\n",
      "0.1  5.000000e+19  5.000000e+19\n",
      "0.2           NaN           NaN\n",
      "0.3  4.000000e+19  4.000000e+19\n",
      "0.5  6.000000e+19  6.000000e+19 \n",
      "\n",
      "               n1            n2\n",
      "0.1  5.000000e+19  5.000000e+19\n",
      "0.2  5.000000e+19  5.000000e+19\n",
      "0.3  4.000000e+19  4.000000e+19\n",
      "0.5  6.000000e+19  6.000000e+19\n"
     ]
    }
   ],
   "source": [
    "#DataFrame .ffill\n",
    "dfn = pd.DataFrame({'n1': n1, 'n2': n2})\n",
    "print(dfn, \"\\n\")\n",
    "print(dfn.ffill())"
   ]
  },
  {
   "cell_type": "code",
   "execution_count": 77,
   "id": "a28d8418",
   "metadata": {},
   "outputs": [
    {
     "name": "stdout",
     "output_type": "stream",
     "text": [
      "               n1            n2\n",
      "0.1  5.000000e+19  5.000000e+19\n",
      "0.2           NaN           NaN\n",
      "0.3  4.000000e+19  4.000000e+19\n",
      "0.5  6.000000e+19  6.000000e+19 \n",
      "\n",
      "               n1            n2\n",
      "0.1  5.000000e+19  5.000000e+19\n",
      "0.2  4.000000e+19  4.000000e+19\n",
      "0.3  4.000000e+19  4.000000e+19\n",
      "0.5  6.000000e+19  6.000000e+19\n"
     ]
    }
   ],
   "source": [
    "#DataFrame .bfill\n",
    "dfn = pd.DataFrame({'n1': n1, 'n2': n2})\n",
    "print(dfn, \"\\n\")\n",
    "print(dfn.bfill())"
   ]
  },
  {
   "cell_type": "code",
   "execution_count": null,
   "id": "f652709f",
   "metadata": {},
   "outputs": [],
   "source": []
  }
 ],
 "metadata": {
  "kernelspec": {
   "display_name": "Python 3 (ipykernel)",
   "language": "python",
   "name": "python3"
  },
  "language_info": {
   "codemirror_mode": {
    "name": "ipython",
    "version": 3
   },
   "file_extension": ".py",
   "mimetype": "text/x-python",
   "name": "python",
   "nbconvert_exporter": "python",
   "pygments_lexer": "ipython3",
   "version": "3.11.5"
  }
 },
 "nbformat": 4,
 "nbformat_minor": 5
}
