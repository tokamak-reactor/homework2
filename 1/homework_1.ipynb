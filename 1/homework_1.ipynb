{
 "cells": [
  {
   "cell_type": "code",
   "execution_count": 82,
   "id": "initial_id",
   "metadata": {
    "ExecuteTime": {
     "end_time": "2025-01-04T17:07:18.245464Z",
     "start_time": "2025-01-04T17:07:18.242377Z"
    },
    "collapsed": true
   },
   "outputs": [],
   "source": [
    "import numpy as np\n",
    "import sys\n",
    "import array"
   ]
  },
  {
   "cell_type": "markdown",
   "id": "a2ff67dd297df393",
   "metadata": {},
   "source": [
    "## Домашняя работа №1:\n"
   ]
  },
  {
   "cell_type": "markdown",
   "id": "7cb4d25f865628df",
   "metadata": {},
   "source": [
    "## 1. Какие ещё существует коды типов?\n",
    " "
   ]
  },
  {
   "cell_type": "raw",
   "id": "c21d76b58bac8948",
   "metadata": {},
   "source": [
    "'b'/'B' - signed/unsigned char в СИ (int, 1 байт)\n",
    "'u'/'w' - Unicode characters (2/4 байта)\n",
    "'h'/'H' - signed/unsigned short в СИ (int, 2 байта)\n",
    "'i'/'I' - signed/unsigned int в СИ (int, 2 байта (в СИ short и int могут быть различны на разных CPU)\n",
    "'l'/'L' - signed/unsigned long в СИ (int, 4 байта)\n",
    "'q'/'Q' - signed/unsigned long long в СИ (int, 8 байт)\n",
    "'f' - float в СИ (float, 4 байта)\n",
    "'d' - double в СИ(float, 8 байт)"
   ]
  },
  {
   "cell_type": "markdown",
   "id": "2d5c8e9b9bf6c221",
   "metadata": {},
   "source": [
    "## 2. Напишите код, подобный приведённому выше, но с другим типом"
   ]
  },
  {
   "cell_type": "code",
   "execution_count": 86,
   "id": "181c12776e3139d1",
   "metadata": {
    "ExecuteTime": {
     "end_time": "2025-01-04T17:07:18.675666Z",
     "start_time": "2025-01-04T17:07:18.671330Z"
    }
   },
   "outputs": [
    {
     "name": "stdout",
     "output_type": "stream",
     "text": [
      "array('u', 'c~ё')\n",
      "92\n",
      "<class 'array.array'>\n"
     ]
    }
   ],
   "source": [
    "my_a = array.array('u', ['c', '~', 'ё'])\n",
    "print(my_a)\n",
    "\n",
    "print(sys.getsizeof(a1))\n",
    "print(type(a1))"
   ]
  },
  {
   "cell_type": "markdown",
   "id": "9465cdd0a19c605d",
   "metadata": {},
   "source": [
    "## 3. Напишите код для создания массива с 5 значениями, располагающимися через равные интервалы в диапазоне от 0 до 1"
   ]
  },
  {
   "cell_type": "code",
   "execution_count": 96,
   "id": "4708fb8188a04ae0",
   "metadata": {
    "ExecuteTime": {
     "end_time": "2025-01-04T17:07:19.135168Z",
     "start_time": "2025-01-04T17:07:19.129159Z"
    }
   },
   "outputs": [
    {
     "name": "stdout",
     "output_type": "stream",
     "text": [
      "[0.   0.25 0.5  0.75 1.  ]\n"
     ]
    }
   ],
   "source": [
    "my_b = np.linspace(0, 1, 5)\n",
    "print(my_b)"
   ]
  },
  {
   "cell_type": "markdown",
   "id": "2c26b2f7dca3de3f",
   "metadata": {},
   "source": [
    "## 4. Напишите код для создания массива с 5 равномерно распределенными случайными значениями в диапазоне от 0 до 1\n"
   ]
  },
  {
   "cell_type": "code",
   "execution_count": 97,
   "id": "77ca95e4aec16e13",
   "metadata": {
    "ExecuteTime": {
     "end_time": "2025-01-04T17:07:19.183334Z",
     "start_time": "2025-01-04T17:07:19.178784Z"
    }
   },
   "outputs": [
    {
     "name": "stdout",
     "output_type": "stream",
     "text": [
      "[0.14038694 0.19810149 0.80074457 0.96826158 0.31342418]\n"
     ]
    }
   ],
   "source": [
    "my_c = np.random.rand(5)\n",
    "print(my_c)"
   ]
  },
  {
   "cell_type": "markdown",
   "id": "b6fee6d598b642a8",
   "metadata": {},
   "source": [
    "## 5. Напишите код для создания массива с 5 нормально распределенными случайными значениями с мат. ожиданием равным 0 и дисперсией 1"
   ]
  },
  {
   "cell_type": "code",
   "execution_count": 98,
   "id": "a847af59a981170d",
   "metadata": {
    "ExecuteTime": {
     "end_time": "2025-01-04T17:07:19.243962Z",
     "start_time": "2025-01-04T17:07:19.239739Z"
    }
   },
   "outputs": [
    {
     "name": "stdout",
     "output_type": "stream",
     "text": [
      "[ 0.7299756   0.37299379  0.53381091 -0.0919733   1.91382039]\n"
     ]
    }
   ],
   "source": [
    "my_d = np.random.normal(size=5)\n",
    "print(my_d)"
   ]
  },
  {
   "cell_type": "markdown",
   "id": "985bfad6d112c314",
   "metadata": {},
   "source": [
    "## 6. Напишите код для создания массива с 5 случайными целыми числами в диапазоне от [0 до 10)"
   ]
  },
  {
   "cell_type": "code",
   "execution_count": 99,
   "id": "1f2aee57602cd5bb",
   "metadata": {
    "ExecuteTime": {
     "end_time": "2025-01-04T17:07:19.278693Z",
     "start_time": "2025-01-04T17:07:19.273463Z"
    }
   },
   "outputs": [
    {
     "name": "stdout",
     "output_type": "stream",
     "text": [
      "[1 4 0 3 9]\n"
     ]
    }
   ],
   "source": [
    "my_e = np.random.randint(10, size=5)\n",
    "print(my_e)"
   ]
  },
  {
   "cell_type": "markdown",
   "id": "1cb3b7acfede9d31",
   "metadata": {},
   "source": [
    "## 7. Написать код для создания срезов массива 3 на 4\n",
    "- первые две строки и три столбца\n",
    "- первые три строки и второй столбец\n",
    "- все строки и столбцы в обратном порядке\n",
    "- второй столбец\n",
    "- третья строка"
   ]
  },
  {
   "cell_type": "code",
   "execution_count": 123,
   "id": "c446a3511d5d50ad",
   "metadata": {
    "ExecuteTime": {
     "end_time": "2025-01-04T17:14:25.210708Z",
     "start_time": "2025-01-04T17:14:25.204968Z"
    }
   },
   "outputs": [
    {
     "name": "stdout",
     "output_type": "stream",
     "text": [
      "[[ 1  2  3  4]\n",
      " [ 5  6  7  8]\n",
      " [ 9 10 11 12]]\n"
     ]
    }
   ],
   "source": [
    "my_f = np.array([[1, 2, 3, 4], [5, 6, 7, 8], [9, 10, 11, 12]])\n",
    "print(my_f)"
   ]
  },
  {
   "cell_type": "code",
   "execution_count": 124,
   "id": "8b4d97be0ca45026",
   "metadata": {
    "ExecuteTime": {
     "end_time": "2025-01-04T17:14:26.729537Z",
     "start_time": "2025-01-04T17:14:26.724670Z"
    }
   },
   "outputs": [
    {
     "name": "stdout",
     "output_type": "stream",
     "text": [
      "[[1 2 3]\n",
      " [5 6 7]]\n"
     ]
    }
   ],
   "source": [
    "print(my_f[:2, :3])"
   ]
  },
  {
   "cell_type": "code",
   "execution_count": 129,
   "id": "d10b60d456d9e618",
   "metadata": {
    "ExecuteTime": {
     "end_time": "2025-01-04T17:15:31.801157Z",
     "start_time": "2025-01-04T17:15:31.797411Z"
    }
   },
   "outputs": [
    {
     "name": "stdout",
     "output_type": "stream",
     "text": [
      "[ 2  6 10]\n"
     ]
    }
   ],
   "source": [
    "print(my_f[:3, 1])"
   ]
  },
  {
   "cell_type": "code",
   "execution_count": 126,
   "id": "b019c63495260868",
   "metadata": {
    "ExecuteTime": {
     "end_time": "2025-01-04T17:14:29.800311Z",
     "start_time": "2025-01-04T17:14:29.794863Z"
    }
   },
   "outputs": [
    {
     "name": "stdout",
     "output_type": "stream",
     "text": [
      "[[12 11 10  9]\n",
      " [ 8  7  6  5]\n",
      " [ 4  3  2  1]]\n"
     ]
    }
   ],
   "source": [
    "print(my_f[::-1, ::-1])"
   ]
  },
  {
   "cell_type": "code",
   "execution_count": 127,
   "id": "80c641fcaa6ab001",
   "metadata": {
    "ExecuteTime": {
     "end_time": "2025-01-04T17:14:42.883722Z",
     "start_time": "2025-01-04T17:14:42.878399Z"
    }
   },
   "outputs": [
    {
     "name": "stdout",
     "output_type": "stream",
     "text": [
      "[ 2  6 10]\n"
     ]
    }
   ],
   "source": [
    "print(my_f[:, 1])"
   ]
  },
  {
   "cell_type": "code",
   "execution_count": 128,
   "id": "e7e5199338cf77b8",
   "metadata": {
    "ExecuteTime": {
     "end_time": "2025-01-04T17:14:45.451910Z",
     "start_time": "2025-01-04T17:14:45.447678Z"
    }
   },
   "outputs": [
    {
     "name": "stdout",
     "output_type": "stream",
     "text": [
      "[ 9 10 11 12]\n"
     ]
    }
   ],
   "source": [
    "print(my_f[2, :])"
   ]
  },
  {
   "cell_type": "markdown",
   "id": "5e97e7f01bfe14c7",
   "metadata": {},
   "source": [
    "## 8. Продемонстрируйте, как сделать срез-копию"
   ]
  },
  {
   "cell_type": "code",
   "execution_count": 133,
   "id": "7aefd270dec5ca7f",
   "metadata": {
    "ExecuteTime": {
     "end_time": "2025-01-04T17:48:02.266800Z",
     "start_time": "2025-01-04T17:48:02.261460Z"
    }
   },
   "outputs": [
    {
     "name": "stdout",
     "output_type": "stream",
     "text": [
      "[3 0]\n",
      "[1 2 3 4 5 6]\n"
     ]
    }
   ],
   "source": [
    "a = np.arange(1, 7)\n",
    "b = np.copy(a[2:4])\n",
    "b[1] = 0\n",
    "print(b)\n",
    "print(a)"
   ]
  },
  {
   "cell_type": "markdown",
   "id": "20191ff7df3ddb0f",
   "metadata": {},
   "source": [
    "## 9. Продемонстрируйте использования newaxis для получения вектора-столбца и вектора-строки из массива"
   ]
  },
  {
   "cell_type": "code",
   "execution_count": 136,
   "id": "5683774997c05b01",
   "metadata": {
    "ExecuteTime": {
     "end_time": "2025-01-04T18:09:42.917914Z",
     "start_time": "2025-01-04T18:09:42.911818Z"
    }
   },
   "outputs": [
    {
     "name": "stdout",
     "output_type": "stream",
     "text": [
      "[[1]\n",
      " [2]\n",
      " [3]\n",
      " [4]\n",
      " [5]\n",
      " [6]\n",
      " [7]\n",
      " [8]\n",
      " [9]]\n",
      "[[1 2 3 4 5 6 7 8 9]]\n"
     ]
    }
   ],
   "source": [
    "my_g = np.arange(1, 10)\n",
    "my_g_column = my_g[:, np.newaxis]\n",
    "print(my_g_column)\n",
    "my_g_raw = my_g[np.newaxis, :]\n",
    "print(my_g_raw)"
   ]
  },
  {
   "cell_type": "code",
   "execution_count": 137,
   "id": "db3d8a61460d1aef",
   "metadata": {
    "ExecuteTime": {
     "end_time": "2025-01-04T18:12:18.195389Z",
     "start_time": "2025-01-04T18:12:18.190391Z"
    }
   },
   "outputs": [
    {
     "name": "stdout",
     "output_type": "stream",
     "text": [
      "[1 2 3 4 5 6]\n"
     ]
    }
   ],
   "source": [
    "x = np.array([1, 2, 3])\n",
    "y = np.array([4, 5])\n",
    "z = np.array([6])\n",
    "\n",
    "print (np.concatenate([x, y, z]))"
   ]
  },
  {
   "cell_type": "code",
   "execution_count": 140,
   "id": "4c6d5f2f169dff8d",
   "metadata": {
    "ExecuteTime": {
     "end_time": "2025-01-04T18:14:42.407967Z",
     "start_time": "2025-01-04T18:14:42.403196Z"
    }
   },
   "outputs": [
    {
     "name": "stdout",
     "output_type": "stream",
     "text": [
      "[[1 2 3]\n",
      " [4 5 6]]\n"
     ]
    }
   ],
   "source": [
    "y = np.array([4, 5, 6])\n",
    "r1 = np.vstack([x, y])\n",
    "print(r1)"
   ]
  },
  {
   "cell_type": "code",
   "execution_count": 148,
   "id": "afdf908d14e0e08e",
   "metadata": {
    "ExecuteTime": {
     "end_time": "2025-01-04T18:22:48.641622Z",
     "start_time": "2025-01-04T18:22:48.636798Z"
    }
   },
   "outputs": [
    {
     "name": "stdout",
     "output_type": "stream",
     "text": [
      "[1 2 3 4 5 6]\n"
     ]
    }
   ],
   "source": [
    "print(np.hstack([x, y]))"
   ]
  },
  {
   "cell_type": "markdown",
   "id": "477c6993283452c8",
   "metadata": {},
   "source": [
    "## 10. Разобраться, как работает dstack"
   ]
  },
  {
   "cell_type": "code",
   "execution_count": 152,
   "id": "546045e8c2517023",
   "metadata": {
    "ExecuteTime": {
     "end_time": "2025-01-04T18:34:01.463552Z",
     "start_time": "2025-01-04T18:34:01.457007Z"
    }
   },
   "outputs": [
    {
     "name": "stdout",
     "output_type": "stream",
     "text": [
      "[[[1 4]\n",
      "  [2 5]\n",
      "  [3 6]]]\n",
      "(1, 3, 2)\n",
      "[[[1 1]\n",
      "  [2 2]\n",
      "  [3 3]]\n",
      "\n",
      " [[4 4]\n",
      "  [5 5]\n",
      "  [6 6]]]\n",
      "(2, 3, 2)\n"
     ]
    }
   ],
   "source": [
    "my_h1  = np.dstack([x, y])\n",
    "print(my_h1)\n",
    "print(np.shape(my_h1))\n",
    "my_h2 = np.dstack([np.vstack([x, y]), np.vstack([x, y])])\n",
    "print(my_h2)\n",
    "print(np.shape(my_h2))"
   ]
  },
  {
   "cell_type": "raw",
   "id": "b49595e5373bbc4a",
   "metadata": {},
   "source": [
    "np.dstack расширяет массив до 3-мерного, если он был меньшей размерности. Если массив был 2-мерным, то он превращается в 3-мерный с размером по 3 оси равным 1. Если массив одномерный, то он превращается в 2-мерный вектор-строку, а затем аналогично получает 3-ю ось с размером 1.\n",
    "После этого или если оба массива уже размерности 3, np.dstack склеивает их по третьей оси."
   ]
  },
  {
   "cell_type": "markdown",
   "id": "fda243238775c8a3",
   "metadata": {},
   "source": [
    "# 11. Разобраться, как работают методы split, vsplit, hsplit, dsplit"
   ]
  },
  {
   "cell_type": "code",
   "execution_count": 154,
   "id": "d59e7f019a8ea5d0",
   "metadata": {
    "ExecuteTime": {
     "end_time": "2025-01-04T19:03:39.013553Z",
     "start_time": "2025-01-04T19:03:39.005541Z"
    }
   },
   "outputs": [
    {
     "name": "stdout",
     "output_type": "stream",
     "text": [
      "[1 2 3] [4 5] [6]\n"
     ]
    }
   ],
   "source": [
    "x = np.array([1, 2, 3])\n",
    "y = np.array([4, 5])\n",
    "z = np.array([6])\n",
    "xyz = np.concatenate([x, y, z])\n",
    "x, y, z = np.split(xyz, [3, 5])\n",
    "print(x, y, z)"
   ]
  },
  {
   "cell_type": "code",
   "execution_count": 158,
   "id": "c042e0a98536ebaa",
   "metadata": {
    "ExecuteTime": {
     "end_time": "2025-01-04T19:06:18.294383Z",
     "start_time": "2025-01-04T19:06:18.290155Z"
    }
   },
   "outputs": [
    {
     "name": "stdout",
     "output_type": "stream",
     "text": [
      "[[1 2 3]] [[4 5 6]]\n",
      "[[1 2 3]\n",
      " [4 5 6]]\n"
     ]
    }
   ],
   "source": [
    "y = np.array([4, 5, 6])\n",
    "xy = np.vstack([x, y])\n",
    "print(xy)\n",
    "x, y = np.vsplit(xy, 2)\n",
    "print(x, y)"
   ]
  },
  {
   "cell_type": "code",
   "execution_count": 160,
   "id": "63fd8c8b0765d1d8",
   "metadata": {
    "ExecuteTime": {
     "end_time": "2025-01-04T19:07:44.114880Z",
     "start_time": "2025-01-04T19:07:44.109513Z"
    }
   },
   "outputs": [
    {
     "name": "stdout",
     "output_type": "stream",
     "text": [
      "[1 2 3 4 5 6]\n",
      "[1 2 3] [4 5 6]\n"
     ]
    }
   ],
   "source": [
    "x = np.array([1, 2, 3])\n",
    "y = np.array([4, 5, 6])\n",
    "xy = np.hstack([x, y])\n",
    "print(xy)\n",
    "x, y = np.hsplit(xy, 2)\n",
    "print(x, y)"
   ]
  },
  {
   "cell_type": "code",
   "execution_count": 166,
   "id": "9ea84b3b76e1ccdb",
   "metadata": {
    "ExecuteTime": {
     "end_time": "2025-01-04T19:09:28.299327Z",
     "start_time": "2025-01-04T19:09:28.292329Z"
    }
   },
   "outputs": [
    {
     "name": "stdout",
     "output_type": "stream",
     "text": [
      "[[[1 4]\n",
      "  [2 5]\n",
      "  [3 6]]]\n",
      "\n",
      "[[[1]\n",
      "  [2]\n",
      "  [3]]]\n",
      "\n",
      "[[[4]\n",
      "  [5]\n",
      "  [6]]]\n"
     ]
    }
   ],
   "source": [
    "xy  = np.dstack([x, y])\n",
    "print(xy)\n",
    "print()\n",
    "x, y = np.dsplit(xy, 2)\n",
    "print(x)\n",
    "print()\n",
    "print(y)"
   ]
  },
  {
   "cell_type": "markdown",
   "id": "6a0a6748125d095",
   "metadata": {},
   "source": [
    "## 12. Привести примеры использования универсальных функций\n"
   ]
  },
  {
   "cell_type": "code",
   "execution_count": 171,
   "id": "a4cca3ce890465c6",
   "metadata": {
    "ExecuteTime": {
     "end_time": "2025-01-04T19:29:28.403071Z",
     "start_time": "2025-01-04T19:29:28.398249Z"
    }
   },
   "outputs": [
    {
     "name": "stdout",
     "output_type": "stream",
     "text": [
      "[[1. 1. 1.]\n",
      " [1. 1. 1.]\n",
      " [1. 1. 1.]]\n"
     ]
    }
   ],
   "source": [
    "my_i = np.ones((3, 3))\n",
    "print(my_i)"
   ]
  },
  {
   "cell_type": "code",
   "execution_count": 172,
   "id": "7f19c78ddcc0f72a",
   "metadata": {
    "ExecuteTime": {
     "end_time": "2025-01-04T20:01:09.690603Z",
     "start_time": "2025-01-04T20:01:09.685338Z"
    }
   },
   "outputs": [
    {
     "name": "stdout",
     "output_type": "stream",
     "text": [
      "[[3. 3. 3.]\n",
      " [3. 3. 3.]\n",
      " [3. 3. 3.]]\n"
     ]
    }
   ],
   "source": [
    "print(my_i+2)"
   ]
  },
  {
   "cell_type": "code",
   "execution_count": 173,
   "id": "c47c9fa17eff6469",
   "metadata": {
    "ExecuteTime": {
     "end_time": "2025-01-04T20:01:12.317637Z",
     "start_time": "2025-01-04T20:01:12.313129Z"
    }
   },
   "outputs": [
    {
     "name": "stdout",
     "output_type": "stream",
     "text": [
      "[[-1. -1. -1.]\n",
      " [-1. -1. -1.]\n",
      " [-1. -1. -1.]]\n"
     ]
    }
   ],
   "source": [
    "print(my_i-2)"
   ]
  },
  {
   "cell_type": "code",
   "execution_count": 174,
   "id": "e5e245572fc908d2",
   "metadata": {
    "ExecuteTime": {
     "end_time": "2025-01-04T20:01:14.178916Z",
     "start_time": "2025-01-04T20:01:14.173017Z"
    }
   },
   "outputs": [
    {
     "name": "stdout",
     "output_type": "stream",
     "text": [
      "[[-1. -1. -1.]\n",
      " [-1. -1. -1.]\n",
      " [-1. -1. -1.]]\n"
     ]
    }
   ],
   "source": [
    "print(-my_i)"
   ]
  },
  {
   "cell_type": "code",
   "execution_count": 175,
   "id": "56cef50a00247738",
   "metadata": {
    "ExecuteTime": {
     "end_time": "2025-01-04T20:01:16.677285Z",
     "start_time": "2025-01-04T20:01:16.672902Z"
    }
   },
   "outputs": [
    {
     "name": "stdout",
     "output_type": "stream",
     "text": [
      "[[2. 2. 2.]\n",
      " [2. 2. 2.]\n",
      " [2. 2. 2.]]\n"
     ]
    }
   ],
   "source": [
    "print(my_i*2)"
   ]
  },
  {
   "cell_type": "code",
   "execution_count": 176,
   "id": "29bc0d8b8d227c9b",
   "metadata": {
    "ExecuteTime": {
     "end_time": "2025-01-04T20:01:21.409623Z",
     "start_time": "2025-01-04T20:01:21.404921Z"
    }
   },
   "outputs": [
    {
     "name": "stdout",
     "output_type": "stream",
     "text": [
      "[[0.5 0.5 0.5]\n",
      " [0.5 0.5 0.5]\n",
      " [0.5 0.5 0.5]]\n"
     ]
    }
   ],
   "source": [
    "print(my_i/2)"
   ]
  },
  {
   "cell_type": "code",
   "execution_count": 177,
   "id": "879c4b73cb2ef7e",
   "metadata": {
    "ExecuteTime": {
     "end_time": "2025-01-04T20:01:23.564529Z",
     "start_time": "2025-01-04T20:01:23.559602Z"
    }
   },
   "outputs": [
    {
     "name": "stdout",
     "output_type": "stream",
     "text": [
      "[[0. 0. 0.]\n",
      " [0. 0. 0.]\n",
      " [0. 0. 0.]]\n"
     ]
    }
   ],
   "source": [
    "print(my_i//2)"
   ]
  },
  {
   "cell_type": "code",
   "execution_count": 178,
   "id": "9d1e313aeae0f583",
   "metadata": {
    "ExecuteTime": {
     "end_time": "2025-01-04T20:01:26.277105Z",
     "start_time": "2025-01-04T20:01:26.272712Z"
    }
   },
   "outputs": [
    {
     "name": "stdout",
     "output_type": "stream",
     "text": [
      "[[1. 1. 1.]\n",
      " [1. 1. 1.]\n",
      " [1. 1. 1.]]\n"
     ]
    }
   ],
   "source": [
    "print(my_i**2)"
   ]
  },
  {
   "cell_type": "code",
   "execution_count": 179,
   "id": "9b42de406590e2ec",
   "metadata": {
    "ExecuteTime": {
     "end_time": "2025-01-04T20:01:28.962880Z",
     "start_time": "2025-01-04T20:01:28.958453Z"
    }
   },
   "outputs": [
    {
     "name": "stdout",
     "output_type": "stream",
     "text": [
      "[[1. 1. 1.]\n",
      " [1. 1. 1.]\n",
      " [1. 1. 1.]]\n"
     ]
    }
   ],
   "source": [
    "print(my_i%2)"
   ]
  }
 ],
 "metadata": {
  "kernelspec": {
   "display_name": "Python 3 (ipykernel)",
   "language": "python",
   "name": "python3"
  },
  "language_info": {
   "codemirror_mode": {
    "name": "ipython",
    "version": 3
   },
   "file_extension": ".py",
   "mimetype": "text/x-python",
   "name": "python",
   "nbconvert_exporter": "python",
   "pygments_lexer": "ipython3",
   "version": "3.11.5"
  }
 },
 "nbformat": 4,
 "nbformat_minor": 5
}
