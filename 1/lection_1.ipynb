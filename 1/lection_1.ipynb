{
 "cells": [
  {
   "cell_type": "code",
   "execution_count": 82,
   "id": "initial_id",
   "metadata": {
    "ExecuteTime": {
     "end_time": "2025-01-04T17:07:18.245464Z",
     "start_time": "2025-01-04T17:07:18.242377Z"
    },
    "collapsed": true
   },
   "outputs": [],
   "source": [
    "import numpy as np\n",
    "import sys\n",
    "import array"
   ]
  },
  {
   "cell_type": "markdown",
   "id": "a2ff67dd297df393",
   "metadata": {},
   "source": [
    "## Типы данных Python:\n"
   ]
  },
  {
   "cell_type": "code",
   "execution_count": 83,
   "id": "d81f3b758367f3be",
   "metadata": {
    "ExecuteTime": {
     "end_time": "2025-01-04T17:07:18.531410Z",
     "start_time": "2025-01-04T17:07:18.525897Z"
    }
   },
   "outputs": [
    {
     "name": "stdout",
     "output_type": "stream",
     "text": [
      "<class 'int'>\n",
      "28\n",
      "<class 'str'>\n",
      "<class 'bool'>\n"
     ]
    }
   ],
   "source": [
    "x = 1\n",
    "print(type(x))\n",
    "print(sys.getsizeof(x))#\n",
    "x = \"hello\"\n",
    "print(type(x))\n",
    "x = True\n",
    "print(type(x))"
   ]
  },
  {
   "cell_type": "code",
   "execution_count": 84,
   "id": "2ef5ba4f11e9a146",
   "metadata": {
    "ExecuteTime": {
     "end_time": "2025-01-04T17:07:18.593636Z",
     "start_time": "2025-01-04T17:07:18.557396Z"
    }
   },
   "outputs": [
    {
     "name": "stdout",
     "output_type": "stream",
     "text": [
      "56\n",
      "88\n",
      "88\n"
     ]
    }
   ],
   "source": [
    "l1 = list([])\n",
    "print(sys.getsizeof(l1))\n",
    "l2 = list([1, 2, 3])\n",
    "print(sys.getsizeof(l2))\n",
    "l3 = list([1, \"2\", True])\n",
    "print(sys.getsizeof(l3))"
   ]
  },
  {
   "cell_type": "code",
   "execution_count": 85,
   "id": "6287e66020042d75",
   "metadata": {
    "ExecuteTime": {
     "end_time": "2025-01-04T17:07:18.652338Z",
     "start_time": "2025-01-04T17:07:18.647615Z"
    }
   },
   "outputs": [
    {
     "name": "stdout",
     "output_type": "stream",
     "text": [
      "92\n",
      "<class 'array.array'>\n"
     ]
    }
   ],
   "source": [
    "\n",
    "a1 = array.array('i', [1, 2, 3])\n",
    "print(sys.getsizeof(a1))\n",
    "print(type(a1))"
   ]
  },
  {
   "cell_type": "markdown",
   "id": "6179782b37095edd",
   "metadata": {},
   "source": [
    "## NumPy\n"
   ]
  },
  {
   "cell_type": "code",
   "execution_count": 87,
   "id": "83d65e0b286951b7",
   "metadata": {
    "ExecuteTime": {
     "end_time": "2025-01-04T17:07:18.700607Z",
     "start_time": "2025-01-04T17:07:18.694669Z"
    }
   },
   "outputs": [
    {
     "name": "stdout",
     "output_type": "stream",
     "text": [
      "<class 'numpy.ndarray'> [1 2 3 4 5]\n"
     ]
    }
   ],
   "source": [
    "a = np.array([1, 2, 3, 4, 5])\n",
    "print(type(a), a)"
   ]
  },
  {
   "cell_type": "markdown",
   "id": "3f9268c801a871af",
   "metadata": {},
   "source": [
    "Повышающее приведение типов - приведение к наиболее большому типу в массиве"
   ]
  },
  {
   "cell_type": "code",
   "execution_count": 88,
   "id": "cb09e54f195b88ac",
   "metadata": {
    "ExecuteTime": {
     "end_time": "2025-01-04T17:07:18.795229Z",
     "start_time": "2025-01-04T17:07:18.788616Z"
    }
   },
   "outputs": [
    {
     "name": "stdout",
     "output_type": "stream",
     "text": [
      "<class 'numpy.ndarray'> [1.23 2.   3.   4.   5.  ]\n"
     ]
    }
   ],
   "source": [
    "a = np.array([1.23, 2, 3, 4, 5])\n",
    "print(type(a), a)"
   ]
  },
  {
   "cell_type": "code",
   "execution_count": 89,
   "id": "db77ddf701c86634",
   "metadata": {
    "ExecuteTime": {
     "end_time": "2025-01-04T17:07:18.842690Z",
     "start_time": "2025-01-04T17:07:18.837698Z"
    }
   },
   "outputs": [
    {
     "name": "stdout",
     "output_type": "stream",
     "text": [
      "<class 'numpy.ndarray'> [1 2 3 4 5]\n"
     ]
    }
   ],
   "source": [
    "a = np.array([1.23, 2, 3, 4, 5], dtype=int)\n",
    "print(type(a), a)"
   ]
  },
  {
   "cell_type": "code",
   "execution_count": 90,
   "id": "58ec19e0747814b6",
   "metadata": {
    "ExecuteTime": {
     "end_time": "2025-01-04T17:07:18.880371Z",
     "start_time": "2025-01-04T17:07:18.874372Z"
    }
   },
   "outputs": [
    {
     "name": "stdout",
     "output_type": "stream",
     "text": [
      "[[2 3 4]\n",
      " [4 5 6]\n",
      " [6 7 8]]\n"
     ]
    }
   ],
   "source": [
    "a = np.array([range(i, i+3) for i in [2, 4, 6]])\n",
    "print(a)"
   ]
  },
  {
   "cell_type": "code",
   "execution_count": 91,
   "id": "3bf341de3acc3c41",
   "metadata": {
    "ExecuteTime": {
     "end_time": "2025-01-04T17:07:18.961890Z",
     "start_time": "2025-01-04T17:07:18.957382Z"
    }
   },
   "outputs": [
    {
     "name": "stdout",
     "output_type": "stream",
     "text": [
      "[0 0 0 0 0 0 0 0 0 0] <class 'numpy.ndarray'>\n"
     ]
    }
   ],
   "source": [
    "a = np.zeros(10, dtype=int)\n",
    "print(a, type(a))"
   ]
  },
  {
   "cell_type": "code",
   "execution_count": 92,
   "id": "42ac35502bfdaa36",
   "metadata": {
    "ExecuteTime": {
     "end_time": "2025-01-04T17:07:18.987078Z",
     "start_time": "2025-01-04T17:07:18.980897Z"
    }
   },
   "outputs": [
    {
     "name": "stdout",
     "output_type": "stream",
     "text": [
      "[[1. 1. 1. 1. 1.]\n",
      " [1. 1. 1. 1. 1.]\n",
      " [1. 1. 1. 1. 1.]]\n"
     ]
    }
   ],
   "source": [
    "print(np.ones((3, 5), dtype=float))"
   ]
  },
  {
   "cell_type": "code",
   "execution_count": 93,
   "id": "c9ba15d70545ef03",
   "metadata": {
    "ExecuteTime": {
     "end_time": "2025-01-04T17:07:19.016389Z",
     "start_time": "2025-01-04T17:07:19.011067Z"
    }
   },
   "outputs": [
    {
     "name": "stdout",
     "output_type": "stream",
     "text": [
      "[[3.1415 3.1415 3.1415 3.1415 3.1415]\n",
      " [3.1415 3.1415 3.1415 3.1415 3.1415]\n",
      " [3.1415 3.1415 3.1415 3.1415 3.1415]\n",
      " [3.1415 3.1415 3.1415 3.1415 3.1415]]\n"
     ]
    }
   ],
   "source": [
    "print(np.full((4, 5), 3.1415))"
   ]
  },
  {
   "cell_type": "code",
   "execution_count": 94,
   "id": "3433ab6173df87d9",
   "metadata": {
    "ExecuteTime": {
     "end_time": "2025-01-04T17:07:19.061762Z",
     "start_time": "2025-01-04T17:07:19.055389Z"
    }
   },
   "outputs": [
    {
     "name": "stdout",
     "output_type": "stream",
     "text": [
      "[ 0  2  4  6  8 10 12 14 16 18]\n"
     ]
    }
   ],
   "source": [
    "print(np.arange(0, 20, 2))"
   ]
  },
  {
   "cell_type": "code",
   "execution_count": 95,
   "id": "9fa8eb8fc02f009f",
   "metadata": {
    "ExecuteTime": {
     "end_time": "2025-01-04T17:07:19.095754Z",
     "start_time": "2025-01-04T17:07:19.091394Z"
    }
   },
   "outputs": [
    {
     "name": "stdout",
     "output_type": "stream",
     "text": [
      "[[1. 0. 0. 0.]\n",
      " [0. 1. 0. 0.]\n",
      " [0. 0. 1. 0.]\n",
      " [0. 0. 0. 1.]]\n"
     ]
    }
   ],
   "source": [
    "print(np.eye(4))"
   ]
  },
  {
   "cell_type": "markdown",
   "id": "2efacf252de90a68",
   "metadata": {},
   "source": [
    "## RANDOM"
   ]
  },
  {
   "cell_type": "code",
   "execution_count": 100,
   "id": "c9c820bd58130b19",
   "metadata": {
    "ExecuteTime": {
     "end_time": "2025-01-04T17:07:19.344546Z",
     "start_time": "2025-01-04T17:07:19.339866Z"
    }
   },
   "outputs": [
    {
     "name": "stdout",
     "output_type": "stream",
     "text": [
      "[5 8 9]\n"
     ]
    }
   ],
   "source": [
    "np.random.seed(1)\n",
    "x1 = np.random.randint(10, size=3)\n",
    "print(x1)"
   ]
  },
  {
   "cell_type": "code",
   "execution_count": 101,
   "id": "ec72e0db8c9c44ef",
   "metadata": {
    "ExecuteTime": {
     "end_time": "2025-01-04T17:07:19.370040Z",
     "start_time": "2025-01-04T17:07:19.364029Z"
    }
   },
   "outputs": [
    {
     "name": "stdout",
     "output_type": "stream",
     "text": [
      "[[5 0]\n",
      " [0 1]\n",
      " [7 6]]\n"
     ]
    }
   ],
   "source": [
    "x2 = np.random.randint(10, size=(3, 2))\n",
    "print(x2)"
   ]
  },
  {
   "cell_type": "code",
   "execution_count": 102,
   "id": "4325d1c44f93d652",
   "metadata": {
    "ExecuteTime": {
     "end_time": "2025-01-04T17:07:19.430711Z",
     "start_time": "2025-01-04T17:07:19.425008Z"
    }
   },
   "outputs": [
    {
     "name": "stdout",
     "output_type": "stream",
     "text": [
      "[[[9 2]\n",
      "  [4 5]]\n",
      "\n",
      " [[2 4]\n",
      "  [2 4]]\n",
      "\n",
      " [[7 7]\n",
      "  [9 1]]]\n"
     ]
    }
   ],
   "source": [
    "x3 = np.random.randint(10, size=(3, 2, 2))\n",
    "print(x3)"
   ]
  },
  {
   "cell_type": "code",
   "execution_count": 103,
   "id": "d7b382f25e1c6ab1",
   "metadata": {
    "ExecuteTime": {
     "end_time": "2025-01-04T17:07:19.452338Z",
     "start_time": "2025-01-04T17:07:19.447770Z"
    }
   },
   "outputs": [
    {
     "name": "stdout",
     "output_type": "stream",
     "text": [
      "1 (3,) 3\n",
      "2 (3, 2) 6\n",
      "3 (3, 2, 2) 12\n"
     ]
    }
   ],
   "source": [
    "print(x1.ndim, x1.shape, x1.size)\n",
    "print(x2.ndim, x2.shape, x2.size)\n",
    "print(x3.ndim, x3.shape, x3.size)"
   ]
  },
  {
   "cell_type": "markdown",
   "id": "89695a543b2f7792",
   "metadata": {},
   "source": [
    "## Индексы\n"
   ]
  },
  {
   "cell_type": "code",
   "execution_count": 104,
   "id": "86136ee0ee266cc9",
   "metadata": {
    "ExecuteTime": {
     "end_time": "2025-01-04T17:07:19.490341Z",
     "start_time": "2025-01-04T17:07:19.485342Z"
    }
   },
   "outputs": [
    {
     "name": "stdout",
     "output_type": "stream",
     "text": [
      "2\n"
     ]
    }
   ],
   "source": [
    "a = np.array([1, 2, 3, 4, 5])\n",
    "print(a[1])"
   ]
  },
  {
   "cell_type": "code",
   "execution_count": 105,
   "id": "bacea22e3a7d5a38",
   "metadata": {
    "ExecuteTime": {
     "end_time": "2025-01-04T17:07:19.570923Z",
     "start_time": "2025-01-04T17:07:19.566940Z"
    }
   },
   "outputs": [
    {
     "name": "stdout",
     "output_type": "stream",
     "text": [
      "4\n"
     ]
    }
   ],
   "source": [
    "print(a[-2])"
   ]
  },
  {
   "cell_type": "code",
   "execution_count": 106,
   "id": "72b064c35d2336e3",
   "metadata": {
    "ExecuteTime": {
     "end_time": "2025-01-04T17:07:19.635217Z",
     "start_time": "2025-01-04T17:07:19.630904Z"
    }
   },
   "outputs": [],
   "source": [
    "a[1] = 20"
   ]
  },
  {
   "cell_type": "code",
   "execution_count": 107,
   "id": "51ad809c96fbb570",
   "metadata": {
    "ExecuteTime": {
     "end_time": "2025-01-04T17:07:19.668297Z",
     "start_time": "2025-01-04T17:07:19.662207Z"
    }
   },
   "outputs": [
    {
     "name": "stdout",
     "output_type": "stream",
     "text": [
      "[ 1 20  3  4  5]\n"
     ]
    }
   ],
   "source": [
    "print(a)"
   ]
  },
  {
   "cell_type": "code",
   "execution_count": 108,
   "id": "84497f317b5fb5d8",
   "metadata": {
    "ExecuteTime": {
     "end_time": "2025-01-04T17:07:19.732239Z",
     "start_time": "2025-01-04T17:07:19.727270Z"
    }
   },
   "outputs": [
    {
     "name": "stdout",
     "output_type": "stream",
     "text": [
      "[[1 2]\n",
      " [3 4]]\n"
     ]
    }
   ],
   "source": [
    "a = np.array([[1, 2], [3, 4]])\n",
    "print(a)"
   ]
  },
  {
   "cell_type": "code",
   "execution_count": 109,
   "id": "6d4427ab62aeba6f",
   "metadata": {
    "ExecuteTime": {
     "end_time": "2025-01-04T17:07:19.768869Z",
     "start_time": "2025-01-04T17:07:19.764224Z"
    }
   },
   "outputs": [
    {
     "name": "stdout",
     "output_type": "stream",
     "text": [
      "1\n"
     ]
    }
   ],
   "source": [
    "print(a[0, 0])"
   ]
  },
  {
   "cell_type": "code",
   "execution_count": 110,
   "id": "56ea5ababf6f1bea",
   "metadata": {
    "ExecuteTime": {
     "end_time": "2025-01-04T17:07:19.804464Z",
     "start_time": "2025-01-04T17:07:19.800858Z"
    }
   },
   "outputs": [
    {
     "name": "stdout",
     "output_type": "stream",
     "text": [
      "4\n"
     ]
    }
   ],
   "source": [
    "print(a[-1, -1])"
   ]
  },
  {
   "cell_type": "code",
   "execution_count": 111,
   "id": "3b76cd2109c2c39b",
   "metadata": {
    "ExecuteTime": {
     "end_time": "2025-01-04T17:07:19.840451Z",
     "start_time": "2025-01-04T17:07:19.835453Z"
    }
   },
   "outputs": [
    {
     "name": "stdout",
     "output_type": "stream",
     "text": [
      "[[  1   2]\n",
      " [100   4]]\n"
     ]
    }
   ],
   "source": [
    "a[1, 0] = 100\n",
    "print(a)"
   ]
  },
  {
   "cell_type": "code",
   "execution_count": 112,
   "id": "8fa2b8cbafdce249",
   "metadata": {
    "ExecuteTime": {
     "end_time": "2025-01-04T17:07:19.883765Z",
     "start_time": "2025-01-04T17:07:19.879474Z"
    }
   },
   "outputs": [
    {
     "name": "stdout",
     "output_type": "stream",
     "text": [
      "[[  1   2]\n",
      " [100   4]]\n"
     ]
    }
   ],
   "source": [
    "a[1, 0] = 100.99\n",
    "print(a)"
   ]
  },
  {
   "cell_type": "markdown",
   "id": "ad85ebf1ec6457c1",
   "metadata": {},
   "source": [
    "## Срезы"
   ]
  },
  {
   "cell_type": "raw",
   "id": "58f72763aeda93d4",
   "metadata": {},
   "source": [
    "[s:f:st] [0:shape:1]"
   ]
  },
  {
   "cell_type": "code",
   "execution_count": 113,
   "id": "c4b0d5b0e8f80bf3",
   "metadata": {
    "ExecuteTime": {
     "end_time": "2025-01-04T17:07:19.916830Z",
     "start_time": "2025-01-04T17:07:19.912753Z"
    }
   },
   "outputs": [
    {
     "name": "stdout",
     "output_type": "stream",
     "text": [
      "[1 2 3]\n"
     ]
    }
   ],
   "source": [
    "a = np.arange(1, 7)\n",
    "print(a[:3])"
   ]
  },
  {
   "cell_type": "code",
   "execution_count": 114,
   "id": "1e749bbae31f57ea",
   "metadata": {
    "ExecuteTime": {
     "end_time": "2025-01-04T17:07:19.956494Z",
     "start_time": "2025-01-04T17:07:19.951828Z"
    }
   },
   "outputs": [
    {
     "name": "stdout",
     "output_type": "stream",
     "text": [
      "[4 5 6]\n"
     ]
    }
   ],
   "source": [
    "print(a[3:])"
   ]
  },
  {
   "cell_type": "code",
   "execution_count": 115,
   "id": "a225d29b2e8c5179",
   "metadata": {
    "ExecuteTime": {
     "end_time": "2025-01-04T17:07:19.992084Z",
     "start_time": "2025-01-04T17:07:19.987480Z"
    }
   },
   "outputs": [
    {
     "name": "stdout",
     "output_type": "stream",
     "text": [
      "[2 3 4 5]\n"
     ]
    }
   ],
   "source": [
    "print(a[1:5])"
   ]
  },
  {
   "cell_type": "code",
   "execution_count": 116,
   "id": "42c847552ac5efd7",
   "metadata": {
    "ExecuteTime": {
     "end_time": "2025-01-04T17:07:20.034109Z",
     "start_time": "2025-01-04T17:07:20.029091Z"
    }
   },
   "outputs": [
    {
     "name": "stdout",
     "output_type": "stream",
     "text": [
      "[2 3 4 5]\n"
     ]
    }
   ],
   "source": [
    "print(a[1:-1])"
   ]
  },
  {
   "cell_type": "code",
   "execution_count": 117,
   "id": "f7648cade8f79ead",
   "metadata": {
    "ExecuteTime": {
     "end_time": "2025-01-04T17:07:20.066947Z",
     "start_time": "2025-01-04T17:07:20.061118Z"
    }
   },
   "outputs": [
    {
     "name": "stdout",
     "output_type": "stream",
     "text": [
      "[1 3 5]\n"
     ]
    }
   ],
   "source": [
    "print(a[:6:2])"
   ]
  },
  {
   "cell_type": "code",
   "execution_count": 118,
   "id": "99d64f3a0d1fd171",
   "metadata": {
    "ExecuteTime": {
     "end_time": "2025-01-04T17:07:20.098259Z",
     "start_time": "2025-01-04T17:07:20.092937Z"
    }
   },
   "outputs": [
    {
     "name": "stdout",
     "output_type": "stream",
     "text": [
      "[3 5]\n"
     ]
    }
   ],
   "source": [
    "print(a[2::2])"
   ]
  },
  {
   "cell_type": "code",
   "execution_count": 120,
   "id": "2d28a3c0ea29f872",
   "metadata": {
    "ExecuteTime": {
     "end_time": "2025-01-04T17:07:43.830719Z",
     "start_time": "2025-01-04T17:07:43.826808Z"
    }
   },
   "outputs": [
    {
     "name": "stdout",
     "output_type": "stream",
     "text": [
      "[6 5 4 3 2 1]\n"
     ]
    }
   ],
   "source": [
    "print(a[::-1])"
   ]
  },
  {
   "cell_type": "code",
   "execution_count": 131,
   "id": "5cdc256280dbba91",
   "metadata": {
    "ExecuteTime": {
     "end_time": "2025-01-04T17:42:58.429175Z",
     "start_time": "2025-01-04T17:42:58.424993Z"
    }
   },
   "outputs": [
    {
     "name": "stdout",
     "output_type": "stream",
     "text": [
      "[1 5 3 4 5 6]\n"
     ]
    }
   ],
   "source": [
    "b = a[:3]\n",
    "b[1] = 5\n",
    "print(a)"
   ]
  },
  {
   "cell_type": "markdown",
   "id": "cb6ffcf022e5a796",
   "metadata": {},
   "source": [
    "## Размерности массива и объединение"
   ]
  },
  {
   "cell_type": "code",
   "execution_count": 135,
   "id": "e4f4f9496c27a708",
   "metadata": {
    "ExecuteTime": {
     "end_time": "2025-01-04T18:05:00.589902Z",
     "start_time": "2025-01-04T18:05:00.584126Z"
    }
   },
   "outputs": [
    {
     "name": "stdout",
     "output_type": "stream",
     "text": [
      "[ 1  2  3  4  5  6  7  8  9 10 11 12]\n",
      "[[ 1  2  3  4]\n",
      " [ 5  6  7  8]\n",
      " [ 9 10 11 12]]\n"
     ]
    }
   ],
   "source": [
    "a = np.arange(1, 13)\n",
    "print(a)\n",
    "print(a.reshape(3, 4))"
   ]
  },
  {
   "cell_type": "markdown",
   "id": "fe669f29186465c6",
   "metadata": {},
   "source": [
    "## Векторизованные операции\n"
   ]
  },
  {
   "cell_type": "code",
   "execution_count": 168,
   "id": "a7cbc8f976e61460",
   "metadata": {
    "ExecuteTime": {
     "end_time": "2025-01-04T19:20:26.148188Z",
     "start_time": "2025-01-04T19:20:26.143963Z"
    }
   },
   "outputs": [
    {
     "name": "stdout",
     "output_type": "stream",
     "text": [
      "[0 1 2 3 4 5 6 7 8 9]\n",
      "[ 1  3  5  7  9 11 13 15 17 19]\n"
     ]
    }
   ],
   "source": [
    "x = np.arange(10)\n",
    "print(x)\n",
    "print(x*2+1)"
   ]
  },
  {
   "cell_type": "raw",
   "id": "cd0d4386ab1dda66",
   "metadata": {},
   "source": [
    "Универсальные функции ufunc //\n",
    "- - / // ** %"
   ]
  },
  {
   "cell_type": "code",
   "execution_count": 169,
   "id": "169a79312c6fd945",
   "metadata": {
    "ExecuteTime": {
     "end_time": "2025-01-04T19:21:49.669905Z",
     "start_time": "2025-01-04T19:21:49.664866Z"
    }
   },
   "outputs": [
    {
     "name": "stdout",
     "output_type": "stream",
     "text": [
      "[ 0  2  4  6  8 10 12 14 16 18]\n"
     ]
    }
   ],
   "source": [
    "print(np.multiply(x, 2))"
   ]
  },
  {
   "cell_type": "markdown",
   "id": "172adf84298bbf31",
   "metadata": {},
   "source": [
    "## Другие ufunc\n",
    "np.abs, np.sin и др. тригонометрические, np.exp, np.log\n"
   ]
  },
  {
   "cell_type": "code",
   "execution_count": 181,
   "id": "e078d288f58530c6",
   "metadata": {
    "ExecuteTime": {
     "end_time": "2025-01-04T20:13:24.887668Z",
     "start_time": "2025-01-04T20:13:24.881669Z"
    }
   },
   "outputs": [
    {
     "name": "stdout",
     "output_type": "stream",
     "text": [
      "[ 0. 10. 20. 30. 40.]\n",
      "[ 0.  0. 10.  0. 20.  0. 30.  0. 40.  0.]\n"
     ]
    }
   ],
   "source": [
    "x = np.arange(5)\n",
    "y = np.empty(10)\n",
    "print(np.multiply(x, 10, out=y[::2]))\n",
    "print(y)"
   ]
  },
  {
   "cell_type": "code",
   "execution_count": 182,
   "id": "b814724b23c5766a",
   "metadata": {
    "ExecuteTime": {
     "end_time": "2025-01-04T20:16:30.700481Z",
     "start_time": "2025-01-04T20:16:30.695968Z"
    }
   },
   "outputs": [
    {
     "name": "stdout",
     "output_type": "stream",
     "text": [
      "10\n"
     ]
    }
   ],
   "source": [
    "print(np.add.reduce(x))"
   ]
  },
  {
   "cell_type": "code",
   "execution_count": 183,
   "id": "c5771187895f0df8",
   "metadata": {
    "ExecuteTime": {
     "end_time": "2025-01-04T20:16:54.842287Z",
     "start_time": "2025-01-04T20:16:54.837808Z"
    }
   },
   "outputs": [
    {
     "name": "stdout",
     "output_type": "stream",
     "text": [
      "[ 0  1  3  6 10]\n"
     ]
    }
   ],
   "source": [
    "print(np.add.accumulate(x))"
   ]
  },
  {
   "cell_type": "code",
   "execution_count": 184,
   "id": "2f11bd423d8ba2d2",
   "metadata": {
    "ExecuteTime": {
     "end_time": "2025-01-04T20:48:38.897916Z",
     "start_time": "2025-01-04T20:48:38.892900Z"
    }
   },
   "outputs": [
    {
     "name": "stdout",
     "output_type": "stream",
     "text": [
      "[[ 0  0  0  0  0]\n",
      " [ 0  1  2  3  4]\n",
      " [ 0  2  4  6  8]\n",
      " [ 0  3  6  9 12]\n",
      " [ 0  4  8 12 16]]\n"
     ]
    }
   ],
   "source": [
    "print(np.multiply.outer(x, x))"
   ]
  },
  {
   "cell_type": "code",
   "execution_count": null,
   "id": "29d18c33a5ffeeb4",
   "metadata": {},
   "outputs": [],
   "source": []
  }
 ],
 "metadata": {
  "kernelspec": {
   "display_name": "Python 3 (ipykernel)",
   "language": "python",
   "name": "python3"
  },
  "language_info": {
   "codemirror_mode": {
    "name": "ipython",
    "version": 3
   },
   "file_extension": ".py",
   "mimetype": "text/x-python",
   "name": "python",
   "nbconvert_exporter": "python",
   "pygments_lexer": "ipython3",
   "version": "3.11.5"
  }
 },
 "nbformat": 4,
 "nbformat_minor": 5
}
