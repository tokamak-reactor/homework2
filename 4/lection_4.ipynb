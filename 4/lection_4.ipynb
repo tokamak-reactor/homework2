{
 "cells": [
  {
   "cell_type": "code",
   "id": "initial_id",
   "metadata": {
    "collapsed": true,
    "ExecuteTime": {
     "end_time": "2025-02-07T19:24:57.427837Z",
     "start_time": "2025-02-07T19:24:54.903653Z"
    }
   },
   "source": [
    "import numpy as np\n",
    "import pandas as pd"
   ],
   "outputs": [],
   "execution_count": 1
  },
  {
   "metadata": {},
   "cell_type": "markdown",
   "source": [
    "# Лекция 4\n",
    "## Мультииндекс"
   ],
   "id": "7b968793ce4a5293"
  },
  {
   "metadata": {},
   "cell_type": "markdown",
   "source": [
    "Для размерности данных больше 2 можно использовать иерархическую индексацию или мультииндекс. В этом случае в один индекс включается несколько уровней.\n",
    "\n",
    "Без использования мультииндекса будет так:"
   ],
   "id": "befcc29bdf01e3ed"
  },
  {
   "metadata": {
    "ExecuteTime": {
     "end_time": "2025-02-07T19:24:57.446209Z",
     "start_time": "2025-02-07T19:24:57.429839Z"
    }
   },
   "cell_type": "code",
   "source": [
    "index = [\n",
    "    ('city_1', 2010),\n",
    "    ('city_1', 2020),\n",
    "    ('city_2', 2010),\n",
    "    ('city_2', 2020),\n",
    "    ('city_3', 2010),\n",
    "    ('city_3', 2020),\n",
    "]\n",
    "\n",
    "population = [\n",
    "    101,\n",
    "    201,\n",
    "    102,\n",
    "    202,\n",
    "    103,\n",
    "    203\n",
    "]\n",
    "\n",
    "pop = pd.Series(population, index = index)\n",
    "print(pop)\n",
    "print(pop[  [i for i in pop.index if i[1] == 2020]  ])"
   ],
   "id": "5bbe35cbe981b3dc",
   "outputs": [
    {
     "name": "stdout",
     "output_type": "stream",
     "text": [
      "(city_1, 2010)    101\n",
      "(city_1, 2020)    201\n",
      "(city_2, 2010)    102\n",
      "(city_2, 2020)    202\n",
      "(city_3, 2010)    103\n",
      "(city_3, 2020)    203\n",
      "dtype: int64\n",
      "(city_1, 2020)    201\n",
      "(city_2, 2020)    202\n",
      "(city_3, 2020)    203\n",
      "dtype: int64\n"
     ]
    }
   ],
   "execution_count": 2
  },
  {
   "metadata": {},
   "cell_type": "markdown",
   "source": "Преобразуем в мультииндекс:",
   "id": "e16cf3d048959e2"
  },
  {
   "metadata": {
    "ExecuteTime": {
     "end_time": "2025-02-07T19:24:57.465804Z",
     "start_time": "2025-02-07T19:24:57.447210Z"
    }
   },
   "cell_type": "code",
   "source": [
    "index = [\n",
    "    ('city_1', 2010),\n",
    "    ('city_1', 2020),\n",
    "    ('city_2', 2010),\n",
    "    ('city_2', 2020),\n",
    "    ('city_3', 2010),\n",
    "    ('city_3', 2020),\n",
    "]\n",
    "\n",
    "population = [\n",
    "    101,\n",
    "    201,\n",
    "    102,\n",
    "    202,\n",
    "    103,\n",
    "    203\n",
    "]\n",
    "\n",
    "pop = pd.Series(population, index = index)\n",
    "print(pop)\n",
    "\n",
    "index = pd.MultiIndex.from_tuples(index)\n",
    "pop = pop.reindex(index)\n",
    "print(pop)\n",
    "print(pop[:, 2020])"
   ],
   "id": "cca484a13481a4b2",
   "outputs": [
    {
     "name": "stdout",
     "output_type": "stream",
     "text": [
      "(city_1, 2010)    101\n",
      "(city_1, 2020)    201\n",
      "(city_2, 2010)    102\n",
      "(city_2, 2020)    202\n",
      "(city_3, 2010)    103\n",
      "(city_3, 2020)    203\n",
      "dtype: int64\n",
      "city_1  2010    101\n",
      "        2020    201\n",
      "city_2  2010    102\n",
      "        2020    202\n",
      "city_3  2010    103\n",
      "        2020    203\n",
      "dtype: int64\n",
      "city_1    201\n",
      "city_2    202\n",
      "city_3    203\n",
      "dtype: int64\n"
     ]
    }
   ],
   "execution_count": 3
  },
  {
   "metadata": {},
   "cell_type": "markdown",
   "source": "Такой мультииндексный Series можно перевести в DataFrame и обратно с помощью .unstack и .stack:",
   "id": "8946f675c42d7544"
  },
  {
   "metadata": {
    "ExecuteTime": {
     "end_time": "2025-02-07T19:24:57.488964Z",
     "start_time": "2025-02-07T19:24:57.468806Z"
    }
   },
   "cell_type": "code",
   "source": [
    "index = [\n",
    "    ('city_1', 2010),\n",
    "    ('city_1', 2020),\n",
    "    ('city_2', 2010),\n",
    "    ('city_2', 2020),\n",
    "    ('city_3', 2010),\n",
    "    ('city_3', 2020),\n",
    "]\n",
    "\n",
    "population = [\n",
    "    101,\n",
    "    201,\n",
    "    102,\n",
    "    202,\n",
    "    103,\n",
    "    203\n",
    "]\n",
    "\n",
    "pop = pd.Series(population, index = index)\n",
    "index = pd.MultiIndex.from_tuples(index)\n",
    "pop = pop.reindex(index)\n",
    "\n",
    "pop_df = pop.unstack()\n",
    "print(pop_df)\n",
    "\n",
    "print(pop_df.stack())"
   ],
   "id": "68fc9e897a419318",
   "outputs": [
    {
     "name": "stdout",
     "output_type": "stream",
     "text": [
      "        2010  2020\n",
      "city_1   101   201\n",
      "city_2   102   202\n",
      "city_3   103   203\n",
      "city_1  2010    101\n",
      "        2020    201\n",
      "city_2  2010    102\n",
      "        2020    202\n",
      "city_3  2010    103\n",
      "        2020    203\n",
      "dtype: int64\n"
     ]
    }
   ],
   "execution_count": 4
  },
  {
   "metadata": {},
   "cell_type": "markdown",
   "source": "Мультииндекс большей размерности:",
   "id": "fcf04f9d7877d52f"
  },
  {
   "metadata": {
    "ExecuteTime": {
     "end_time": "2025-02-07T20:02:55.476862Z",
     "start_time": "2025-02-07T20:02:55.462596Z"
    }
   },
   "cell_type": "code",
   "source": [
    "index = [\n",
    "    ('city_1', 2010, 1),\n",
    "    ('city_1', 2010, 2),\n",
    "    \n",
    "    ('city_1', 2020, 1),\n",
    "    ('city_1', 2020, 2),\n",
    "    \n",
    "    ('city_2', 2010, 1),\n",
    "    ('city_2', 2010, 2),\n",
    "    \n",
    "    ('city_2', 2020, 1),\n",
    "    ('city_2', 2020, 2),\n",
    "    \n",
    "    ('city_3', 2010, 1),\n",
    "    ('city_3', 2010, 2),\n",
    "    \n",
    "    ('city_3', 2020, 1),\n",
    "    ('city_3', 2020, 2)\n",
    "]\n",
    "\n",
    "population = [\n",
    "    101,\n",
    "    1010,\n",
    "    201,\n",
    "    2010,\n",
    "    102,\n",
    "    1020,\n",
    "    202,\n",
    "    2020,\n",
    "    103,\n",
    "    1030,\n",
    "    203,\n",
    "    2030\n",
    "]\n",
    "\n",
    "pop = pd.Series(population, index = index)\n",
    "print(pop, '\\n')\n",
    "\n",
    "index = pd.MultiIndex.from_tuples(index)\n",
    "pop = pop.reindex(index)\n",
    "print(pop, '\\n')\n",
    "print(pop[:, 2010], '\\n')\n",
    "print(pop[:, :, 2], '\\n')"
   ],
   "id": "949665169bc55687",
   "outputs": [
    {
     "name": "stdout",
     "output_type": "stream",
     "text": [
      "(city_1, 2010, 1)     101\n",
      "(city_1, 2010, 2)    1010\n",
      "(city_1, 2020, 1)     201\n",
      "(city_1, 2020, 2)    2010\n",
      "(city_2, 2010, 1)     102\n",
      "(city_2, 2010, 2)    1020\n",
      "(city_2, 2020, 1)     202\n",
      "(city_2, 2020, 2)    2020\n",
      "(city_3, 2010, 1)     103\n",
      "(city_3, 2010, 2)    1030\n",
      "(city_3, 2020, 1)     203\n",
      "(city_3, 2020, 2)    2030\n",
      "dtype: int64 \n",
      "\n",
      "city_1  2010  1     101\n",
      "              2    1010\n",
      "        2020  1     201\n",
      "              2    2010\n",
      "city_2  2010  1     102\n",
      "              2    1020\n",
      "        2020  1     202\n",
      "              2    2020\n",
      "city_3  2010  1     103\n",
      "              2    1030\n",
      "        2020  1     203\n",
      "              2    2030\n",
      "dtype: int64 \n",
      "\n",
      "city_1  1     101\n",
      "        2    1010\n",
      "city_2  1     102\n",
      "        2    1020\n",
      "city_3  1     103\n",
      "        2    1030\n",
      "dtype: int64 \n",
      "\n",
      "city_1  2010    1010\n",
      "        2020    2010\n",
      "city_2  2010    1020\n",
      "        2020    2020\n",
      "city_3  2010    1030\n",
      "        2020    2030\n",
      "dtype: int64 \n",
      "\n"
     ]
    }
   ],
   "execution_count": 27
  },
  {
   "metadata": {},
   "cell_type": "markdown",
   "source": "Аналогичное превращение в DataFrame:",
   "id": "6913da0cb56a5a09"
  },
  {
   "metadata": {
    "ExecuteTime": {
     "end_time": "2025-02-07T20:03:43.806496Z",
     "start_time": "2025-02-07T20:03:43.794684Z"
    }
   },
   "cell_type": "code",
   "source": [
    "index = [\n",
    "    ('city_1', 2010, 1),\n",
    "    ('city_1', 2010, 2),\n",
    "    \n",
    "    ('city_1', 2020, 1),\n",
    "    ('city_1', 2020, 2),\n",
    "    \n",
    "    ('city_2', 2010, 1),\n",
    "    ('city_2', 2010, 2),\n",
    "    \n",
    "    ('city_2', 2020, 1),\n",
    "    ('city_2', 2020, 2),\n",
    "    \n",
    "    ('city_3', 2010, 1),\n",
    "    ('city_3', 2010, 2),\n",
    "    \n",
    "    ('city_3', 2020, 1),\n",
    "    ('city_3', 2020, 2)\n",
    "]\n",
    "\n",
    "population = [\n",
    "    101,\n",
    "    1010,\n",
    "    201,\n",
    "    2010,\n",
    "    102,\n",
    "    1020,\n",
    "    202,\n",
    "    2020,\n",
    "    103,\n",
    "    1030,\n",
    "    203,\n",
    "    2030\n",
    "]\n",
    "\n",
    "index = pd.MultiIndex.from_tuples(index)\n",
    "pop = pd.Series(population, index = index)\n",
    "\n",
    "pop_df = pop.unstack()\n",
    "print(pop_df, '\\n')\n",
    "print(pop_df.stack, '\\n')"
   ],
   "id": "593779d63d1af631",
   "outputs": [
    {
     "name": "stdout",
     "output_type": "stream",
     "text": [
      "               1     2\n",
      "city_1 2010  101  1010\n",
      "       2020  201  2010\n",
      "city_2 2010  102  1020\n",
      "       2020  202  2020\n",
      "city_3 2010  103  1030\n",
      "       2020  203  2030 \n",
      "\n",
      "<bound method DataFrame.stack of                1     2\n",
      "city_1 2010  101  1010\n",
      "       2020  201  2010\n",
      "city_2 2010  102  1020\n",
      "       2020  202  2020\n",
      "city_3 2010  103  1030\n",
      "       2020  203  2030> \n",
      "\n"
     ]
    }
   ],
   "execution_count": 28
  },
  {
   "metadata": {},
   "cell_type": "markdown",
   "source": "С помощью .loc и использования списка ключей, можно задавать различные комбинации ключей различных уровней. Если используется более одного ключа, то необходимо добавить ещё один вложенный список в аргумент .loc, даже если не происходит фильтрации по колонкам (см. последний пример)",
   "id": "ea5bb73fb6e92de0"
  },
  {
   "metadata": {
    "ExecuteTime": {
     "end_time": "2025-02-07T20:24:40.940167Z",
     "start_time": "2025-02-07T20:24:40.925090Z"
    }
   },
   "cell_type": "code",
   "source": [
    "index = [\n",
    "    ('city_1', 2010),\n",
    "    ('city_1', 2020),\n",
    "    ('city_2', 2010),\n",
    "    ('city_2', 2020),\n",
    "    ('city_3', 2010),\n",
    "    ('city_3', 2020),\n",
    "]\n",
    "\n",
    "population = [\n",
    "    101,\n",
    "    201,\n",
    "    102,\n",
    "    202,\n",
    "    103,\n",
    "    203\n",
    "]\n",
    "\n",
    "index = pd.MultiIndex.from_tuples(index)\n",
    "pop = pd.Series(population, index = index)\n",
    "pop_df = pd.DataFrame({\n",
    "    'total' : pop,\n",
    "    'something' : [\n",
    "        10,\n",
    "        11,\n",
    "        12,\n",
    "        13,\n",
    "        14,\n",
    "        15,\n",
    "    ]\n",
    "})\n",
    "\n",
    "print(pop_df,'\\n')\n",
    "\n",
    "print(pop_df.loc['city_1', 'something'])\n",
    "print(pop_df.loc[['city_1', 'city_3']],'\\n')"
   ],
   "id": "42ef51f58851c63f",
   "outputs": [
    {
     "name": "stdout",
     "output_type": "stream",
     "text": [
      "             total  something\n",
      "city_1 2010    101         10\n",
      "       2020    201         11\n",
      "city_2 2010    102         12\n",
      "       2020    202         13\n",
      "city_3 2010    103         14\n",
      "       2020    203         15 \n",
      "\n",
      "2010    10\n",
      "2020    11\n",
      "Name: something, dtype: int64\n",
      "             total  something\n",
      "city_1 2010    101         10\n",
      "       2020    201         11\n",
      "city_3 2010    103         14\n",
      "       2020    203         15 \n",
      "\n"
     ]
    }
   ],
   "execution_count": 32
  },
  {
   "metadata": {},
   "cell_type": "markdown",
   "source": [
    "## Как создаются мультииндексы?\n",
    "1. Список массивов, задающих значение на каждом уровне\n",
    "2. Список кортежей, задающих значение индекса в каждой точке\n",
    "3. Декартово произведенеие обычных индексов\n",
    "4. Описание внутреннего представления: levels(список списков), codes(список списков меток)"
   ],
   "id": "be66ff5bfc7e5809"
  },
  {
   "metadata": {
    "ExecuteTime": {
     "end_time": "2025-02-07T20:25:34.598905Z",
     "start_time": "2025-02-07T20:25:34.591563Z"
    }
   },
   "cell_type": "code",
   "source": [
    "# Список массивов (в т.ч. списков)\n",
    "i1 = pd.MultiIndex.from_arrays([\n",
    "    ['a', 'a', 'b', 'b'],\n",
    "    [1, 2, 1, 2]\n",
    "])\n",
    "\n",
    "print(i1)"
   ],
   "id": "f9330c14043d1269",
   "outputs": [
    {
     "name": "stdout",
     "output_type": "stream",
     "text": [
      "MultiIndex([('a', 1),\n",
      "            ('a', 2),\n",
      "            ('b', 1),\n",
      "            ('b', 2)],\n",
      "           )\n"
     ]
    }
   ],
   "execution_count": 33
  },
  {
   "metadata": {
    "ExecuteTime": {
     "end_time": "2025-02-07T20:25:36.220384Z",
     "start_time": "2025-02-07T20:25:36.213805Z"
    }
   },
   "cell_type": "code",
   "source": [
    "# Список кортежей\n",
    "i2 = pd.MultiIndex.from_tuples([\n",
    "    ('a', 1),\n",
    "    ('a', 1),\n",
    "    ('b', 2),\n",
    "    ('b', 2)\n",
    "])\n",
    "\n",
    "print(i2)"
   ],
   "id": "58f663572e5787f",
   "outputs": [
    {
     "name": "stdout",
     "output_type": "stream",
     "text": [
      "MultiIndex([('a', 1),\n",
      "            ('a', 1),\n",
      "            ('b', 2),\n",
      "            ('b', 2)],\n",
      "           )\n"
     ]
    }
   ],
   "execution_count": 34
  },
  {
   "metadata": {
    "ExecuteTime": {
     "end_time": "2025-02-07T19:24:57.558225Z",
     "start_time": "2025-02-07T19:24:57.551227Z"
    }
   },
   "cell_type": "code",
   "source": [
    "# Декартово произведение (все возможные пары из вложенных массивов аргумента)\n",
    "i3 = pd.MultiIndex.from_product([\n",
    "    ['a', 'b'],\n",
    "    [1, 2]\n",
    "])\n",
    "\n",
    "print(i3)"
   ],
   "id": "b9930c7fb2906ac4",
   "outputs": [
    {
     "name": "stdout",
     "output_type": "stream",
     "text": [
      "MultiIndex([('a', 1),\n",
      "            ('a', 2),\n",
      "            ('b', 1),\n",
      "            ('b', 2)],\n",
      "           )\n"
     ]
    }
   ],
   "execution_count": 10
  },
  {
   "metadata": {
    "ExecuteTime": {
     "end_time": "2025-02-07T19:24:57.566749Z",
     "start_time": "2025-02-07T19:24:57.559225Z"
    }
   },
   "cell_type": "code",
   "source": [
    "# levels(список списков), codes(список списков меток)\n",
    "i4 = pd.MultiIndex(\n",
    "    levels=[\n",
    "        ['a', 'b', 'c'],\n",
    "        [1, 2]\n",
    "    ],\n",
    "    codes = [\n",
    "        [0, 0, 1, 1, 2, 2], # a a b b c c\n",
    "        [0, 1, 0, 1, 0, 1]  # 1 2 1 2 1 2\n",
    "    ]\n",
    ")\n",
    "\n",
    "print(i4)"
   ],
   "id": "be94a052cdddff65",
   "outputs": [
    {
     "name": "stdout",
     "output_type": "stream",
     "text": [
      "MultiIndex([('a', 1),\n",
      "            ('a', 2),\n",
      "            ('b', 1),\n",
      "            ('b', 2),\n",
      "            ('c', 1),\n",
      "            ('c', 2)],\n",
      "           )\n"
     ]
    }
   ],
   "execution_count": 11
  },
  {
   "metadata": {},
   "cell_type": "markdown",
   "source": "Уровням индексов можно задавать названия",
   "id": "ca5fe58f1a927d91"
  },
  {
   "metadata": {
    "ExecuteTime": {
     "end_time": "2025-02-07T19:24:57.575883Z",
     "start_time": "2025-02-07T19:24:57.567753Z"
    }
   },
   "cell_type": "code",
   "source": [
    "data = {\n",
    "    ('city_1', 2010) : 100,\n",
    "    ('city_1', 2020) : 200,\n",
    "    ('city_2', 2010) : 1001,\n",
    "    ('city_2', 2020) : 2001\n",
    "}\n",
    "\n",
    "s = pd.Series(data)\n",
    "print(s)\n",
    "\n",
    "s.index.names = ['city', 'year']\n",
    "print(s)"
   ],
   "id": "429af0e8974fbf07",
   "outputs": [
    {
     "name": "stdout",
     "output_type": "stream",
     "text": [
      "city_1  2010     100\n",
      "        2020     200\n",
      "city_2  2010    1001\n",
      "        2020    2001\n",
      "dtype: int64\n",
      "city    year\n",
      "city_1  2010     100\n",
      "        2020     200\n",
      "city_2  2010    1001\n",
      "        2020    2001\n",
      "dtype: int64\n"
     ]
    }
   ],
   "execution_count": 12
  },
  {
   "metadata": {},
   "cell_type": "markdown",
   "source": "Названия уровней мультииндексов можно использовать также и в DataFrames. А ещё логику мультиндексов можно применить к columns, и уровням columns можно так же дать названия:",
   "id": "2ce419b98f148fa7"
  },
  {
   "metadata": {
    "ExecuteTime": {
     "end_time": "2025-02-07T20:30:08.307956Z",
     "start_time": "2025-02-07T20:30:08.295454Z"
    }
   },
   "cell_type": "code",
   "source": [
    "index = pd.MultiIndex.from_product([\n",
    "    ['city_1', 'city_2'],\n",
    "    [2010, 2020]\n",
    "    ],\n",
    "    names = ['city', 'year']\n",
    ")\n",
    "\n",
    "columns = pd.MultiIndex.from_product([\n",
    "    ['person_1', 'person_2', 'person_3'],\n",
    "    ['job_1', 'job_2']\n",
    "    ],\n",
    "    names = ['worker', 'job']\n",
    ")\n",
    "\n",
    "rng = np.random.default_rng(1)\n",
    "data = rng.random((4,6))\n",
    "\n",
    "data_df = pd.DataFrame(data, index=index, columns=columns)\n",
    "print(data_df)"
   ],
   "id": "e158f7d3af3d5bc3",
   "outputs": [
    {
     "name": "stdout",
     "output_type": "stream",
     "text": [
      "worker       person_1            person_2            person_3          \n",
      "job             job_1     job_2     job_1     job_2     job_1     job_2\n",
      "city   year                                                            \n",
      "city_1 2010  0.511822  0.950464  0.144160  0.948649  0.311831  0.423326\n",
      "       2020  0.827703  0.409199  0.549594  0.027559  0.753513  0.538143\n",
      "city_2 2010  0.329732  0.788429  0.303195  0.453498  0.134042  0.403113\n",
      "       2020  0.203455  0.262313  0.750365  0.280409  0.485191  0.980737\n"
     ]
    }
   ],
   "execution_count": 37
  },
  {
   "metadata": {},
   "cell_type": "markdown",
   "source": "# Индексация и срезы (по мультииндексу)",
   "id": "96a5f06029c192ba"
  },
  {
   "metadata": {
    "ExecuteTime": {
     "end_time": "2025-02-07T19:24:57.605385Z",
     "start_time": "2025-02-07T19:24:57.597387Z"
    }
   },
   "cell_type": "code",
   "source": [
    "data = {\n",
    "    ('city_1', 2010) : 100,\n",
    "    ('city_1', 2020) : 200,\n",
    "    ('city_2', 2010) : 1001,\n",
    "    ('city_2', 2020) : 2001,\n",
    "    ('city_3', 2010) : 10001,\n",
    "    ('city_3', 2020) : 20001\n",
    "}\n",
    "\n",
    "s = pd.Series(data)\n",
    "s.index.names = ['city', 'year']\n",
    "\n",
    "print(s['city_1', 2010])\n",
    "print(s['city_1'])"
   ],
   "id": "bb9068780965b4ff",
   "outputs": [
    {
     "name": "stdout",
     "output_type": "stream",
     "text": [
      "100\n",
      "year\n",
      "2010    100\n",
      "2020    200\n",
      "dtype: int64\n"
     ]
    }
   ],
   "execution_count": 14
  },
  {
   "metadata": {
    "ExecuteTime": {
     "end_time": "2025-02-07T19:24:57.617963Z",
     "start_time": "2025-02-07T19:24:57.606385Z"
    }
   },
   "cell_type": "code",
   "source": [
    "data = {\n",
    "    ('city_1', 2010) : 100,\n",
    "    ('city_1', 2020) : 200,\n",
    "    ('city_2', 2010) : 1001,\n",
    "    ('city_2', 2020) : 2001,\n",
    "    ('city_3', 2010) : 10001,\n",
    "    ('city_3', 2020) : 20001\n",
    "}\n",
    "\n",
    "s = pd.Series(data)\n",
    "s.index.names = ['city', 'year']\n",
    "\n",
    "print(s.loc['city_1':'city_2'])\n",
    "print(s[:,2010])"
   ],
   "id": "5c4f42fb214b346b",
   "outputs": [
    {
     "name": "stdout",
     "output_type": "stream",
     "text": [
      "city    year\n",
      "city_1  2010     100\n",
      "        2020     200\n",
      "city_2  2010    1001\n",
      "        2020    2001\n",
      "dtype: int64\n",
      "city\n",
      "city_1      100\n",
      "city_2     1001\n",
      "city_3    10001\n",
      "dtype: int64\n"
     ]
    }
   ],
   "execution_count": 15
  },
  {
   "metadata": {
    "ExecuteTime": {
     "end_time": "2025-02-07T19:24:57.626963Z",
     "start_time": "2025-02-07T19:24:57.618965Z"
    }
   },
   "cell_type": "code",
   "source": [
    "data = {\n",
    "    ('city_1', 2010) : 100,\n",
    "    ('city_1', 2020) : 200,\n",
    "    ('city_2', 2010) : 1001,\n",
    "    ('city_2', 2020) : 2001,\n",
    "    ('city_3', 2010) : 10001,\n",
    "    ('city_3', 2020) : 20001\n",
    "}\n",
    "\n",
    "s = pd.Series(data)\n",
    "s.index.names = ['city', 'year']\n",
    "\n",
    "print(s[s > 2000])\n",
    "print(s[['city_1','city_3']])"
   ],
   "id": "80c38d9d6d707782",
   "outputs": [
    {
     "name": "stdout",
     "output_type": "stream",
     "text": [
      "city    year\n",
      "city_2  2020     2001\n",
      "city_3  2010    10001\n",
      "        2020    20001\n",
      "dtype: int64\n",
      "city    year\n",
      "city_1  2010      100\n",
      "        2020      200\n",
      "city_3  2010    10001\n",
      "        2020    20001\n",
      "dtype: int64\n"
     ]
    }
   ],
   "execution_count": 16
  },
  {
   "metadata": {
    "ExecuteTime": {
     "end_time": "2025-02-07T19:24:57.640388Z",
     "start_time": "2025-02-07T19:24:57.627966Z"
    }
   },
   "cell_type": "code",
   "source": [
    "index = pd.MultiIndex.from_product([\n",
    "    ['city_1', 'city_2'],\n",
    "    [2010, 2020]\n",
    "    ],\n",
    "    names = ['city', 'year']\n",
    ")\n",
    "print(index)\n",
    "\n",
    "columns = pd.MultiIndex.from_product([\n",
    "    ['person_1', 'person_2', 'person_3'],\n",
    "    ['job_1', 'job_2']\n",
    "    ],\n",
    "    names = ['worker', 'job']\n",
    ")\n",
    "rng = np.random.default_rng(1)\n",
    "data = rng.random((4,6))\n",
    "\n",
    "data_df = pd.DataFrame(data, index=index, columns=columns)\n",
    "print(data_df)"
   ],
   "id": "a7f6961e6cf0af6e",
   "outputs": [
    {
     "name": "stdout",
     "output_type": "stream",
     "text": [
      "MultiIndex([('city_1', 2010),\n",
      "            ('city_1', 2020),\n",
      "            ('city_2', 2010),\n",
      "            ('city_2', 2020)],\n",
      "           names=['city', 'year'])\n",
      "worker       person_1            person_2            person_3          \n",
      "job             job_1     job_2     job_1     job_2     job_1     job_2\n",
      "city   year                                                            \n",
      "city_1 2010  0.511822  0.950464  0.144160  0.948649  0.311831  0.423326\n",
      "       2020  0.827703  0.409199  0.549594  0.027559  0.753513  0.538143\n",
      "city_2 2010  0.329732  0.788429  0.303195  0.453498  0.134042  0.403113\n",
      "       2020  0.203455  0.262313  0.750365  0.280409  0.485191  0.980737\n"
     ]
    }
   ],
   "execution_count": 17
  },
  {
   "metadata": {},
   "cell_type": "markdown",
   "source": "# Перегруппировка мультииндексов",
   "id": "d10d52c6f0f6a220"
  },
  {
   "metadata": {
    "ExecuteTime": {
     "end_time": "2025-02-07T19:24:57.655854Z",
     "start_time": "2025-02-07T19:24:57.641300Z"
    }
   },
   "cell_type": "code",
   "source": [
    "rng = np.random.default_rng(1)\n",
    "\n",
    "index = pd.MultiIndex.from_product([\n",
    "    ['a', 'c', 'b'],\n",
    "    [1,2]\n",
    "])\n",
    "\n",
    "data = pd.Series(rng.random(6), index=index)\n",
    "data.index.names = ['char', 'int']\n",
    "\n",
    "print(data)\n",
    "#print(data['a':'b'])\n",
    "\n",
    "data = data.sort_index()\n",
    "print(data)\n",
    "print(data['a':'b'])"
   ],
   "id": "fd3db3185ef99052",
   "outputs": [
    {
     "name": "stdout",
     "output_type": "stream",
     "text": [
      "char  int\n",
      "a     1      0.511822\n",
      "      2      0.950464\n",
      "c     1      0.144160\n",
      "      2      0.948649\n",
      "b     1      0.311831\n",
      "      2      0.423326\n",
      "dtype: float64\n",
      "char  int\n",
      "a     1      0.511822\n",
      "      2      0.950464\n",
      "b     1      0.311831\n",
      "      2      0.423326\n",
      "c     1      0.144160\n",
      "      2      0.948649\n",
      "dtype: float64\n",
      "char  int\n",
      "a     1      0.511822\n",
      "      2      0.950464\n",
      "b     1      0.311831\n",
      "      2      0.423326\n",
      "dtype: float64\n"
     ]
    }
   ],
   "execution_count": 18
  },
  {
   "metadata": {},
   "cell_type": "markdown",
   "source": "Можно перегруппировывать мультииндексы в желаемой последовательности:",
   "id": "12217135fd6ff56b"
  },
  {
   "metadata": {
    "ExecuteTime": {
     "end_time": "2025-02-07T19:24:57.675668Z",
     "start_time": "2025-02-07T19:24:57.656856Z"
    }
   },
   "cell_type": "code",
   "source": [
    "index = [\n",
    "    ('city_1', 2010, 1),\n",
    "    ('city_1', 2010, 2),\n",
    "    \n",
    "    ('city_1', 2020, 1),\n",
    "    ('city_1', 2020, 2),\n",
    "    \n",
    "    ('city_2', 2010, 1),\n",
    "    ('city_2', 2010, 2),\n",
    "    \n",
    "    ('city_2', 2020, 1),\n",
    "    ('city_2', 2020, 2),\n",
    "    \n",
    "    ('city_3', 2010, 1),\n",
    "    ('city_3', 2010, 2),\n",
    "    \n",
    "    ('city_3', 2020, 1),\n",
    "    ('city_3', 2020, 2)\n",
    "]\n",
    "\n",
    "population = [\n",
    "    101,\n",
    "    1010,\n",
    "    201,\n",
    "    2010,\n",
    "    102,\n",
    "    1020,\n",
    "    202,\n",
    "    2020,\n",
    "    103,\n",
    "    1030,\n",
    "    203,\n",
    "    2030\n",
    "]\n",
    "\n",
    "pop = pd.Series(population, index=index)\n",
    "\n",
    "i = pd.MultiIndex.from_tuples(index)\n",
    "pop = pop.reindex(i)\n",
    "\n",
    "print(pop)\n",
    "print(pop.unstack())\n",
    "print(pop.unstack(level=0))\n",
    "print(pop.unstack(level=1))\n",
    "print(pop.unstack(level=2))"
   ],
   "id": "219d87aeb15a5a37",
   "outputs": [
    {
     "name": "stdout",
     "output_type": "stream",
     "text": [
      "city_1  2010  1     101\n",
      "              2    1010\n",
      "        2020  1     201\n",
      "              2    2010\n",
      "city_2  2010  1     102\n",
      "              2    1020\n",
      "        2020  1     202\n",
      "              2    2020\n",
      "city_3  2010  1     103\n",
      "              2    1030\n",
      "        2020  1     203\n",
      "              2    2030\n",
      "dtype: int64\n",
      "               1     2\n",
      "city_1 2010  101  1010\n",
      "       2020  201  2010\n",
      "city_2 2010  102  1020\n",
      "       2020  202  2020\n",
      "city_3 2010  103  1030\n",
      "       2020  203  2030\n",
      "        city_1  city_2  city_3\n",
      "2010 1     101     102     103\n",
      "     2    1010    1020    1030\n",
      "2020 1     201     202     203\n",
      "     2    2010    2020    2030\n",
      "          2010  2020\n",
      "city_1 1   101   201\n",
      "       2  1010  2010\n",
      "city_2 1   102   202\n",
      "       2  1020  2020\n",
      "city_3 1   103   203\n",
      "       2  1030  2030\n",
      "               1     2\n",
      "city_1 2010  101  1010\n",
      "       2020  201  2010\n",
      "city_2 2010  102  1020\n",
      "       2020  202  2020\n",
      "city_3 2010  103  1030\n",
      "       2020  203  2030\n"
     ]
    }
   ],
   "execution_count": 19
  },
  {
   "metadata": {},
   "cell_type": "markdown",
   "source": "# NumPy конкатенация",
   "id": "7dd11f31dde8013b"
  },
  {
   "metadata": {
    "ExecuteTime": {
     "end_time": "2025-02-07T19:24:57.681955Z",
     "start_time": "2025-02-07T19:24:57.676670Z"
    }
   },
   "cell_type": "code",
   "source": [
    "x = [1, 2, 3]\n",
    "y = [4, 5, 6]\n",
    "z = [7, 8, 9]\n",
    "\n",
    "print(np.concatenate([x, y, z]))"
   ],
   "id": "ca4d5abd9893fa77",
   "outputs": [
    {
     "name": "stdout",
     "output_type": "stream",
     "text": [
      "[1 2 3 4 5 6 7 8 9]\n"
     ]
    }
   ],
   "execution_count": 20
  },
  {
   "metadata": {
    "ExecuteTime": {
     "end_time": "2025-02-07T19:24:57.690280Z",
     "start_time": "2025-02-07T19:24:57.682957Z"
    }
   },
   "cell_type": "code",
   "source": [
    "x = [[1, 2, 3]]\n",
    "y = [[4, 5, 6]]\n",
    "z = [[7, 8, 9]]\n",
    "\n",
    "print(np.concatenate([x, y, z]))\n",
    "print(np.concatenate([x, y, z], axis=1))\n",
    "print(np.concatenate([x, y, z], axis=0))"
   ],
   "id": "d67e079ba35002de",
   "outputs": [
    {
     "name": "stdout",
     "output_type": "stream",
     "text": [
      "[[1 2 3]\n",
      " [4 5 6]\n",
      " [7 8 9]]\n",
      "[[1 2 3 4 5 6 7 8 9]]\n",
      "[[1 2 3]\n",
      " [4 5 6]\n",
      " [7 8 9]]\n"
     ]
    }
   ],
   "execution_count": 21
  },
  {
   "metadata": {},
   "cell_type": "markdown",
   "source": "# Pandas - конкатенация",
   "id": "18068388e684f3e7"
  },
  {
   "metadata": {
    "ExecuteTime": {
     "end_time": "2025-02-07T19:24:57.698374Z",
     "start_time": "2025-02-07T19:24:57.691282Z"
    }
   },
   "cell_type": "code",
   "source": [
    "ser1 = pd.Series(['a', 'b', 'c'], index=[1,2,3])\n",
    "ser2 = pd.Series(['d', 'e', 'f'], index=[4,5,6])\n",
    "\n",
    "print(pd.concat([ser1,ser2]))"
   ],
   "id": "32957efd901b7821",
   "outputs": [
    {
     "name": "stdout",
     "output_type": "stream",
     "text": [
      "1    a\n",
      "2    b\n",
      "3    c\n",
      "4    d\n",
      "5    e\n",
      "6    f\n",
      "dtype: object\n"
     ]
    }
   ],
   "execution_count": 22
  },
  {
   "metadata": {
    "ExecuteTime": {
     "end_time": "2025-02-07T19:24:57.706869Z",
     "start_time": "2025-02-07T19:24:57.700376Z"
    }
   },
   "cell_type": "code",
   "source": [
    "ser1 = pd.Series(['a', 'b', 'c'], index=[1,2,3])\n",
    "ser2 = pd.Series(['d', 'e', 'f'], index=[1,2,6])\n",
    "\n",
    "print(pd.concat([ser1,ser2]))"
   ],
   "id": "950d557b7c8b8a60",
   "outputs": [
    {
     "name": "stdout",
     "output_type": "stream",
     "text": [
      "1    a\n",
      "2    b\n",
      "3    c\n",
      "1    d\n",
      "2    e\n",
      "6    f\n",
      "dtype: object\n"
     ]
    }
   ],
   "execution_count": 23
  },
  {
   "metadata": {
    "ExecuteTime": {
     "end_time": "2025-02-07T19:24:57.716220Z",
     "start_time": "2025-02-07T19:24:57.707868Z"
    }
   },
   "cell_type": "code",
   "source": [
    "ser1 = pd.Series(['a', 'b', 'c'], index=[1,2,3])\n",
    "ser2 = pd.Series(['d', 'e', 'f'], index=[1,2,6])\n",
    "\n",
    "print(pd.concat([ser1,ser2], verify_integrity=False))\n",
    "print(pd.concat([ser1,ser2], ignore_index=True))\n",
    "print(pd.concat([ser1,ser2], keys=['x', 'y']))"
   ],
   "id": "fc582c160ae6ca4c",
   "outputs": [
    {
     "name": "stdout",
     "output_type": "stream",
     "text": [
      "1    a\n",
      "2    b\n",
      "3    c\n",
      "1    d\n",
      "2    e\n",
      "6    f\n",
      "dtype: object\n",
      "0    a\n",
      "1    b\n",
      "2    c\n",
      "3    d\n",
      "4    e\n",
      "5    f\n",
      "dtype: object\n",
      "x  1    a\n",
      "   2    b\n",
      "   3    c\n",
      "y  1    d\n",
      "   2    e\n",
      "   6    f\n",
      "dtype: object\n"
     ]
    }
   ],
   "execution_count": 24
  },
  {
   "metadata": {
    "ExecuteTime": {
     "end_time": "2025-02-07T19:24:57.725404Z",
     "start_time": "2025-02-07T19:24:57.717221Z"
    }
   },
   "cell_type": "code",
   "source": [
    "ser1 = pd.Series(['a', 'b', 'c'], index=[1,2,3])\n",
    "ser2 = pd.Series(['b', 'c', 'f'], index=[4,5,6])\n",
    "\n",
    "print(pd.concat([ser1, ser2], join='outer'))\n",
    "print(pd.concat([ser1, ser2], join='inner'))"
   ],
   "id": "f9798266553082d1",
   "outputs": [
    {
     "name": "stdout",
     "output_type": "stream",
     "text": [
      "1    a\n",
      "2    b\n",
      "3    c\n",
      "4    b\n",
      "5    c\n",
      "6    f\n",
      "dtype: object\n",
      "1    a\n",
      "2    b\n",
      "3    c\n",
      "4    b\n",
      "5    c\n",
      "6    f\n",
      "dtype: object\n"
     ]
    }
   ],
   "execution_count": 25
  }
 ],
 "metadata": {
  "kernelspec": {
   "display_name": "Python 3",
   "language": "python",
   "name": "python3"
  },
  "language_info": {
   "codemirror_mode": {
    "name": "ipython",
    "version": 2
   },
   "file_extension": ".py",
   "mimetype": "text/x-python",
   "name": "python",
   "nbconvert_exporter": "python",
   "pygments_lexer": "ipython2",
   "version": "2.7.6"
  }
 },
 "nbformat": 4,
 "nbformat_minor": 5
}
