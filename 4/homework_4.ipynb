{
 "cells": [
  {
   "metadata": {
    "ExecuteTime": {
     "end_time": "2025-02-07T20:38:40.255607Z",
     "start_time": "2025-02-07T20:38:40.251595Z"
    }
   },
   "cell_type": "code",
   "source": [
    "import numpy as np\n",
    "import pandas as pd"
   ],
   "id": "fe7e3ed6d1336884",
   "outputs": [],
   "execution_count": 19
  },
  {
   "metadata": {},
   "cell_type": "markdown",
   "source": "# Домашняя работа 4",
   "id": "38e4104b25dd5883"
  },
  {
   "metadata": {},
   "cell_type": "markdown",
   "source": "### Д.З. #1. Разобраться как использовать мультииндексные ключи в данном примере\n",
   "id": "4c4d1cf22ecd13fa"
  },
  {
   "metadata": {},
   "cell_type": "markdown",
   "source": "В данном примере была ошибка, мультииндекс из кортежей был создан после создания Series и Series далее так и не получил новые многоуровневые индексы, а соответственно и DataFrame. Правильно так:",
   "id": "144d1aba7c0fc002"
  },
  {
   "metadata": {
    "ExecuteTime": {
     "end_time": "2025-02-07T20:38:40.272129Z",
     "start_time": "2025-02-07T20:38:40.259607Z"
    }
   },
   "cell_type": "code",
   "source": [
    "index = [\n",
    "    ('city_1', 2010),\n",
    "    ('city_1', 2020),\n",
    "    ('city_2', 2010),\n",
    "    ('city_2', 2020),\n",
    "    ('city_3', 2010),\n",
    "    ('city_3', 2020),\n",
    "]\n",
    "\n",
    "population = [\n",
    "    101,\n",
    "    201,\n",
    "    102,\n",
    "    202,\n",
    "    103,\n",
    "    203\n",
    "]\n",
    "\n",
    "index = pd.MultiIndex.from_tuples(index)\n",
    "pop = pd.Series(population, index = index)\n",
    "pop_df = pd.DataFrame({\n",
    "    'total' : pop,\n",
    "    'something' : [\n",
    "        10,\n",
    "        11,\n",
    "        12,\n",
    "        13,\n",
    "        14,\n",
    "        15,\n",
    "    ]\n",
    "})\n",
    "\n",
    "print(pop_df,'\\n')\n",
    "\n",
    "print(pop_df.loc['city_1', 'something'],'\\n')\n",
    "print(pop_df.loc[['city_1', 'city_3'], 'total'],'\\n')\n",
    "print(pop_df.loc[['city_1', 'city_3']],'\\n')"
   ],
   "id": "9d6ccb83a72eebbd",
   "outputs": [
    {
     "name": "stdout",
     "output_type": "stream",
     "text": [
      "             total  something\n",
      "city_1 2010    101         10\n",
      "       2020    201         11\n",
      "city_2 2010    102         12\n",
      "       2020    202         13\n",
      "city_3 2010    103         14\n",
      "       2020    203         15 \n",
      "\n",
      "2010    10\n",
      "2020    11\n",
      "Name: something, dtype: int64 \n",
      "\n",
      "city_1  2010    101\n",
      "        2020    201\n",
      "city_3  2010    103\n",
      "        2020    203\n",
      "Name: total, dtype: int64 \n",
      "\n",
      "             total  something\n",
      "city_1 2010    101         10\n",
      "       2020    201         11\n",
      "city_3 2010    103         14\n",
      "       2020    203         15 \n",
      "\n"
     ]
    }
   ],
   "execution_count": 20
  },
  {
   "metadata": {},
   "cell_type": "markdown",
   "source": "С помощью .loc и использования списка ключей, можно задавать различные комбинации ключей различных уровней. Если используется более одного ключа, то необходимо добавить ещё один вложенный список в аргумент .loc, даже если не происходит фильтрации по колонкам (см. последний пример)",
   "id": "5d5137376ca79911"
  },
  {
   "metadata": {},
   "cell_type": "markdown",
   "source": [
    "### Д.З. #2. Из получившихся данных выбрать данные по \n",
    "1. В 2020 году(для всех столбцов)\n",
    "2. По job_1 (для всех строк)\n",
    "3. Для city_1 и job_2 "
   ],
   "id": "7f041a2ad9a3469d"
  },
  {
   "metadata": {
    "ExecuteTime": {
     "end_time": "2025-02-07T20:38:40.300268Z",
     "start_time": "2025-02-07T20:38:40.289144Z"
    }
   },
   "cell_type": "code",
   "source": [
    "index = pd.MultiIndex.from_product([\n",
    "    ['city_1', 'city_2'],\n",
    "    [2010, 2020]\n",
    "    ],\n",
    "    names = ['city', 'year']\n",
    ")\n",
    "\n",
    "columns = pd.MultiIndex.from_product([\n",
    "    ['person_1', 'person_2', 'person_3'],\n",
    "    ['job_1', 'job_2']\n",
    "    ],\n",
    "    names = ['worker', 'job']\n",
    ")\n",
    "\n",
    "rng = np.random.default_rng(1)\n",
    "data = rng.random((4,6))\n",
    "\n",
    "data_df = pd.DataFrame(data, index=index, columns=columns)\n",
    "print(data_df)"
   ],
   "id": "dbdd4a7b17eb0dc2",
   "outputs": [
    {
     "name": "stdout",
     "output_type": "stream",
     "text": [
      "worker       person_1            person_2            person_3          \n",
      "job             job_1     job_2     job_1     job_2     job_1     job_2\n",
      "city   year                                                            \n",
      "city_1 2010  0.511822  0.950464  0.144160  0.948649  0.311831  0.423326\n",
      "       2020  0.827703  0.409199  0.549594  0.027559  0.753513  0.538143\n",
      "city_2 2010  0.329732  0.788429  0.303195  0.453498  0.134042  0.403113\n",
      "       2020  0.203455  0.262313  0.750365  0.280409  0.485191  0.980737\n"
     ]
    }
   ],
   "execution_count": 21
  },
  {
   "metadata": {
    "ExecuteTime": {
     "end_time": "2025-02-07T20:50:28.648857Z",
     "start_time": "2025-02-07T20:50:28.640086Z"
    }
   },
   "cell_type": "code",
   "source": [
    "# В 2020 году(для всех столбцов)\n",
    "print(data_df.loc[(slice(None), slice(\"2020\",\"2020\")), :])"
   ],
   "id": "81dc1ce6660c1f52",
   "outputs": [
    {
     "name": "stdout",
     "output_type": "stream",
     "text": [
      "worker       person_1            person_2            person_3          \n",
      "job             job_1     job_2     job_1     job_2     job_1     job_2\n",
      "city   year                                                            \n",
      "city_1 2020  0.827703  0.409199  0.549594  0.027559  0.753513  0.538143\n",
      "city_2 2020  0.203455  0.262313  0.750365  0.280409  0.485191  0.980737\n"
     ]
    }
   ],
   "execution_count": 37
  },
  {
   "metadata": {
    "ExecuteTime": {
     "end_time": "2025-02-07T20:50:18.153716Z",
     "start_time": "2025-02-07T20:50:18.145895Z"
    }
   },
   "cell_type": "code",
   "source": [
    "# По job_1 (для всех строк)\n",
    "print(data_df.loc[:, (slice(None), slice('job_1'))])"
   ],
   "id": "6699748331a62b19",
   "outputs": [
    {
     "name": "stdout",
     "output_type": "stream",
     "text": [
      "worker       person_1  person_2  person_3\n",
      "job             job_1     job_1     job_1\n",
      "city   year                              \n",
      "city_1 2010  0.511822  0.144160  0.311831\n",
      "       2020  0.827703  0.549594  0.753513\n",
      "city_2 2010  0.329732  0.303195  0.134042\n",
      "       2020  0.203455  0.750365  0.485191\n"
     ]
    }
   ],
   "execution_count": 35
  },
  {
   "metadata": {
    "ExecuteTime": {
     "end_time": "2025-02-07T20:53:18.887999Z",
     "start_time": "2025-02-07T20:53:18.879068Z"
    }
   },
   "cell_type": "code",
   "source": [
    "# Для city_1 и job_2 \n",
    "print(data_df.loc[(slice(\"city_1\")), (slice(None), slice(\"job_2\", \"job_2\"))])"
   ],
   "id": "de4db626671fa410",
   "outputs": [
    {
     "name": "stdout",
     "output_type": "stream",
     "text": [
      "worker       person_1  person_2  person_3\n",
      "job             job_2     job_2     job_2\n",
      "city   year                              \n",
      "city_1 2010  0.950464  0.948649  0.423326\n",
      "       2020  0.409199  0.027559  0.538143\n"
     ]
    }
   ],
   "execution_count": 38
  },
  {
   "metadata": {},
   "cell_type": "markdown",
   "source": "### Д.З #3. Взять за основу DataFrame со следующей структурой ",
   "id": "1c5ec0b9e86ba158"
  },
  {
   "metadata": {
    "ExecuteTime": {
     "end_time": "2025-02-07T20:54:28.121608Z",
     "start_time": "2025-02-07T20:54:28.109777Z"
    }
   },
   "cell_type": "code",
   "source": [
    "index = pd.MultiIndex.from_product([\n",
    "    ['city_1', 'city_2'],\n",
    "    [2010, 2020]\n",
    "    ],\n",
    "    names = ['city', 'year']\n",
    ")\n",
    "print(index)\n",
    "\n",
    "columns = pd.MultiIndex.from_product([\n",
    "    ['person_1', 'person_2', 'person_3'],\n",
    "    ['job_1', 'job_2']\n",
    "    ],\n",
    "    names = ['worker', 'job']\n",
    ")\n",
    "rng = np.random.default_rng(1)\n",
    "data = rng.random((4,6))\n",
    "\n",
    "data_df = pd.DataFrame(data, index=index, columns=columns)\n",
    "print(data_df)"
   ],
   "id": "b9fd3fcad6fa1cd",
   "outputs": [
    {
     "name": "stdout",
     "output_type": "stream",
     "text": [
      "MultiIndex([('city_1', 2010),\n",
      "            ('city_1', 2020),\n",
      "            ('city_2', 2010),\n",
      "            ('city_2', 2020)],\n",
      "           names=['city', 'year'])\n",
      "worker       person_1            person_2            person_3          \n",
      "job             job_1     job_2     job_1     job_2     job_1     job_2\n",
      "city   year                                                            \n",
      "city_1 2010  0.511822  0.950464  0.144160  0.948649  0.311831  0.423326\n",
      "       2020  0.827703  0.409199  0.549594  0.027559  0.753513  0.538143\n",
      "city_2 2010  0.329732  0.788429  0.303195  0.453498  0.134042  0.403113\n",
      "       2020  0.203455  0.262313  0.750365  0.280409  0.485191  0.980737\n"
     ]
    }
   ],
   "execution_count": 39
  },
  {
   "metadata": {},
   "cell_type": "markdown",
   "source": [
    "И выполнить запрос на получение следующих данных:\n",
    "1. Все данные по person_1 и person_3\n",
    "2. Все данные по первому городу и первым двум person-ам(с использованием срезов)\n",
    "\n",
    "Приведите пример (самостоятельно) с использованием pd.IndexSlice"
   ],
   "id": "6371097b33c4175f"
  },
  {
   "metadata": {
    "ExecuteTime": {
     "end_time": "2025-02-07T21:01:11.766752Z",
     "start_time": "2025-02-07T21:01:11.758952Z"
    }
   },
   "cell_type": "code",
   "source": [
    "# Все данные по person_1 и person_3\n",
    "print(data_df[['person_1', 'person_3']])"
   ],
   "id": "f15e424b0e87dd89",
   "outputs": [
    {
     "name": "stdout",
     "output_type": "stream",
     "text": [
      "worker       person_1            person_3          \n",
      "job             job_1     job_2     job_1     job_2\n",
      "city   year                                        \n",
      "city_1 2010  0.511822  0.950464  0.311831  0.423326\n",
      "       2020  0.827703  0.409199  0.753513  0.538143\n",
      "city_2 2010  0.329732  0.788429  0.134042  0.403113\n",
      "       2020  0.203455  0.262313  0.485191  0.980737\n"
     ]
    }
   ],
   "execution_count": 40
  },
  {
   "metadata": {},
   "cell_type": "markdown",
   "source": "",
   "id": "2ebcc6f575ce46a3"
  },
  {
   "metadata": {
    "ExecuteTime": {
     "end_time": "2025-02-07T21:22:08.006839Z",
     "start_time": "2025-02-07T21:22:07.998440Z"
    }
   },
   "cell_type": "code",
   "source": [
    "# Все данные по первому городу и первым двум person-ам(с использованием срезов)\n",
    "print(data_df.loc[\"city_1\", slice(\"person_1\", \"person_2\")])"
   ],
   "id": "2f01260bb351531a",
   "outputs": [
    {
     "name": "stdout",
     "output_type": "stream",
     "text": [
      "worker  person_1            person_2          \n",
      "job        job_1     job_2     job_1     job_2\n",
      "year                                          \n",
      "2010    0.511822  0.950464  0.144160  0.948649\n",
      "2020    0.827703  0.409199  0.549594  0.027559\n"
     ]
    }
   ],
   "execution_count": 66
  },
  {
   "metadata": {},
   "cell_type": "markdown",
   "source": "Приведите пример (самостоятельно) с использованием pd.IndexSlice:",
   "id": "d60f09abecd1c72a"
  },
  {
   "metadata": {
    "ExecuteTime": {
     "end_time": "2025-02-07T21:25:26.082626Z",
     "start_time": "2025-02-07T21:25:26.073588Z"
    }
   },
   "cell_type": "code",
   "source": [
    "idx = pd.IndexSlice\n",
    "print(data_df.loc[idx[:, \"2010\":\"2010\"], idx[:, \"job_1\"]])"
   ],
   "id": "586d7a6ff4081d3f",
   "outputs": [
    {
     "name": "stdout",
     "output_type": "stream",
     "text": [
      "worker       person_1  person_2  person_3\n",
      "job             job_1     job_1     job_1\n",
      "city   year                              \n",
      "city_1 2010  0.511822  0.144160  0.311831\n",
      "city_2 2010  0.329732  0.303195  0.134042\n"
     ]
    }
   ],
   "execution_count": 68
  },
  {
   "metadata": {},
   "cell_type": "markdown",
   "source": "### Д.З. #4. Привести пример использования inner и outer джойнов для Series (на данных предыдущего примера)",
   "id": "25355909c9719bbc"
  },
  {
   "metadata": {},
   "cell_type": "markdown",
   "source": "В документации упоминаний о использовании аргумента join для Series не нашел. Этот аргумент нужен при конкатенации DataFrame, чтобы определить, нужно ли оставить те columns, которых нет в одном из сливаемых объектов (и заполнить пустые индексы NaN) (join=\"outer\", по умолч.) или оставить только те columns, которые есть в обоих сливаемых DataFrame",
   "id": "4d9f126b29ee8b55"
  },
  {
   "metadata": {
    "ExecuteTime": {
     "end_time": "2025-02-07T21:34:36.801844Z",
     "start_time": "2025-02-07T21:34:36.789458Z"
    }
   },
   "cell_type": "code",
   "source": [
    "\n",
    "df1 = pd.DataFrame([['a', 1], ['b', 2]],\n",
    "                   columns=['letter', 'number'])\n",
    "df2 = pd.DataFrame([['c', 3, 'cat'], ['d', 4, 'dog']],\n",
    "                   columns=['letter', 'number', 'animal'])\n",
    "\n",
    "print(pd.concat([df1, df2], join='outer'), '\\n')\n",
    "print(pd.concat([df1, df2], join='inner'))"
   ],
   "id": "ff6813faaae2b3ab",
   "outputs": [
    {
     "name": "stdout",
     "output_type": "stream",
     "text": [
      "  letter  number animal\n",
      "0      a       1    NaN\n",
      "1      b       2    NaN\n",
      "0      c       3    cat\n",
      "1      d       4    dog \n",
      "\n",
      "  letter  number\n",
      "0      a       1\n",
      "1      b       2\n",
      "0      c       3\n",
      "1      d       4\n"
     ]
    }
   ],
   "execution_count": 71
  },
  {
   "metadata": {},
   "cell_type": "code",
   "outputs": [],
   "execution_count": null,
   "source": "",
   "id": "985b674f887bc8f8"
  }
 ],
 "metadata": {
  "kernelspec": {
   "display_name": "Python 3",
   "language": "python",
   "name": "python3"
  },
  "language_info": {
   "codemirror_mode": {
    "name": "ipython",
    "version": 2
   },
   "file_extension": ".py",
   "mimetype": "text/x-python",
   "name": "python",
   "nbconvert_exporter": "python",
   "pygments_lexer": "ipython2",
   "version": "2.7.6"
  }
 },
 "nbformat": 4,
 "nbformat_minor": 5
}
